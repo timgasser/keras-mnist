{
 "cells": [
  {
   "cell_type": "markdown",
   "metadata": {},
   "source": [
    "# Simple models\n",
    "\n",
    "This notebook picks selected simple models from the [LeNet page](http://yann.lecun.com/exdb/mnist/) and performs setup as described in `[1]`, evaluating their performance on the MNIST classification task.  The evaluation uses 5-fold cross-validation with a stratified split strategy, and reports the error rate.\n",
    "\n",
    "`[1]` - [Gradient-Based Learning Applied to Document Recognition](http://yann.lecun.com/exdb/publis/pdf/lecun-98.pdf),  LeCun et al, Nov 1998"
   ]
  },
  {
   "cell_type": "code",
   "execution_count": 25,
   "metadata": {},
   "outputs": [
    {
     "name": "stdout",
     "output_type": "stream",
     "text": [
      "The autoreload extension is already loaded. To reload it, use:\n",
      "  %reload_ext autoreload\n"
     ]
    }
   ],
   "source": [
    "import pandas as pd\n",
    "import numpy as np\n",
    "import matplotlib.pyplot as plt\n",
    "import seaborn as sns\n",
    "\n",
    "import pickle\n",
    "\n",
    "plt.style.use('fivethirtyeight')\n",
    "# plt.rcParams['font.family'] = 'serif'\n",
    "plt.rcParams['font.serif'] = 'Helvetica'\n",
    "plt.rcParams['font.monospace'] = 'Consolas'\n",
    "plt.rcParams['font.size'] = 16\n",
    "plt.rcParams['axes.labelsize'] = 16\n",
    "plt.rcParams['axes.labelweight'] = 'bold'\n",
    "plt.rcParams['xtick.labelsize'] = 14\n",
    "plt.rcParams['ytick.labelsize'] = 14\n",
    "plt.rcParams['legend.fontsize'] = 16\n",
    "plt.rcParams['axes.titlesize'] = 20\n",
    "plt.rcParams['lines.linewidth'] = 2\n",
    "\n",
    "%matplotlib inline\n",
    "\n",
    "# for auto-reloading external modules\n",
    "%load_ext autoreload\n",
    "%autoreload 2"
   ]
  },
  {
   "cell_type": "markdown",
   "metadata": {},
   "source": [
    "## Load pickle files"
   ]
  },
  {
   "cell_type": "code",
   "execution_count": 2,
   "metadata": {},
   "outputs": [
    {
     "name": "stdout",
     "output_type": "stream",
     "text": [
      "Loading pickle files ...\n",
      "Loaded train images shape (60000, 28, 28), labels shape (60000, 1)\n",
      "Loaded test images shape (10000, 28, 28), labels shape (10000, 1)\n"
     ]
    }
   ],
   "source": [
    "# Set up the file directory and names\n",
    "DIR = '../input/'\n",
    "X_TRAIN = DIR + 'train-images-idx3-ubyte.pkl'\n",
    "Y_TRAIN = DIR + 'train-labels-idx1-ubyte.pkl'\n",
    "X_TEST = DIR + 't10k-images-idx3-ubyte.pkl'\n",
    "Y_TEST = DIR + 't10k-labels-idx1-ubyte.pkl'\n",
    "\n",
    "print('Loading pickle files ...')\n",
    "X_train = pickle.load( open( X_TRAIN, \"rb\" ) )\n",
    "y_train = pickle.load( open( Y_TRAIN, \"rb\" ) )\n",
    "X_test = pickle.load( open( X_TEST, \"rb\" ) )\n",
    "y_test = pickle.load( open( Y_TEST, \"rb\" ) )\n",
    "\n",
    "n_train = X_train.shape[0]\n",
    "n_test = X_test.shape[0]\n",
    "\n",
    "w = X_train.shape[1]\n",
    "h = X_train.shape[2]\n",
    "\n",
    "# Reshape the images so they're a single row in the numpy array\n",
    "X_train_input = X_train.reshape((n_train, w * h))\n",
    "X_test_input = X_test.reshape((n_test, w * h))\n",
    "y_train_input = y_train.squeeze()\n",
    "y_test_input = y_test.squeeze()\n",
    "\n",
    "assert X_train.shape[0] == y_train.shape[0]\n",
    "assert X_test.shape[0] == y_test.shape[0]\n",
    "\n",
    "print('Loaded train images shape {}, labels shape {}'.format(X_train.shape, y_train.shape))\n",
    "print('Loaded test images shape {}, labels shape {}'.format(X_test.shape, y_test.shape))"
   ]
  },
  {
   "cell_type": "markdown",
   "metadata": {},
   "source": [
    "## Helper functions\n",
    "\n",
    "Before trying a few different algorithms out, let's define a reusable set of functions to cross-validate and predict on the test set. Because scikit-learn has such a uniform interface, we can re-use these on pretty much any classification algorithm out there."
   ]
  },
  {
   "cell_type": "code",
   "execution_count": 3,
   "metadata": {},
   "outputs": [],
   "source": [
    "from sklearn.model_selection import StratifiedKFold, cross_val_score\n",
    "\n",
    "def evaluate_model(model, scoring, X, y, n_folds, n_jobs, random_state):\n",
    "    ''' Evaluates the performance of a model using X and y with n_folds cross validation'''\n",
    "#     print('Running {}-fold cross validation on {} examples ..'.format(n_folds, count))\n",
    "    cv = StratifiedKFold(n_folds, shuffle=True, random_state=random_state)\n",
    "    accuracies = cross_val_score(estimator=model, X=X, y=y, cv=cv, scoring=scoring, \n",
    "                                 n_jobs=n_jobs, verbose=0)\n",
    "    errors = [1 - acc for acc in accuracies]\n",
    "    return errors\n",
    "\n",
    "def train_model(model, X, y, random_state):\n",
    "    ''' Trains and returns model'''\n",
    "#     print('Training model with {} examples ..'.format(n_examples))\n",
    "    model_fit = model.fit(X, y)\n",
    "    return model_fit\n",
    "\n",
    "def train_and_predict(model, X_train, y_train, X_test, random_state):\n",
    "    ''' Trains and makes prediction'''\n",
    "    fit_model = train_model(model, X_train, y_train, random_state)\n",
    "    y_test_pred = fit_model.predict(X_test)\n",
    "    return y_test_pred\n",
    "\n",
    "def train_and_evaluate(model, X_train, y_train, X_test, y_test, random_state):\n",
    "    ''' Trains the model, predicts on test set, evaluates performance'''\n",
    "    fit_model = train_model(model, X_train, y_train, random_state)\n",
    "    acc = fit_model.score(X_test, y_test)\n",
    "    error = 1.0 - acc\n",
    "    return error\n",
    "    \n",
    "def mean_std(values):\n",
    "    '''Calculates the mean and std dev of the input values\n",
    "    INPUT: List or numpy array of values\n",
    "    RETURNS (mean, std)\n",
    "    '''\n",
    "    mean = np.mean(values)\n",
    "    std = np.std(values)\n",
    "    return mean, std"
   ]
  },
  {
   "cell_type": "markdown",
   "metadata": {},
   "source": [
    "## Global setup\n",
    "\n",
    "There are a couple of different ways to speed up the training. We can spread the work over multiple cores (if the algorithm supports it), this is controlled in scikit-learn's `n_jobs` parameters. We can also reduce the training set, which will decrease the performance of algorithms. But if all algorithms are operating from the same reduced training dataset, we can still compare relative performance. Testing always has to be done on the full set."
   ]
  },
  {
   "cell_type": "code",
   "execution_count": 4,
   "metadata": {},
   "outputs": [
    {
     "name": "stdout",
     "output_type": "stream",
     "text": [
      "Train images shape (60000, 784), labels shape (60000,)\n",
      "Test images shape (10000, 784), labels shape (10000,)\n"
     ]
    }
   ],
   "source": [
    "from sklearn.model_selection import train_test_split\n",
    "\n",
    "N_JOBS=-2 # Leave 1 core free for UI updates\n",
    "VERBOSE=1 # 3 is the most verbose level\n",
    "SEED = 1234 # Fix the seed for repeatability\n",
    "MAX_ITER = 100 # L-BFGS may show warnings that it doesn't converge\n",
    "N_FOLDS = 5 # How may folds to do k-folds cross validation for\n",
    "RUN_CV = True # Run Cross-validation on training set?\n",
    "\n",
    "scores = dict() # Store the scores in here\n",
    "\n",
    "# Create a stratified, shuffled subset of the training data if needed\n",
    "N = n_train # How may training examples to use\n",
    "if N < n_train:\n",
    "    X_train, _, y_train, _ = train_test_split(X_train_input, y_train_input, \n",
    "                                          train_size=N, random_state=SEED)\n",
    "else:\n",
    "    X_train = X_train_input\n",
    "    y_train = y_train_input\n",
    "    \n",
    "X_test = X_test_input\n",
    "y_test = y_test_input\n",
    "\n",
    "print('Train images shape {}, labels shape {}'.format(X_train.shape, y_train.shape))\n",
    "print('Test images shape {}, labels shape {}'.format(X_test.shape, y_test.shape))"
   ]
  },
  {
   "cell_type": "markdown",
   "metadata": {},
   "source": [
    "## [1] C.1 - Logistic regression\n",
    "\n",
    "Logistic regression is a simple model to train that's a good baseline to work from. We're using the `multinomial` option for the model, which minimizes the error across the entire probability distribution. This most closely corresponds to the 'Pairwise linear' error rate of 7.6% in `[1]`.  Our model has a 5-fold CV error of 8.1%  on the training set, and test error of 7.49%. This is 0.11% different to the 7.6% error reported in [1] C.1, pretty close."
   ]
  },
  {
   "cell_type": "code",
   "execution_count": 5,
   "metadata": {},
   "outputs": [
    {
     "name": "stderr",
     "output_type": "stream",
     "text": [
      "/home/tim/anaconda3/envs/tensorflow/lib/python3.5/site-packages/sklearn/linear_model/logistic.py:717: UserWarning: lbfgs failed to converge. Increase the number of iterations.\n",
      "  warnings.warn(\"lbfgs failed to converge. Increase the number \"\n",
      "[Parallel(n_jobs=1)]: Done   1 out of   1 | elapsed:  3.5min finished\n",
      "/home/tim/anaconda3/envs/tensorflow/lib/python3.5/site-packages/sklearn/linear_model/logistic.py:717: UserWarning: lbfgs failed to converge. Increase the number of iterations.\n",
      "  warnings.warn(\"lbfgs failed to converge. Increase the number \"\n",
      "[Parallel(n_jobs=1)]: Done   1 out of   1 | elapsed:  3.5min finished\n",
      "/home/tim/anaconda3/envs/tensorflow/lib/python3.5/site-packages/sklearn/linear_model/logistic.py:717: UserWarning: lbfgs failed to converge. Increase the number of iterations.\n",
      "  warnings.warn(\"lbfgs failed to converge. Increase the number \"\n",
      "[Parallel(n_jobs=1)]: Done   1 out of   1 | elapsed:  3.7min finished\n",
      "/home/tim/anaconda3/envs/tensorflow/lib/python3.5/site-packages/sklearn/linear_model/logistic.py:717: UserWarning: lbfgs failed to converge. Increase the number of iterations.\n",
      "  warnings.warn(\"lbfgs failed to converge. Increase the number \"\n",
      "[Parallel(n_jobs=1)]: Done   1 out of   1 | elapsed:  3.7min finished\n",
      "/home/tim/anaconda3/envs/tensorflow/lib/python3.5/site-packages/sklearn/linear_model/logistic.py:717: UserWarning: lbfgs failed to converge. Increase the number of iterations.\n",
      "  warnings.warn(\"lbfgs failed to converge. Increase the number \"\n",
      "[Parallel(n_jobs=1)]: Done   1 out of   1 | elapsed:  3.7min finished\n"
     ]
    },
    {
     "name": "stdout",
     "output_type": "stream",
     "text": [
      "Logistic regression CV on 60000 examples. Mean error 0.089467, Std dev 0.001910\n",
      "Logistic regression error 0.079100\n"
     ]
    },
    {
     "name": "stderr",
     "output_type": "stream",
     "text": [
      "/home/tim/anaconda3/envs/tensorflow/lib/python3.5/site-packages/sklearn/linear_model/logistic.py:717: UserWarning: lbfgs failed to converge. Increase the number of iterations.\n",
      "  warnings.warn(\"lbfgs failed to converge. Increase the number \"\n",
      "[Parallel(n_jobs=1)]: Done   1 out of   1 | elapsed:  4.4min finished\n"
     ]
    }
   ],
   "source": [
    "from sklearn.linear_model import LogisticRegression\n",
    "\n",
    "logreg_model = LogisticRegression(solver='lbfgs', multi_class='multinomial', \n",
    "                                  max_iter=MAX_ITER, \n",
    "                                  verbose=VERBOSE, random_state=SEED) \n",
    "\n",
    "if RUN_CV:\n",
    "    errors = evaluate_model(model=logreg_model, scoring='accuracy', \n",
    "                            X=X_train, y=y_train, n_folds=N_FOLDS, \n",
    "                            n_jobs=N_JOBS, random_state=SEED)\n",
    "\n",
    "    cv_error_mean, cv_error_std = mean_std(errors)\n",
    "    print('Logistic regression CV on {} examples. Mean error {:.6f}, Std dev {:.6f}'.format(N, cv_error_mean, cv_error_std))\n",
    "\n",
    "test_error = train_and_evaluate(model=logreg_model, \n",
    "                                X_train=X_train, y_train=y_train, \n",
    "                                X_test=X_test, y_test=y_test, \n",
    "                                random_state=SEED)\n",
    "\n",
    "scores['log_reg'] = test_error\n",
    "print('Logistic regression error {:.6f}'.format(test_error))"
   ]
  },
  {
   "cell_type": "markdown",
   "metadata": {},
   "source": [
    "## [1] C.2 k-Nearest Neighbours\n",
    "\n",
    "Let's try kNN to classify the numbers.  This is a non-linear classification algorithm that accepts a single hyperparameter to control the number of neighbours, `k`.  [1] C.2. used  a `k` of 3, which gave an error rate of 5% on the test set.  When we ran kNN with k=3 and Euclidean distance metric the test error was 2.95%. This was slightly higher than the deslanted data result of 2.4% reported in the paper."
   ]
  },
  {
   "cell_type": "code",
   "execution_count": 6,
   "metadata": {},
   "outputs": [
    {
     "name": "stdout",
     "output_type": "stream",
     "text": [
      "kNN CV on 60000 examples. Mean error 0.028500, Std dev 0.002017\n",
      "kNN test error 0.029500\n"
     ]
    }
   ],
   "source": [
    "from sklearn.neighbors import KNeighborsClassifier\n",
    "\n",
    "knn_model = KNeighborsClassifier(n_neighbors=3, metric='euclidean', p=1, n_jobs=N_JOBS)\n",
    "\n",
    "if RUN_CV: \n",
    "    errors = evaluate_model(knn_model, 'accuracy', X_train, y_train,  \n",
    "                            n_folds=N_FOLDS, n_jobs=N_JOBS, random_state=SEED)\n",
    "    cv_error_mean, cv_error_std = mean_std(errors)\n",
    "    print('kNN CV on {} examples. Mean error {:.6f}, Std dev {:.6f}'.format(N, cv_error_mean, cv_error_std))\n",
    "\n",
    "test_error = train_and_evaluate(model=knn_model, \n",
    "                                X_train=X_train, y_train=y_train, \n",
    "                                X_test=X_test, y_test=y_test, \n",
    "                                random_state=SEED)\n",
    "\n",
    "scores['knn'] = test_error\n",
    "print('kNN test error {:.6f}'.format(test_error))"
   ]
  },
  {
   "cell_type": "markdown",
   "metadata": {},
   "source": [
    "## [1] C.3 PCA and Polynomial Classifier\n",
    "\n",
    "This section of the paper uses a series of pre-processing steps to help a logistic regression (similar to C.1). The pre-processing stages are:\n",
    "\n",
    "* Subtract the mean of each input component.\n",
    "* Do a PCA on the resulting data, keeping the top 40 features explaining the variance.\n",
    "* Add polynomial terms to the input features. The 40 input PCA features multiply up to 821\n",
    "* Train a multinomial logistic regression on the resulting 821 features.\n",
    "\n",
    "[1] C.3 reports a test set accuracy of 3.3%. Our model reports 3.2%, matching to within 0.1%."
   ]
  },
  {
   "cell_type": "code",
   "execution_count": 7,
   "metadata": {},
   "outputs": [
    {
     "name": "stdout",
     "output_type": "stream",
     "text": [
      "Subtracting mean from training data\n",
      "Projecting training data onto top 40 PCA basis vectors\n",
      "Generating 821 interaction terms between PCA data\n",
      "Training data shape (60000, 821)\n",
      "Subtracting mean of training data from test data\n",
      "Projecting test data onto top 40 PCA basis vectors\n",
      "Test data shape (10000, 821)\n",
      "Training logistic regression model on PCA interaction terms\n"
     ]
    },
    {
     "name": "stderr",
     "output_type": "stream",
     "text": [
      "[Parallel(n_jobs=1)]: Done   1 out of   1 | elapsed:  1.2min finished\n",
      "[Parallel(n_jobs=1)]: Done   1 out of   1 | elapsed:  1.3min finished\n",
      "[Parallel(n_jobs=1)]: Done   1 out of   1 | elapsed:  1.4min finished\n",
      "[Parallel(n_jobs=1)]: Done   1 out of   1 | elapsed:  1.4min finished\n",
      "[Parallel(n_jobs=1)]: Done   1 out of   1 | elapsed:  1.5min finished\n"
     ]
    },
    {
     "name": "stdout",
     "output_type": "stream",
     "text": [
      "Logistic regression CV on 60000 examples. Mean error 0.034467, Std dev 0.001868\n",
      "Logistic regression error 0.033600\n"
     ]
    },
    {
     "name": "stderr",
     "output_type": "stream",
     "text": [
      "[Parallel(n_jobs=1)]: Done   1 out of   1 | elapsed:  2.8min finished\n"
     ]
    }
   ],
   "source": [
    "from sklearn.decomposition import PCA\n",
    "from sklearn.preprocessing import PolynomialFeatures\n",
    "\n",
    "N_COMP=40\n",
    "\n",
    "### TRAIN DATA ###\n",
    "\n",
    "# Need to subtract the mean of the training data first\n",
    "print('Subtracting mean from training data')\n",
    "X_train_mean = np.mean(X_train, axis=0)\n",
    "X_train_pca = X_train - X_train_mean\n",
    "\n",
    "# now do PCA, keep first 40 components\n",
    "print('Projecting training data onto top {} PCA basis vectors'.format(N_COMP))\n",
    "pca = PCA(n_components=N_COMP)\n",
    "pca.fit(X_train_pca)\n",
    "X_train_pca = pca.transform(X_train_pca)\n",
    "\n",
    "# Create interaction terms between the 40 top PCA components\n",
    "poly = PolynomialFeatures(degree=2, interaction_only=True)\n",
    "poly = poly.fit(X_train_pca)\n",
    "n_poly = poly.n_output_features_\n",
    "print('Generating {} interaction terms between PCA data'.format(n_poly))\n",
    "X_train_pca_poly = poly.transform(X_train_pca)\n",
    "print('Training data shape {}'.format(X_train_pca_poly.shape))\n",
    "\n",
    "### TEST DATA ###\n",
    "\n",
    "# Need to subtract the mean of the training data first\n",
    "print('Subtracting mean of training data from test data')\n",
    "# X_test_mean = np.mean(X_train, axis=0)\n",
    "X_test_pca = X_test - X_train_mean\n",
    "\n",
    "# Don't refit PCA to the test data ! Just transform\n",
    "print('Projecting test data onto top {} PCA basis vectors'.format(N_COMP))\n",
    "# pca = PCA(n_components=N_COMP)\n",
    "# pca.fit(X_test_pca)\n",
    "X_test_pca = pca.transform(X_test_pca)\n",
    "\n",
    "# Generate interaction polynomical terms\n",
    "# poly = PolynomialFeatures(degree=2, interaction_only=True)\n",
    "# poly = poly.fit(X_test_pca)\n",
    "X_test_pca_poly = poly.transform(X_test_pca)\n",
    "print('Test data shape {}'.format(X_test_pca_poly.shape))\n",
    "\n",
    "### MODEL ###\n",
    "print('Training logistic regression model on PCA interaction terms')\n",
    "\n",
    "logreg_model = LogisticRegression(solver='lbfgs', multi_class='multinomial', \n",
    "                                  max_iter=MAX_ITER, \n",
    "                                  verbose=VERBOSE, random_state=SEED) \n",
    "\n",
    "if RUN_CV:\n",
    "    errors = evaluate_model(model=logreg_model, scoring='accuracy', \n",
    "                            X=X_train_pca_poly, y=y_train, n_folds=N_FOLDS, \n",
    "                            n_jobs=N_JOBS, random_state=SEED)\n",
    "\n",
    "    cv_error_mean, cv_error_std = mean_std(errors)\n",
    "    print('Logistic regression CV on {} examples. Mean error {:.6f}, Std dev {:.6f}'.format(N, cv_error_mean, cv_error_std))\n",
    "  \n",
    "\n",
    "test_error = train_and_evaluate(model=logreg_model, \n",
    "                                X_train=X_train_pca_poly, y_train=y_train, \n",
    "                                X_test=X_test_pca_poly, y_test=y_test, \n",
    "                                random_state=SEED)\n",
    "\n",
    "scores['pca_int_logreg'] = test_error\n",
    "print('Logistic regression error {:.6f}'.format(test_error))"
   ]
  },
  {
   "cell_type": "markdown",
   "metadata": {},
   "source": [
    "## [1] C.4  Radial Basis Function Network\n",
    "\n",
    "I'm going to skip this one for now.  RBFNs are fully connected neural nets that use RBFs as their activation function. I couldn't find anything similar in scikit learn, or Tensorflow. I might come back to this one later.\n"
   ]
  },
  {
   "cell_type": "markdown",
   "metadata": {},
   "source": [
    "## [1]  SVM Poly 4\n",
    "\n",
    "Although not mentioned explicitly in the sections of the paper,  Fig 9 on page 12 shows an `SVM poly 4` entry with an error of 1.1%. It would be a shame to miss out SVMs in a classification problem, so I'll check the performance here."
   ]
  },
  {
   "cell_type": "code",
   "execution_count": 8,
   "metadata": {},
   "outputs": [
    {
     "name": "stdout",
     "output_type": "stream",
     "text": [
      "Standardising input features before SVM\n"
     ]
    },
    {
     "name": "stderr",
     "output_type": "stream",
     "text": [
      "/home/tim/anaconda3/envs/tensorflow/lib/python3.5/site-packages/sklearn/utils/validation.py:429: DataConversionWarning: Data with input dtype uint8 was converted to float64 by StandardScaler.\n",
      "  warnings.warn(msg, _DataConversionWarning)\n"
     ]
    },
    {
     "name": "stdout",
     "output_type": "stream",
     "text": [
      "Training SVM\n",
      "Evaluating SVM\n",
      "SVM Poly-4 60000 examples. Mean error 0.028333, Std dev 0.000950\n",
      "[LibSVM]SVM Poly-4  regression error 0.132400\n"
     ]
    }
   ],
   "source": [
    "from sklearn.svm import SVC\n",
    "from sklearn.preprocessing import StandardScaler\n",
    "\n",
    "print('Standardising input features before SVM')\n",
    "scaler = StandardScaler()\n",
    "scaler.fit(X_train)\n",
    "X_train_std = scaler.transform(X_train)\n",
    "\n",
    "scaler = StandardScaler()\n",
    "scaler.fit(X_test)\n",
    "X_test_std = scaler.transform(X_test)\n",
    "\n",
    "print('Training SVM')\n",
    "clf = SVC(C=1.0, kernel='poly', degree=4, verbose=True)\n",
    "\n",
    "print('Evaluating SVM')\n",
    "if RUN_CV:\n",
    "    errors = evaluate_model(clf, 'accuracy', X_train, y_train,  \n",
    "                            n_folds=N_FOLDS, n_jobs=N_JOBS, random_state=SEED)\n",
    "    cv_error_mean, cv_error_std = mean_std(errors)\n",
    "    print('SVM Poly-4 {} examples. Mean error {:.6f}, Std dev {:.6f}'.format(N, cv_error_mean, cv_error_std))\n",
    "\n",
    "clf.fit(X_train_std, y_train)\n",
    "accuracy = clf.score(X_test_std, y_test)\n",
    "error = 1.0 - accuracy\n",
    "\n",
    "scores['svm_poly4'] = error\n",
    "print('SVM Poly-4  regression error {:.6f}'.format(error))"
   ]
  },
  {
   "cell_type": "markdown",
   "metadata": {},
   "source": [
    "# Recap of scores for simple models"
   ]
  },
  {
   "cell_type": "code",
   "execution_count": 34,
   "metadata": {},
   "outputs": [
    {
     "data": {
      "text/html": [
       "<div>\n",
       "<style>\n",
       "    .dataframe thead tr:only-child th {\n",
       "        text-align: right;\n",
       "    }\n",
       "\n",
       "    .dataframe thead th {\n",
       "        text-align: left;\n",
       "    }\n",
       "\n",
       "    .dataframe tbody tr th {\n",
       "        vertical-align: top;\n",
       "    }\n",
       "</style>\n",
       "<table border=\"1\" class=\"dataframe\">\n",
       "  <thead>\n",
       "    <tr style=\"text-align: right;\">\n",
       "      <th></th>\n",
       "      <th>error</th>\n",
       "    </tr>\n",
       "  </thead>\n",
       "  <tbody>\n",
       "    <tr>\n",
       "      <th>knn</th>\n",
       "      <td>2.95</td>\n",
       "    </tr>\n",
       "    <tr>\n",
       "      <th>pca_int_logreg</th>\n",
       "      <td>3.36</td>\n",
       "    </tr>\n",
       "    <tr>\n",
       "      <th>log_reg</th>\n",
       "      <td>7.91</td>\n",
       "    </tr>\n",
       "    <tr>\n",
       "      <th>svm_poly4</th>\n",
       "      <td>13.24</td>\n",
       "    </tr>\n",
       "  </tbody>\n",
       "</table>\n",
       "</div>"
      ],
      "text/plain": [
       "                error\n",
       "knn              2.95\n",
       "pca_int_logreg   3.36\n",
       "log_reg          7.91\n",
       "svm_poly4       13.24"
      ]
     },
     "execution_count": 34,
     "metadata": {},
     "output_type": "execute_result"
    }
   ],
   "source": [
    "simple_scores_df = pd.DataFrame.from_dict(scores, orient='index')\n",
    "simple_scores_df.columns = ['error']\n",
    "simple_scores_df['error'] *= 100\n",
    "simple_scores_df = simple_scores_df.sort_values('error', ascending=True)\n",
    "simple_scores_df.to_pickle('simple_scores.pkl')\n",
    "simple_scores_df"
   ]
  },
  {
   "cell_type": "code",
   "execution_count": 42,
   "metadata": {},
   "outputs": [
    {
     "data": {
      "image/png": "[encoded data removed]",
      "text/plain": [
       "<matplotlib.figure.Figure at 0x7f2f3456c080>"
      ]
     },
     "metadata": {},
     "output_type": "display_data"
    }
   ],
   "source": [
    "fig, ax = plt.subplots(1,1, figsize=(6,6))\n",
    "simple_scores_df.plot.barh(width=0.4, ax=ax, legend=None)\n",
    "ax.set(title=\"Simple model test-set accuracy\", ylabel=\"Algorithm\", xlabel=\"%age error\");\n",
    "plt.savefig('simple_scores.png', bbox_inches='tight', dpi=150)"
   ]
  },
  {
   "cell_type": "code",
   "execution_count": null,
   "metadata": {
    "collapsed": true
   },
   "outputs": [],
   "source": []
  }
 ],
 "metadata": {
  "anaconda-cloud": {},
  "kernelspec": {
   "display_name": "Python [default]",
   "language": "python",
   "name": "python3"
  },
  "language_info": {
   "codemirror_mode": {
    "name": "ipython",
    "version": 3
   },
   "file_extension": ".py",
   "mimetype": "text/x-python",
   "name": "python",
   "nbconvert_exporter": "python",
   "pygments_lexer": "ipython3",
   "version": "3.5.3"
  }
 },
 "nbformat": 4,
 "nbformat_minor": 2
}
