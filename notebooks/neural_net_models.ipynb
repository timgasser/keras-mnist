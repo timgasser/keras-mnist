{
 "cells": [
  {
   "cell_type": "markdown",
   "metadata": {},
   "source": [
    "# Neural network models\n",
    "\n",
    "This notebook picks up after the `simple_models` notebook. After trying a range of classification algorithms, we'll try out some of the neural network models in [1]. These include fully-connected models of varying layer sizes, and finally convolutional models including the famous LeNet-5. \n",
    "\n",
    "Along the way, we'll be using Keras which is a library sitting on top of Theano or Tensorflow. This allows easy construction, training and evaluation of neural nets. Before we get started, here's a recap of the `simple_models` notebook models.\n",
    "\n",
    "`[1]` - [Gradient-Based Learning Applied to Document Recognition](http://yann.lecun.com/exdb/publis/pdf/lecun-98.pdf),  LeCun et al, Nov 1998"
   ]
  },
  {
   "cell_type": "code",
   "execution_count": 1,
   "metadata": {
    "collapsed": true
   },
   "outputs": [],
   "source": [
    "import pandas as pd\n",
    "import numpy as np\n",
    "import matplotlib.pyplot as plt\n",
    "import seaborn as sns\n",
    "\n",
    "import pickle\n",
    "\n",
    "plt.style.use('fivethirtyeight')\n",
    "# plt.rcParams['font.family'] = 'serif'\n",
    "plt.rcParams['font.serif'] = 'Helvetica'\n",
    "plt.rcParams['font.monospace'] = 'Consolas'\n",
    "plt.rcParams['font.size'] = 16\n",
    "plt.rcParams['axes.labelsize'] = 16\n",
    "plt.rcParams['axes.labelweight'] = 'bold'\n",
    "plt.rcParams['xtick.labelsize'] = 14\n",
    "plt.rcParams['ytick.labelsize'] = 14\n",
    "plt.rcParams['legend.fontsize'] = 16\n",
    "plt.rcParams['axes.titlesize'] = 20\n",
    "plt.rcParams['lines.linewidth'] = 2\n",
    "\n",
    "%matplotlib inline\n",
    "\n",
    "# for auto-reloading external modules\n",
    "%load_ext autoreload\n",
    "%autoreload 2"
   ]
  },
  {
   "cell_type": "markdown",
   "metadata": {},
   "source": [
    "## Load pickle files\n",
    "\n",
    "The original data files are processed using the `convert_data.py` script, and written out to pickle files. We can load these in as numpy arrays."
   ]
  },
  {
   "cell_type": "code",
   "execution_count": 2,
   "metadata": {},
   "outputs": [
    {
     "name": "stdout",
     "output_type": "stream",
     "text": [
      "Loading pickle files\n"
     ]
    }
   ],
   "source": [
    "# Set up the file directory and names\n",
    "DIR = '../input/'\n",
    "X_TRAIN = DIR + 'train-images-idx3-ubyte.pkl'\n",
    "Y_TRAIN = DIR + 'train-labels-idx1-ubyte.pkl'\n",
    "X_TEST = DIR + 't10k-images-idx3-ubyte.pkl'\n",
    "Y_TEST = DIR + 't10k-labels-idx1-ubyte.pkl'\n",
    "\n",
    "def load_data():\n",
    "    '''Loads pickled ubyte files with MNIST data\n",
    "    INPUT: X_train_file, y_train_file - strings with training filenames\n",
    "           X_test_file, y_test_File - strings with test filenames\n",
    "    RETURNS: Tuple with (X_train, y_train, X_test, y_test)\n",
    "    '''\n",
    "    print('Loading pickle files')\n",
    "    try:\n",
    "        X_train = pickle.load( open( X_TRAIN, \"rb\" ) )\n",
    "        y_train = pickle.load( open( Y_TRAIN, \"rb\" ) )\n",
    "        X_test = pickle.load( open( X_TEST, \"rb\" ) )\n",
    "        y_test = pickle.load( open( Y_TEST, \"rb\" ) )\n",
    "    except:\n",
    "        print('Error loading pickle file')\n",
    "        return None\n",
    "    \n",
    "    return (X_train, y_train, X_test, y_test)\n",
    "\n",
    "X_train, y_train, X_test,  y_test = load_data()"
   ]
  },
  {
   "cell_type": "markdown",
   "metadata": {},
   "source": [
    "## Helper functions\n",
    "\n",
    "Before evaluating some models on the images, let's create some helper functions we can re-use later on. These deal with converting images to and from 1d and 2d versions, plotting images, resizing them, etc."
   ]
  },
  {
   "cell_type": "code",
   "execution_count": 3,
   "metadata": {},
   "outputs": [
    {
     "name": "stdout",
     "output_type": "stream",
     "text": [
      "Loaded train images shape (60000, 784), labels shape (60000, 1)\n",
      "Loaded test images shape (10000, 784), labels shape (10000, 1)\n"
     ]
    }
   ],
   "source": [
    "def flatten_images(X):\n",
    "    ''' Converts images to 1-d vectors\n",
    "    INPUT: X - Input array of shape [n, w, h]\n",
    "    RETURNS: Numpy array of shape [n, w*h]\n",
    "    '''\n",
    "    n, w, h = X.shape\n",
    "    X_flat = X.reshape((n, w * h))\n",
    "    return X_flat\n",
    "\n",
    "def square_images(X, w=None, h=None):\n",
    "    '''Converts single-vector images into square images \n",
    "    INPUT: X - numpy array of images in single-vector form\n",
    "           w - width of images to convert to\n",
    "           h - height of images to convert to\n",
    "    RETURNS: Numpy array of shape [n, w, h]\n",
    "    '''\n",
    "    \n",
    "    assert X.shape[1] == w * h, \"Error - Can't square array of shape {} to {}\".format(X.shape, (w, h))\n",
    "    n = X.shape[0]\n",
    "    X_square = X.reshape((n, w, h))\n",
    "    return X_square\n",
    "\n",
    "\n",
    "N_TRAIN, W, H = X_train.shape\n",
    "N_TEST, w_test, h_test = X_test.shape\n",
    "\n",
    "# Flatten the images\n",
    "X_train = flatten_images(X_train)\n",
    "X_test = flatten_images(X_test)\n",
    "\n",
    "# Do some checks on the data\n",
    "assert N_TRAIN == 60000, 'Error - expected 60000 training images, got {}'.format(N_TRAIN)\n",
    "assert N_TEST == 10000, 'Error - expected 60000 training images, got {}'.format(N_TEST)\n",
    "assert W == w_test, 'Error - width mismatch. Train {}, Test {}'.format(w, w_test)\n",
    "assert H == h_test, 'Error - height mismatch. Train {}, Test {}'.format(h, h_test)\n",
    "\n",
    "assert np.array_equal(X_train, flatten_images(square_images(X_train, W, H)))\n",
    "assert X_train.shape[0] == y_train.shape[0]\n",
    "assert X_test.shape[0] == y_test.shape[0]\n",
    "\n",
    "print('Loaded train images shape {}, labels shape {}'.format(X_train.shape, y_train.shape))\n",
    "print('Loaded test images shape {}, labels shape {}'.format(X_test.shape, y_test.shape))\n"
   ]
  },
  {
   "cell_type": "markdown",
   "metadata": {},
   "source": [
    "## Data preparation\n",
    "\n",
    "This section sets up global constants used in all models (to ensure a fair comparison). It also prepares the data by converting y values to one-hot, and normalizing X inputs."
   ]
  },
  {
   "cell_type": "code",
   "execution_count": 4,
   "metadata": {},
   "outputs": [
    {
     "name": "stdout",
     "output_type": "stream",
     "text": [
      "Converting y variables to one-hot encoding..\n",
      "Z-normalizing X data..\n",
      "Train images shape (60000, 784), labels shape (60000, 10)\n",
      "Test images shape (10000, 784), labels shape (10000, 10)\n"
     ]
    }
   ],
   "source": [
    "from sklearn.model_selection import train_test_split\n",
    "from sklearn.preprocessing import LabelBinarizer, StandardScaler\n",
    "\n",
    "# Keras Common configuration\n",
    "SEED = 1234 # Fix the seed for repeatability\n",
    "N_JOBS=-2 # Leave 1 core free for UI updates\n",
    "VERBOSE=2 # 3 is the most verbose level\n",
    "EPOCHS = 20 # todo ! Check how many epochs in the paper\n",
    "BATCH = 256 # todo ! Check this in the paper too\n",
    "\n",
    "\n",
    "def stratified_subsample(X, y, num_rows):\n",
    "    '''Creates a stratified subsample of X and y\n",
    "    INPUT: X and y, numpy arrays\n",
    "    RETURNS: subset of X and y, maintaining class balances\n",
    "    '''\n",
    "    # Create a stratified, shuffled subset of the training data if needed\n",
    "    N = X.shape[0]\n",
    "    if num_rows < N:\n",
    "        print('Reducing size from {} to {} examples'.format(N, num_rows))\n",
    "        new_X, _, new_y, _ = train_test_split(X_train, y_train, # Undersample by dropping \"test\" data\n",
    "                                              train_size=N, random_state=SEED)    \n",
    "\n",
    "def onehot_encode_y(y_train, y_test):\n",
    "    '''Convert y_train and y_test to a one-hot encoding version\n",
    "    INPUT: y_train - np.array of size (n_train,)\n",
    "           y_test - np.array of size (n_test,)\n",
    "    RETURNS: y_train - np.array of size (n_train, n_classes)\n",
    "             y_test - np.arary of size (n_test, n_classes)\n",
    "    '''    \n",
    "    print('Converting y variables to one-hot encoding..')\n",
    "    lbe = LabelBinarizer()\n",
    "    lbe.fit(y_train)\n",
    "    y_train = lbe.transform(y_train)\n",
    "    y_test = lbe.transform(y_test)\n",
    "    return y_train, y_test\n",
    "\n",
    "def z_norm_X(X_train, X_test):\n",
    "    '''Z-normalizes X_train and X_test with 0 mean and 1 std. dev.\n",
    "    INPUT: X_train - training set\n",
    "           X_test - test set\n",
    "    RETURNS: X_train - normalized version of same size\n",
    "             X_test - normalized version (using X_train parameters)\n",
    "    '''\n",
    "    print('Z-normalizing X data..')    \n",
    "    std = StandardScaler()\n",
    "    X_train = X_train.astype(np.float32)\n",
    "    X_test = X_test.astype(np.float32)\n",
    "    std.fit(X_train)\n",
    "    X_train = std.transform(X_train)\n",
    "    X_test = std.transform(X_test)\n",
    "    return X_train, X_test\n",
    "    \n",
    "y_train, y_test = onehot_encode_y(y_train, y_test)\n",
    "X_train, X_test = z_norm_X(X_train, X_test)\n",
    "scores = dict()\n",
    "\n",
    "print('Train images shape {}, labels shape {}'.format(X_train.shape, y_train.shape))\n",
    "print('Test images shape {}, labels shape {}'.format(X_test.shape, y_test.shape))"
   ]
  },
  {
   "cell_type": "markdown",
   "metadata": {},
   "source": [
    "## [1] C.5 - Baseline fully-connected models (original dataset)\n",
    "\n",
    "We'll first compare the performance of different fully-connected models on fully-connected networks of varying layers and size. These are all trained on the 28x28 dataset."
   ]
  },
  {
   "cell_type": "markdown",
   "metadata": {},
   "source": [
    "## Helper class"
   ]
  },
  {
   "cell_type": "code",
   "execution_count": 25,
   "metadata": {},
   "outputs": [],
   "source": [
    "from keras.models import Sequential\n",
    "from keras.layers import Dense, Activation\n",
    "from keras.optimizers import SGD\n",
    "\n",
    "# Create a dictionary to store model training and test info\n",
    "models = dict()\n",
    "\n",
    "class KerasFCModel(object):\n",
    "    \n",
    "    def __init__(self, model_name, model_type, input_dim, layers, \n",
    "                 activation, output_activation, verbose=2):\n",
    "        '''Initializes a new keras model'''\n",
    "        self.model_name = model_name\n",
    "        self.verbose = verbose\n",
    "        \n",
    "        model = model_type\n",
    "        for idx, size in enumerate(layers):\n",
    "            \n",
    "            # First layer has to take input from image files\n",
    "            if idx == 0:\n",
    "                if self.verbose == 2:\n",
    "                    print('Adding input dense layer, input dim {}, dim {}'.format(input_dim, size))\n",
    "                model.add(Dense(size, input_dim=input_dim))\n",
    "                model.add(Activation(activation))\n",
    "                \n",
    "            # Last layer has to include the output activation\n",
    "            elif idx == len(layers) - 1:\n",
    "                if self.verbose == 2:\n",
    "                    print('Adding dense layer {}, size {}, activation {}'.format(idx, size, activation))\n",
    "                model.add(Dense(size))\n",
    "                model.add(Activation(output_activation))\n",
    "                \n",
    "            # Layers other than first and last have standard activation\n",
    "            else: \n",
    "                if self.verbose == 2:\n",
    "                    print('Adding output layer {}, size {}, activation {}'.format(idx, size, output_activation))\n",
    "                model.add(Dense(size))\n",
    "                model.add(Activation(activation))\n",
    "                \n",
    "        if self.verbose > 0:\n",
    "            print('Model summary:\\n')\n",
    "            model.summary()\n",
    "        \n",
    "        self.model = model\n",
    "        \n",
    "    def compile_model(self, loss, optimizer, metrics):\n",
    "        '''Compile the model'''\n",
    "        self.metrics = metrics\n",
    "        self.loss = loss\n",
    "        self.optimizer = optimizer\n",
    "        # Need to flip error vs accuracy \n",
    "        metrics = ['acc' if metric is 'error' else metric for metric in metrics]\n",
    "        self.model.compile(loss=loss, optimizer=optimizer, metrics=metrics)\n",
    "          \n",
    "    def fit(self, X, y, epochs, batch_size):\n",
    "        '''Fit model to training data'''\n",
    "        self.history = self.model.fit(X, y, epochs=epochs, batch_size=batch_size, verbose=self.verbose)\n",
    "\n",
    "    def evaluate(self, X, y, batch_size):\n",
    "        '''Evaluates the model on test data'''\n",
    "        output = self.model.evaluate(X, y, batch_size=batch_size)\n",
    "        results = dict()\n",
    "        for idx, metric in enumerate(self.model.metrics_names):\n",
    "            if metric == 'acc':\n",
    "                results['error'] = 1.0 - output[idx]\n",
    "            else:\n",
    "                results[metric] = output[idx]                \n",
    "        self.results = results\n",
    "    \n",
    "    def report(self):\n",
    "        '''Prints a recap of the model, how it was trained, and performance'''\n",
    "        report = dict()\n",
    "        if self.verbose > 0:\n",
    "            report['model_info'] = self.model.summary()\n",
    "            report['loss'] = self.loss\n",
    "            report['optimizer'] = self.optimizer.get_config()\n",
    "            report['metrics'] = self.metrics\n",
    "            report['history'] = self.history\n",
    "        report['results'] = self.results\n",
    "        return report\n",
    "    "
   ]
  },
  {
   "cell_type": "code",
   "execution_count": 19,
   "metadata": {
    "collapsed": true
   },
   "outputs": [],
   "source": [
    "# Helper function to evaluate fully-connected models\n",
    "def evaluate_fc_model(name, layers, activation, optimizer,\n",
    "                            X_tr, y_tr, X_te, y_te,\n",
    "                            epochs, batch_size,\n",
    "                            verbose=2):\n",
    "    \"\"\"Creates, trains, and evaluates neural network on provided data\"\"\"\n",
    "    \n",
    "    print('Creating Keras model {}'.format(name))\n",
    "    model = KerasFCModel(model_name=name, model_type=Sequential(), \n",
    "                           input_dim=784, layers=layers, \n",
    "                           activation=activation, output_activation='softmax',\n",
    "                           verbose=verbose)\n",
    "\n",
    "    print('Compiling model')\n",
    "    model.compile_model(loss='categorical_crossentropy',\n",
    "                        optimizer=optimizer,\n",
    "                        metrics=['error'])\n",
    "\n",
    "    print('Training model')\n",
    "    model.fit(X_tr, y_tr, epochs=epochs, batch_size=batch_size)\n",
    "\n",
    "    print('Evaluating model')\n",
    "    model.evaluate(X_te, y_te, batch_size=batch_size)\n",
    "\n",
    "    print('\\nTest results: {:.4f} error'.format(model.report()['results']['error']))\n",
    "    return model\n"
   ]
  },
  {
   "cell_type": "markdown",
   "metadata": {},
   "source": [
    "## Fully connected single-hidden layer networks"
   ]
  },
  {
   "cell_type": "code",
   "execution_count": 39,
   "metadata": {},
   "outputs": [
    {
     "name": "stdout",
     "output_type": "stream",
     "text": [
      "Creating Keras model fc-300-10\n",
      "Compiling model\n",
      "Training model\n",
      "Evaluating model\n",
      " 6400/10000 [==================>...........] - ETA: 0s\n",
      "Test results: 0.0290 error\n",
      "CPU times: user 11.6 s, sys: 4.56 s, total: 16.2 s\n",
      "Wall time: 16.2 s\n"
     ]
    }
   ],
   "source": [
    "%%time\n",
    "\n",
    "fc_results = dict()\n",
    "fc_results['fc-300-10'] = evaluate_fc_model('fc-300-10', layers=(300,10), activation='tanh', \n",
    "                                            optimizer=SGD(lr=0.1, decay=1e-6, momentum=0.9, nesterov=True),\n",
    "                                            X_tr=X_train, y_tr=y_train, X_te=X_test, y_te=y_test,\n",
    "                                            epochs=EPOCHS, batch_size=BATCH,\n",
    "                                            verbose=0)\n",
    "    "
   ]
  },
  {
   "cell_type": "code",
   "execution_count": 40,
   "metadata": {},
   "outputs": [
    {
     "name": "stdout",
     "output_type": "stream",
     "text": [
      "Creating Keras model fc-1000-10\n",
      "Compiling model\n",
      "Training model\n",
      "Evaluating model\n",
      " 9984/10000 [============================>.] - ETA: 0s\n",
      "Test results: 0.0273 error\n",
      "CPU times: user 13.7 s, sys: 4.88 s, total: 18.5 s\n",
      "Wall time: 18.6 s\n"
     ]
    }
   ],
   "source": [
    "%%time\n",
    "\n",
    "# FC 1000-10\n",
    "fc_results['fc-1000-10'] = evaluate_fc_model('fc-1000-10', layers=(1000,10), activation='tanh', \n",
    "                                            optimizer=SGD(lr=0.1, decay=1e-6, momentum=0.9, nesterov=True),\n",
    "                                            X_tr=X_train, y_tr=y_train, X_te=X_test, y_te=y_test,\n",
    "                                            epochs=EPOCHS, batch_size=BATCH,\n",
    "                                            verbose=0)\n"
   ]
  },
  {
   "cell_type": "markdown",
   "metadata": {},
   "source": [
    "## Two hidden layer fully connected networks"
   ]
  },
  {
   "cell_type": "code",
   "execution_count": 41,
   "metadata": {},
   "outputs": [
    {
     "name": "stdout",
     "output_type": "stream",
     "text": [
      "Creating Keras model fc-300-100-10\n",
      "Compiling model\n",
      "Training model\n",
      "Evaluating model\n",
      " 9984/10000 [============================>.] - ETA: 0s\n",
      "Test results: 0.0273 error\n",
      "CPU times: user 12.7 s, sys: 244 ms, total: 13 s\n",
      "Wall time: 12.9 s\n"
     ]
    }
   ],
   "source": [
    "%%time\n",
    "\n",
    "# FC 300-100-10\n",
    "fc_results['fc-300-100-10'] = evaluate_fc_model('fc-300-100-10', layers=(300,100,10), activation='tanh', \n",
    "                                            optimizer=SGD(lr=0.1, decay=1e-5, momentum=0.9, nesterov=True),\n",
    "                                            X_tr=X_train, y_tr=y_train, X_te=X_test, y_te=y_test,\n",
    "                                            epochs=EPOCHS, batch_size=BATCH,\n",
    "                                            verbose=0)\n"
   ]
  },
  {
   "cell_type": "code",
   "execution_count": 42,
   "metadata": {},
   "outputs": [
    {
     "name": "stdout",
     "output_type": "stream",
     "text": [
      "Creating Keras model fc-500-150-10\n",
      "Compiling model\n",
      "Training model\n",
      "Evaluating model\n",
      "10000/10000 [==============================] - 0s     \n",
      "\n",
      "Test results: 0.0266 error\n",
      "CPU times: user 12.3 s, sys: 304 ms, total: 12.6 s\n",
      "Wall time: 12.6 s\n"
     ]
    }
   ],
   "source": [
    "%%time\n",
    "\n",
    "# FC 500-150-10\n",
    "fc_results['fc-500-150-10'] = evaluate_fc_model('fc-500-150-10', layers=(500,150,10), activation='tanh', \n",
    "                                            optimizer=SGD(lr=0.1, decay=1e-5, momentum=0.9, nesterov=True),\n",
    "                                            X_tr=X_train, y_tr=y_train, X_te=X_test, y_te=y_test,\n",
    "                                            epochs=EPOCHS, batch_size=BATCH,\n",
    "                                            verbose=0)\n"
   ]
  },
  {
   "cell_type": "code",
   "execution_count": 43,
   "metadata": {},
   "outputs": [],
   "source": [
    "# Compile the FC results so far into a dataframe for easy plotting\n",
    "\n",
    "fc_scores = {result: value.results['error'] for result, value in fc_results.items()}\n",
    "fc_scores_df = pd.DataFrame.from_dict(fc_scores, orient='index')\n",
    "\n",
    "fc_scores_df.columns = ['error']\n",
    "fc_scores_df['error'] *= 100.0\n",
    "fc_scores_df = fc_scores_df.sort_values('error', ascending=True)\n",
    "fc_scores_df.to_pickle('fc_scores.pkl')"
   ]
  },
  {
   "cell_type": "code",
   "execution_count": 44,
   "metadata": {},
   "outputs": [
    {
     "data": {
      "image/png": "[encoded data removed]",
      "text/plain": [
       "<matplotlib.figure.Figure at 0x7f49b86d04a8>"
      ]
     },
     "metadata": {},
     "output_type": "display_data"
    }
   ],
   "source": [
    "fig, ax = plt.subplots(1,1, figsize=(6,6))\n",
    "fc_scores_df.plot.barh(width=0.4, ax=ax, legend=None)\n",
    "ax.set(title=\"Fully-connected neural net test-set accuracy\", ylabel=\"Network\", xlabel=\"%age error\");\n",
    "plt.savefig('fc_scores.png', bbox_inches='tight', dpi=150)"
   ]
  },
  {
   "cell_type": "markdown",
   "metadata": {},
   "source": [
    "# Convolutional neural networks\n",
    "\n",
    "Now let's see how much further we can improve performance with convolutional neural networks. For the convolutional networks, we need a 2-d image instead of the flattened 1-d vector the fully connected networks used. We also need to add padding around each of the images."
   ]
  },
  {
   "cell_type": "code",
   "execution_count": 48,
   "metadata": {},
   "outputs": [
    {
     "name": "stdout",
     "output_type": "stream",
     "text": [
      "Loading pickle files\n"
     ]
    },
    {
     "data": {
      "text/plain": [
       "(60000, 28, 28)"
      ]
     },
     "execution_count": 48,
     "metadata": {},
     "output_type": "execute_result"
    }
   ],
   "source": [
    "# Load image pickle files\n",
    "X_train, y_train, X_test,  y_test = load_data()\n",
    "X_train.shape"
   ]
  },
  {
   "cell_type": "code",
   "execution_count": 63,
   "metadata": {},
   "outputs": [
    {
     "data": {
      "image/png": "[encoded data removed]",
      "text/plain": [
       "<matplotlib.figure.Figure at 0x7f49b8d2e710>"
      ]
     },
     "metadata": {},
     "output_type": "display_data"
    }
   ],
   "source": [
    "#Plot a few random numbers to sanity check their size and that they look correct\n",
    "\n",
    "N = 3\n",
    "indexes = np.random.choice(X_train.shape[0], N)\n",
    "fig, ax = plt.subplots(1, N)\n",
    "\n",
    "for num, idx in enumerate(indexes):\n",
    "    \n",
    "    ax[num].imshow(X_train[idx])\n",
    "    ax[num].set(title=\"Label={}\".format(y_train[idx]))"
   ]
  },
  {
   "cell_type": "markdown",
   "metadata": {
    "collapsed": true
   },
   "source": [
    "## Padding images to 32x32 while centering image\n",
    "\n",
    "In [1], the images are padded to 32x32 to ensure every pixel of the input image ends up in the center of the receptive fields of the highest level feature receptors."
   ]
  },
  {
   "cell_type": "code",
   "execution_count": 86,
   "metadata": {},
   "outputs": [],
   "source": [
    "def image_border(image, size, fill):\n",
    "    \"\"\"\n",
    "    Adds a border around the nupmy array of the gizen size and value\n",
    "    \"\"\"\n",
    "    im_w, im_h = image.shape\n",
    "    im_dtype = image.dtype\n",
    "    \n",
    "    new_image = np.full((im_w + (2 * size), im_h + (2 * size)),\n",
    "                        fill_value=fill, dtype=im_dtype)\n",
    "    new_image[size:im_h + size, size:im_w + size] = image\n",
    "    \n",
    "    assert new_image.dtype == image.dtype\n",
    "    assert new_image.shape[0] == image.shape[0] + (2 * size)\n",
    "    assert new_image.shape[1] == image.shape[1] + (2 * size)\n",
    "    assert np.array_equal(image, new_image[size:size+im_h, size:size+im_w])\n",
    "    return new_image\n",
    "    \n",
    "    \n",
    "# test_image = np.full((32,32), fill_value=0, dtype=np.uint8)\n",
    "# test_image[2:30, 2:30] = X_train[0]\n",
    "# test_image"
   ]
  },
  {
   "cell_type": "code",
   "execution_count": 88,
   "metadata": {},
   "outputs": [
    {
     "data": {
      "image/png": "[encoded data removed]",
      "text/plain": [
       "<matplotlib.figure.Figure at 0x7f49b8828b00>"
      ]
     },
     "metadata": {},
     "output_type": "display_data"
    }
   ],
   "source": [
    "N = 3\n",
    "indexes = np.random.choice(X_train.shape[0], N)\n",
    "fig, ax = plt.subplots(2, N, figsize=(14,10))\n",
    "\n",
    "for num, idx in enumerate(indexes):\n",
    "    \n",
    "    ax[0, num].imshow(X_train[idx])\n",
    "    ax[0, num].set(title=\"Label={}\".format(y_train[idx]))\n",
    "    \n",
    "    ax[1, num].imshow(image_border(X_train[idx], 2, 0))\n",
    "#     ax[0, num].set(title=\"Label={}\".format(y_train[idx]))\n",
    "\n",
    "# plt.imshow(image_border(X_train[0], 2, 0))"
   ]
  },
  {
   "cell_type": "code",
   "execution_count": 94,
   "metadata": {},
   "outputs": [
    {
     "name": "stderr",
     "output_type": "stream",
     "text": [
      "Resizing train images: 100%|██████████| 60000/60000 [00:02<00:00, 28980.67it/s]\n",
      "Resizing test images: 100%|██████████| 10000/10000 [00:00<00:00, 32210.80it/s]"
     ]
    },
    {
     "name": "stdout",
     "output_type": "stream",
     "text": [
      "New X_train shape: (60000, 32, 32), new x_test shape: (10000, 32, 32)\n"
     ]
    },
    {
     "name": "stderr",
     "output_type": "stream",
     "text": [
      "\n"
     ]
    }
   ],
   "source": [
    "from tqdm import tqdm\n",
    "\n",
    "# resize all the training and test images\n",
    "n_train = X_train.shape[0]\n",
    "n_test = X_test.shape[0]\n",
    "\n",
    "\n",
    "def resize_images(images, description):\n",
    "    \"\"\"\n",
    "    Iterates through lowest order dimension, and resizes images\n",
    "    \"\"\"\n",
    "    new_images = np.zeros((images.shape[0], 32, 32))\n",
    "\n",
    "    for index in tqdm(range(images.shape[0]), desc=description):\n",
    "        new_images[index] = image_border(images[index], 2, 0)\n",
    "        \n",
    "    return new_images\n",
    "\n",
    "\n",
    "X_resize_train = resize_images(X_train, \"Resizing train images\")\n",
    "X_resize_test = resize_images(X_test, \"Resizing test images\")\n",
    "\n",
    "X_train = X_resize_train\n",
    "X_test = X_resize_test\n",
    "\n",
    "print('New X_train shape: {}, new x_test shape: {}'.format(X_train.shape, X_test.shape))"
   ]
  },
  {
   "cell_type": "code",
   "execution_count": null,
   "metadata": {
    "collapsed": true
   },
   "outputs": [],
   "source": []
  },
  {
   "cell_type": "code",
   "execution_count": null,
   "metadata": {
    "collapsed": true
   },
   "outputs": [],
   "source": []
  },
  {
   "cell_type": "code",
   "execution_count": null,
   "metadata": {
    "collapsed": true
   },
   "outputs": [],
   "source": []
  },
  {
   "cell_type": "code",
   "execution_count": null,
   "metadata": {
    "collapsed": true
   },
   "outputs": [],
   "source": []
  }
 ],
 "metadata": {
  "anaconda-cloud": {},
  "kernelspec": {
   "display_name": "Python [conda env:tensorflow]",
   "language": "python",
   "name": "conda-env-tensorflow-py"
  },
  "language_info": {
   "codemirror_mode": {
    "name": "ipython",
    "version": 3
   },
   "file_extension": ".py",
   "mimetype": "text/x-python",
   "name": "python",
   "nbconvert_exporter": "python",
   "pygments_lexer": "ipython3",
   "version": "3.5.3"
  }
 },
 "nbformat": 4,
 "nbformat_minor": 2
}
