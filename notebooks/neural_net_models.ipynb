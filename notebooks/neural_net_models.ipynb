{
 "cells": [
  {
   "cell_type": "markdown",
   "metadata": {},
   "source": [
    "# Neural network models\n",
    "\n",
    "This notebook picks up after the `simple_models` notebook. After trying a range of classification algorithms, we'll try out some of the neural network models in [1]. These include fully-connected models of varying layer sizes, and finally convolutional models including the famous LeNet-5. \n",
    "\n",
    "Along the way, we'll be using Keras which is a library sitting on top of Theano or Tensorflow. This allows easy construction, training and evaluation of neural nets. Before we get started, here's a recap of the `simple_models` notebook models.\n",
    "\n",
    "`[1]` - [Gradient-Based Learning Applied to Document Recognition](http://yann.lecun.com/exdb/publis/pdf/lecun-98.pdf),  LeCun et al, Nov 1998"
   ]
  },
  {
   "cell_type": "code",
   "execution_count": 1,
   "metadata": {
    "collapsed": true
   },
   "outputs": [],
   "source": [
    "import pandas as pd\n",
    "import numpy as np\n",
    "import matplotlib.pyplot as plt\n",
    "import seaborn as sns\n",
    "\n",
    "import pickle\n",
    "\n",
    "plt.style.use('fivethirtyeight')\n",
    "# plt.rcParams['font.family'] = 'serif'\n",
    "plt.rcParams['font.serif'] = 'Helvetica'\n",
    "plt.rcParams['font.monospace'] = 'Consolas'\n",
    "plt.rcParams['font.size'] = 16\n",
    "plt.rcParams['axes.labelsize'] = 16\n",
    "plt.rcParams['axes.labelweight'] = 'bold'\n",
    "plt.rcParams['xtick.labelsize'] = 14\n",
    "plt.rcParams['ytick.labelsize'] = 14\n",
    "plt.rcParams['legend.fontsize'] = 16\n",
    "plt.rcParams['axes.titlesize'] = 20\n",
    "plt.rcParams['lines.linewidth'] = 2\n",
    "\n",
    "%matplotlib inline\n",
    "\n",
    "# for auto-reloading external modules\n",
    "%load_ext autoreload\n",
    "%autoreload 2"
   ]
  },
  {
   "cell_type": "markdown",
   "metadata": {},
   "source": [
    "## Load pickle files\n",
    "\n",
    "The original data files are processed using the `convert_data.py` script, and written out to pickle files. We can load these in as numpy arrays."
   ]
  },
  {
   "cell_type": "code",
   "execution_count": 2,
   "metadata": {},
   "outputs": [
    {
     "name": "stdout",
     "output_type": "stream",
     "text": [
      "Loading pickle files\n"
     ]
    }
   ],
   "source": [
    "# Set up the file directory and names\n",
    "DIR = '../input/'\n",
    "X_TRAIN = DIR + 'train-images-idx3-ubyte.pkl'\n",
    "Y_TRAIN = DIR + 'train-labels-idx1-ubyte.pkl'\n",
    "X_TEST = DIR + 't10k-images-idx3-ubyte.pkl'\n",
    "Y_TEST = DIR + 't10k-labels-idx1-ubyte.pkl'\n",
    "\n",
    "def load_data():\n",
    "    '''Loads pickled ubyte files with MNIST data\n",
    "    INPUT: X_train_file, y_train_file - strings with training filenames\n",
    "           X_test_file, y_test_File - strings with test filenames\n",
    "    RETURNS: Tuple with (X_train, y_train, X_test, y_test)\n",
    "    '''\n",
    "    print('Loading pickle files')\n",
    "    try:\n",
    "        X_train = pickle.load( open( X_TRAIN, \"rb\" ) )\n",
    "        y_train = pickle.load( open( Y_TRAIN, \"rb\" ) )\n",
    "        X_test = pickle.load( open( X_TEST, \"rb\" ) )\n",
    "        y_test = pickle.load( open( Y_TEST, \"rb\" ) )\n",
    "    except:\n",
    "        print('Error loading pickle file')\n",
    "        return None\n",
    "    \n",
    "    return (X_train, y_train, X_test, y_test)\n",
    "\n",
    "X_train, y_train, X_test,  y_test = load_data()"
   ]
  },
  {
   "cell_type": "markdown",
   "metadata": {},
   "source": [
    "## Helper functions\n",
    "\n",
    "Before evaluating some models on the images, let's create some helper functions we can re-use later on. These deal with converting images to and from 1d and 2d versions, plotting images, resizing them, etc."
   ]
  },
  {
   "cell_type": "code",
   "execution_count": 3,
   "metadata": {},
   "outputs": [
    {
     "name": "stdout",
     "output_type": "stream",
     "text": [
      "Loaded train images shape (60000, 784), labels shape (60000, 1)\n",
      "Loaded test images shape (10000, 784), labels shape (10000, 1)\n"
     ]
    }
   ],
   "source": [
    "def flatten_images(X):\n",
    "    ''' Converts images to 1-d vectors\n",
    "    INPUT: X - Input array of shape [n, w, h]\n",
    "    RETURNS: Numpy array of shape [n, w*h]\n",
    "    '''\n",
    "    n, w, h = X.shape\n",
    "    X_flat = X.reshape((n, w * h))\n",
    "    return X_flat\n",
    "\n",
    "def square_images(X, w=None, h=None):\n",
    "    '''Converts single-vector images into square images \n",
    "    INPUT: X - numpy array of images in single-vector form\n",
    "           w - width of images to convert to\n",
    "           h - height of images to convert to\n",
    "    RETURNS: Numpy array of shape [n, w, h]\n",
    "    '''\n",
    "    \n",
    "    assert X.shape[1] == w * h, \"Error - Can't square array of shape {} to {}\".format(X.shape, (w, h))\n",
    "    n = X.shape[0]\n",
    "    X_square = X.reshape((n, w, h))\n",
    "    return X_square\n",
    "\n",
    "\n",
    "N_TRAIN, W, H = X_train.shape\n",
    "N_TEST, w_test, h_test = X_test.shape\n",
    "\n",
    "# Flatten the images\n",
    "X_train = flatten_images(X_train)\n",
    "X_test = flatten_images(X_test)\n",
    "\n",
    "# Do some checks on the data\n",
    "assert N_TRAIN == 60000, 'Error - expected 60000 training images, got {}'.format(N_TRAIN)\n",
    "assert N_TEST == 10000, 'Error - expected 60000 training images, got {}'.format(N_TEST)\n",
    "assert W == w_test, 'Error - width mismatch. Train {}, Test {}'.format(w, w_test)\n",
    "assert H == h_test, 'Error - height mismatch. Train {}, Test {}'.format(h, h_test)\n",
    "\n",
    "assert np.array_equal(X_train, flatten_images(square_images(X_train, W, H)))\n",
    "assert X_train.shape[0] == y_train.shape[0]\n",
    "assert X_test.shape[0] == y_test.shape[0]\n",
    "\n",
    "print('Loaded train images shape {}, labels shape {}'.format(X_train.shape, y_train.shape))\n",
    "print('Loaded test images shape {}, labels shape {}'.format(X_test.shape, y_test.shape))\n"
   ]
  },
  {
   "cell_type": "markdown",
   "metadata": {},
   "source": [
    "## Data preparation\n",
    "\n",
    "This section sets up global constants used in all models (to ensure a fair comparison). It also prepares the data by converting y values to one-hot, and normalizing X inputs."
   ]
  },
  {
   "cell_type": "code",
   "execution_count": 4,
   "metadata": {
    "collapsed": true
   },
   "outputs": [],
   "source": [
    "from sklearn.model_selection import train_test_split\n",
    "from sklearn.preprocessing import LabelBinarizer, StandardScaler\n",
    "\n",
    "# Keras Common configuration\n",
    "SEED = 1234 # Fix the seed for repeatability\n",
    "N_JOBS=-2 # Leave 1 core free for UI updates\n",
    "VERBOSE=2 # 3 is the most verbose level\n",
    "EPOCHS = 20 # todo ! Check how many epochs in the paper\n",
    "BATCH = 256 # todo ! Check this in the paper too\n",
    "\n"
   ]
  },
  {
   "cell_type": "code",
   "execution_count": 5,
   "metadata": {
    "collapsed": true
   },
   "outputs": [],
   "source": [
    "# Useful helper functions\n",
    "def stratified_subsample(X, y, num_rows, verbose=False):\n",
    "    '''Creates a stratified subsample of X and y\n",
    "    INPUT: X and y, numpy arrays\n",
    "    RETURNS: subset of X and y, maintaining class balances\n",
    "    '''\n",
    "    # Create a stratified, shuffled subset of the training data if needed\n",
    "    N = X.shape[0]\n",
    "    \n",
    "    new_X, new_y = X, y\n",
    "    if num_rows < N:\n",
    "        if verbose:\n",
    "            print('Reducing size from {} to {} examples'.format(N, num_rows))\n",
    "        new_X, _, new_y, _ = train_test_split(X_train, y_train, # Undersample by dropping \"test\" data\n",
    "                                              train_size=num_rows, random_state=SEED)    \n",
    "    return new_X, new_y\n",
    "        \n",
    "def onehot_encode_y(y_train, y_test):\n",
    "    '''Convert y_train and y_test to a one-hot encoding version\n",
    "    INPUT: y_train - np.array of size (n_train,)\n",
    "           y_test - np.array of size (n_test,)\n",
    "    RETURNS: y_train - np.array of size (n_train, n_classes)\n",
    "             y_test - np.arary of size (n_test, n_classes)\n",
    "    '''    \n",
    "    print('Converting y variables to one-hot encoding..')\n",
    "    lbe = LabelBinarizer()\n",
    "    lbe.fit(y_train)\n",
    "    y_train = lbe.transform(y_train)\n",
    "    y_test = lbe.transform(y_test)\n",
    "    return y_train, y_test\n",
    "\n",
    "def z_norm_X(X_train, X_test):\n",
    "    '''Z-normalizes X_train and X_test with 0 mean and 1 std. dev.\n",
    "    INPUT: X_train - training set\n",
    "           X_test - test set\n",
    "    RETURNS: X_train - normalized version of same size\n",
    "             X_test - normalized version (using X_train parameters)\n",
    "    '''\n",
    "    print('Z-normalizing X data..')    \n",
    "    std = StandardScaler()\n",
    "    X_train = X_train.astype(np.float32)\n",
    "    X_test = X_test.astype(np.float32)\n",
    "    std.fit(X_train)\n",
    "    X_train = std.transform(X_train)\n",
    "    X_test = std.transform(X_test)\n",
    "    return X_train, X_test\n",
    "    "
   ]
  },
  {
   "cell_type": "code",
   "execution_count": 6,
   "metadata": {},
   "outputs": [
    {
     "name": "stdout",
     "output_type": "stream",
     "text": [
      "Converting y variables to one-hot encoding..\n",
      "Z-normalizing X data..\n",
      "Train images shape (60000, 784), labels shape (60000, 10)\n",
      "Test images shape (10000, 784), labels shape (10000, 10)\n"
     ]
    }
   ],
   "source": [
    "y_train, y_test = onehot_encode_y(y_train, y_test)\n",
    "X_train, X_test = z_norm_X(X_train, X_test)\n",
    "scores = dict()\n",
    "\n",
    "print('Train images shape {}, labels shape {}'.format(X_train.shape, y_train.shape))\n",
    "print('Test images shape {}, labels shape {}'.format(X_test.shape, y_test.shape))"
   ]
  },
  {
   "cell_type": "markdown",
   "metadata": {},
   "source": [
    "## [1] C.5 - Baseline fully-connected models (original dataset)\n",
    "\n",
    "We'll first compare the performance of different fully-connected models on fully-connected networks of varying layers and size. These are all trained on the 28x28 dataset."
   ]
  },
  {
   "cell_type": "markdown",
   "metadata": {},
   "source": [
    "## Helper class"
   ]
  },
  {
   "cell_type": "code",
   "execution_count": 7,
   "metadata": {},
   "outputs": [
    {
     "name": "stderr",
     "output_type": "stream",
     "text": [
      "Using Theano backend.\n",
      "WARNING (theano.sandbox.cuda): The cuda backend is deprecated and will be removed in the next release (v0.10).  Please switch to the gpuarray backend. You can get more information about how to switch at this URL:\n",
      " https://github.com/Theano/Theano/wiki/Converting-to-the-new-gpu-back-end%28gpuarray%29\n",
      "\n",
      "Using gpu device 0: GeForce GTX 1070 (CNMeM is disabled, cuDNN 5105)\n"
     ]
    }
   ],
   "source": [
    "from keras.models import Sequential\n",
    "from keras.layers import Dense, Activation\n",
    "from keras.optimizers import SGD\n",
    "\n",
    "# Create a dictionary to store model training and test info\n",
    "models = dict()\n",
    "\n",
    "class KerasFCModel(object):\n",
    "    \n",
    "    def __init__(self, model_name, model_type, input_dim, layers, \n",
    "                 activation, output_activation, verbose=2):\n",
    "        '''Initializes a new keras model'''\n",
    "        self.model_name = model_name\n",
    "        self.verbose = verbose\n",
    "        \n",
    "        model = model_type\n",
    "        for idx, size in enumerate(layers):\n",
    "            \n",
    "            # First layer has to take input from image files\n",
    "            if idx == 0:\n",
    "                if self.verbose == 2:\n",
    "                    print('Adding input dense layer, input dim {}, dim {}'.format(input_dim, size))\n",
    "                model.add(Dense(size, input_dim=input_dim))\n",
    "                model.add(Activation(activation))\n",
    "                \n",
    "            # Last layer has to include the output activation\n",
    "            elif idx == len(layers) - 1:\n",
    "                if self.verbose == 2:\n",
    "                    print('Adding dense layer {}, size {}, activation {}'.format(idx, size, activation))\n",
    "                model.add(Dense(size))\n",
    "                model.add(Activation(output_activation))\n",
    "                \n",
    "            # Layers other than first and last have standard activation\n",
    "            else: \n",
    "                if self.verbose == 2:\n",
    "                    print('Adding output layer {}, size {}, activation {}'.format(idx, size, output_activation))\n",
    "                model.add(Dense(size))\n",
    "                model.add(Activation(activation))\n",
    "                \n",
    "        if self.verbose > 0:\n",
    "            print('Model summary:\\n')\n",
    "            model.summary()\n",
    "        \n",
    "        self.model = model\n",
    "        \n",
    "    def compile_model(self, loss, optimizer, metrics):\n",
    "        '''Compile the model'''\n",
    "        self.metrics = metrics\n",
    "        self.loss = loss\n",
    "        self.optimizer = optimizer\n",
    "        # Need to flip error vs accuracy \n",
    "        metrics = ['acc' if metric is 'error' else metric for metric in metrics]\n",
    "        self.model.compile(loss=loss, optimizer=optimizer, metrics=metrics)\n",
    "          \n",
    "    def fit(self, X, y, epochs, batch_size):\n",
    "        '''Fit model to training data'''\n",
    "        self.history = self.model.fit(X, y, epochs=epochs, batch_size=batch_size, verbose=self.verbose)\n",
    "\n",
    "    def evaluate(self, X, y, batch_size):\n",
    "        '''Evaluates the model on test data'''\n",
    "        output = self.model.evaluate(X, y, batch_size=batch_size)\n",
    "        results = dict()\n",
    "        for idx, metric in enumerate(self.model.metrics_names):\n",
    "            if metric == 'acc':\n",
    "                results['error'] = 1.0 - output[idx]\n",
    "            else:\n",
    "                results[metric] = output[idx]                \n",
    "        self.results = results\n",
    "    \n",
    "    def report(self):\n",
    "        '''Prints a recap of the model, how it was trained, and performance'''\n",
    "        report = dict()\n",
    "        if self.verbose > 0:\n",
    "            report['model_info'] = self.model.summary()\n",
    "            report['loss'] = self.loss\n",
    "            report['optimizer'] = self.optimizer.get_config()\n",
    "            report['metrics'] = self.metrics\n",
    "            report['history'] = self.history\n",
    "        report['results'] = self.results\n",
    "        return report\n",
    "    "
   ]
  },
  {
   "cell_type": "code",
   "execution_count": 8,
   "metadata": {
    "collapsed": true
   },
   "outputs": [],
   "source": [
    "# Helper function to evaluate fully-connected models\n",
    "def evaluate_fc_model(name, layers, activation, optimizer,\n",
    "                            X_tr, y_tr, X_te, y_te,\n",
    "                            epochs, batch_size,\n",
    "                            verbose=2):\n",
    "    \"\"\"Creates, trains, and evaluates neural network on provided data\"\"\"\n",
    "    \n",
    "    print('Creating Keras model {}'.format(name))\n",
    "    model = KerasFCModel(model_name=name, model_type=Sequential(), \n",
    "                           input_dim=784, layers=layers, \n",
    "                           activation=activation, output_activation='softmax',\n",
    "                           verbose=verbose)\n",
    "\n",
    "    print('Compiling model')\n",
    "    model.compile_model(loss='categorical_crossentropy',\n",
    "                        optimizer=optimizer,\n",
    "                        metrics=['error'])\n",
    "\n",
    "    print('Training model')\n",
    "    model.fit(X_tr, y_tr, epochs=epochs, batch_size=batch_size)\n",
    "\n",
    "    print('Evaluating model')\n",
    "    model.evaluate(X_te, y_te, batch_size=batch_size)\n",
    "\n",
    "    print('\\nTest results: {:.2f}% error'.format(100.0 * model.report()['results']['error']))\n",
    "    return model\n"
   ]
  },
  {
   "cell_type": "markdown",
   "metadata": {},
   "source": [
    "## Fully connected single-hidden layer networks"
   ]
  },
  {
   "cell_type": "code",
   "execution_count": 9,
   "metadata": {},
   "outputs": [
    {
     "name": "stdout",
     "output_type": "stream",
     "text": [
      "Creating Keras model fc-300-10\n",
      "Compiling model\n",
      "Training model\n",
      "Evaluating model\n",
      " 5632/10000 [===============>..............] - ETA: 0s\n",
      "Test results: 2.74% error\n",
      "CPU times: user 11.6 s, sys: 2.51 s, total: 14.2 s\n",
      "Wall time: 14.5 s\n"
     ]
    }
   ],
   "source": [
    "%%time\n",
    "\n",
    "fc_results = dict()\n",
    "fc_results['fc-300-10'] = evaluate_fc_model('fc-300-10', layers=(300,10), activation='tanh', \n",
    "                                            optimizer=SGD(lr=0.1, decay=1e-6, momentum=0.9, nesterov=True),\n",
    "                                            X_tr=X_train, y_tr=y_train, X_te=X_test, y_te=y_test,\n",
    "                                            epochs=EPOCHS, batch_size=BATCH,\n",
    "                                            verbose=0)\n",
    "    "
   ]
  },
  {
   "cell_type": "code",
   "execution_count": 10,
   "metadata": {},
   "outputs": [
    {
     "name": "stdout",
     "output_type": "stream",
     "text": [
      "Creating Keras model fc-1000-10\n",
      "Compiling model\n",
      "Training model\n",
      "Evaluating model\n",
      " 6656/10000 [==================>...........] - ETA: 0s\n",
      "Test results: 2.54% error\n",
      "CPU times: user 12.6 s, sys: 4.53 s, total: 17.1 s\n",
      "Wall time: 17.1 s\n"
     ]
    }
   ],
   "source": [
    "%%time\n",
    "\n",
    "# FC 1000-10\n",
    "fc_results['fc-1000-10'] = evaluate_fc_model('fc-1000-10', layers=(1000,10), activation='tanh', \n",
    "                                            optimizer=SGD(lr=0.1, decay=1e-6, momentum=0.9, nesterov=True),\n",
    "                                            X_tr=X_train, y_tr=y_train, X_te=X_test, y_te=y_test,\n",
    "                                            epochs=EPOCHS, batch_size=BATCH,\n",
    "                                            verbose=0)\n"
   ]
  },
  {
   "cell_type": "markdown",
   "metadata": {},
   "source": [
    "## Two hidden layer fully connected networks"
   ]
  },
  {
   "cell_type": "code",
   "execution_count": 11,
   "metadata": {},
   "outputs": [
    {
     "name": "stdout",
     "output_type": "stream",
     "text": [
      "Creating Keras model fc-300-100-10\n",
      "Compiling model\n",
      "Training model\n",
      "Evaluating model\n",
      "  256/10000 [..............................] - ETA: 0s\n",
      "Test results: 2.79% error\n",
      "CPU times: user 11.4 s, sys: 328 ms, total: 11.7 s\n",
      "Wall time: 11.7 s\n"
     ]
    }
   ],
   "source": [
    "%%time\n",
    "\n",
    "# FC 300-100-10\n",
    "fc_results['fc-300-100-10'] = evaluate_fc_model('fc-300-100-10', layers=(300,100,10), activation='tanh', \n",
    "                                            optimizer=SGD(lr=0.1, decay=1e-5, momentum=0.9, nesterov=True),\n",
    "                                            X_tr=X_train, y_tr=y_train, X_te=X_test, y_te=y_test,\n",
    "                                            epochs=EPOCHS, batch_size=BATCH,\n",
    "                                            verbose=0)\n"
   ]
  },
  {
   "cell_type": "code",
   "execution_count": 12,
   "metadata": {},
   "outputs": [
    {
     "name": "stdout",
     "output_type": "stream",
     "text": [
      "Creating Keras model fc-500-150-10\n",
      "Compiling model\n",
      "Training model\n",
      "Evaluating model\n",
      " 6400/10000 [==================>...........] - ETA: 0s\n",
      "Test results: 2.68% error\n",
      "CPU times: user 12.7 s, sys: 2.36 s, total: 15 s\n",
      "Wall time: 15 s\n"
     ]
    }
   ],
   "source": [
    "%%time\n",
    "\n",
    "# FC 500-150-10\n",
    "fc_results['fc-500-150-10'] = evaluate_fc_model('fc-500-150-10', layers=(500,150,10), activation='tanh', \n",
    "                                            optimizer=SGD(lr=0.1, decay=1e-5, momentum=0.9, nesterov=True),\n",
    "                                            X_tr=X_train, y_tr=y_train, X_te=X_test, y_te=y_test,\n",
    "                                            epochs=EPOCHS, batch_size=BATCH,\n",
    "                                            verbose=0)\n"
   ]
  },
  {
   "cell_type": "code",
   "execution_count": 13,
   "metadata": {},
   "outputs": [
    {
     "data": {
      "text/html": [
       "<div>\n",
       "<style>\n",
       "    .dataframe thead tr:only-child th {\n",
       "        text-align: right;\n",
       "    }\n",
       "\n",
       "    .dataframe thead th {\n",
       "        text-align: left;\n",
       "    }\n",
       "\n",
       "    .dataframe tbody tr th {\n",
       "        vertical-align: top;\n",
       "    }\n",
       "</style>\n",
       "<table border=\"1\" class=\"dataframe\">\n",
       "  <thead>\n",
       "    <tr style=\"text-align: right;\">\n",
       "      <th></th>\n",
       "      <th>error</th>\n",
       "    </tr>\n",
       "  </thead>\n",
       "  <tbody>\n",
       "    <tr>\n",
       "      <th>fc-1000-10</th>\n",
       "      <td>2.54</td>\n",
       "    </tr>\n",
       "    <tr>\n",
       "      <th>fc-500-150-10</th>\n",
       "      <td>2.68</td>\n",
       "    </tr>\n",
       "    <tr>\n",
       "      <th>fc-300-10</th>\n",
       "      <td>2.74</td>\n",
       "    </tr>\n",
       "    <tr>\n",
       "      <th>fc-300-100-10</th>\n",
       "      <td>2.79</td>\n",
       "    </tr>\n",
       "  </tbody>\n",
       "</table>\n",
       "</div>"
      ],
      "text/plain": [
       "               error\n",
       "fc-1000-10      2.54\n",
       "fc-500-150-10   2.68\n",
       "fc-300-10       2.74\n",
       "fc-300-100-10   2.79"
      ]
     },
     "execution_count": 13,
     "metadata": {},
     "output_type": "execute_result"
    }
   ],
   "source": [
    "# Compile the FC results so far into a dataframe for easy plotting\n",
    "\n",
    "fc_scores = {result: value.results['error'] for result, value in fc_results.items()}\n",
    "fc_scores_df = pd.DataFrame.from_dict(fc_scores, orient='index')\n",
    "\n",
    "fc_scores_df.columns = ['error']\n",
    "fc_scores_df['error'] *= 100.0\n",
    "fc_scores_df = fc_scores_df.sort_values('error', ascending=True)\n",
    "fc_scores_df.to_pickle('fc_scores.pkl')\n",
    "fc_scores_df"
   ]
  },
  {
   "cell_type": "code",
   "execution_count": 14,
   "metadata": {},
   "outputs": [
    {
     "data": {
      "image/png": "[encoded data removed]",
      "text/plain": [
       "<matplotlib.figure.Figure at 0x7efbb9e20470>"
      ]
     },
     "metadata": {},
     "output_type": "display_data"
    }
   ],
   "source": [
    "fig, ax = plt.subplots(1,1, figsize=(6,6))\n",
    "fc_scores_df.plot.barh(width=0.4, ax=ax, legend=None)\n",
    "ax.set(title=\"Fully-connected neural net test-set accuracy\", ylabel=\"Network\", xlabel=\"%age error\");\n",
    "plt.savefig('fc_scores.png', bbox_inches='tight', dpi=150)"
   ]
  },
  {
   "cell_type": "markdown",
   "metadata": {},
   "source": [
    "# Convolutional neural networks\n",
    "\n",
    "Now let's see how much further we can improve performance with convolutional neural networks. For the convolutional networks, we need a 2-d image instead of the flattened 1-d vector the fully connected networks used. We also need to add padding around each of the images to increase their size to 32x32, as in [1]."
   ]
  },
  {
   "cell_type": "code",
   "execution_count": 15,
   "metadata": {},
   "outputs": [
    {
     "name": "stdout",
     "output_type": "stream",
     "text": [
      "Loading pickle files\n"
     ]
    },
    {
     "data": {
      "text/plain": [
       "(60000, 28, 28)"
      ]
     },
     "execution_count": 15,
     "metadata": {},
     "output_type": "execute_result"
    }
   ],
   "source": [
    "# Load image pickle files\n",
    "X_train, y_train, X_test,  y_test = load_data()\n",
    "X_train.shape"
   ]
  },
  {
   "cell_type": "code",
   "execution_count": 16,
   "metadata": {},
   "outputs": [
    {
     "data": {
      "image/png": "[encoded data removed]",
      "text/plain": [
       "<matplotlib.figure.Figure at 0x7efbb9e200b8>"
      ]
     },
     "metadata": {},
     "output_type": "display_data"
    }
   ],
   "source": [
    "#Plot a few random numbers to sanity check their size and that they look correct\n",
    "N = 3\n",
    "indexes = np.random.choice(X_train.shape[0], N)\n",
    "fig, ax = plt.subplots(1, N)\n",
    "\n",
    "for num, idx in enumerate(indexes):\n",
    "    ax[num].imshow(X_train[idx])\n",
    "    ax[num].set(title=\"Label={}\\n{}x{}\".format(y_train[idx], *X_train[idx].shape))"
   ]
  },
  {
   "cell_type": "markdown",
   "metadata": {
    "collapsed": true
   },
   "source": [
    "## Padding images to 32x32 while centering image\n",
    "\n",
    "In [1], the images are padded to 32x32 to ensure every pixel of the input image ends up in the center of the receptive fields of the highest level feature receptors."
   ]
  },
  {
   "cell_type": "code",
   "execution_count": 17,
   "metadata": {
    "collapsed": true
   },
   "outputs": [],
   "source": [
    "def image_border(image, size, fill):\n",
    "    \"\"\"\n",
    "    Adds a border around the nupmy array of the gizen size and value\n",
    "    \"\"\"\n",
    "    im_w, im_h = image.shape\n",
    "    im_dtype = image.dtype\n",
    "    \n",
    "    new_image = np.full((im_w + (2 * size), im_h + (2 * size)),\n",
    "                        fill_value=fill, dtype=im_dtype)\n",
    "    new_image[size:im_h + size, size:im_w + size] = image\n",
    "    \n",
    "    assert new_image.dtype == image.dtype\n",
    "    assert new_image.shape[0] == image.shape[0] + (2 * size)\n",
    "    assert new_image.shape[1] == image.shape[1] + (2 * size)\n",
    "    assert np.array_equal(image, new_image[size:size+im_h, size:size+im_w])\n",
    "    return new_image"
   ]
  },
  {
   "cell_type": "code",
   "execution_count": 18,
   "metadata": {},
   "outputs": [
    {
     "data": {
      "image/png": "[encoded data removed]",
      "text/plain": [
       "<matplotlib.figure.Figure at 0x7efbb5ddaef0>"
      ]
     },
     "metadata": {},
     "output_type": "display_data"
    }
   ],
   "source": [
    "N = 3\n",
    "indexes = np.random.choice(X_train.shape[0], N)\n",
    "fig, ax = plt.subplots(2, N, figsize=(10,6))\n",
    "\n",
    "for num, idx in enumerate(indexes):\n",
    "    ax[0, num].imshow(X_train[idx])\n",
    "    ax[0, num].set(title=\"Label={}\\n{}x{}\".format(y_train[idx], *X_train[idx].shape))\n",
    "    \n",
    "    X_resize = image_border(X_train[idx], 2, 0)\n",
    "    ax[1, num].imshow(X_resize)\n",
    "    ax[1, num].set(title=\"Label={}\\n{}x{}\".format(y_train[idx], *X_resize.shape))\n",
    "\n",
    "plt.tight_layout()"
   ]
  },
  {
   "cell_type": "code",
   "execution_count": 19,
   "metadata": {},
   "outputs": [
    {
     "name": "stderr",
     "output_type": "stream",
     "text": [
      "Resizing train images: 100%|██████████| 60000/60000 [00:02<00:00, 24460.34it/s]\n",
      "Resizing test images: 100%|██████████| 10000/10000 [00:00<00:00, 22482.89it/s]"
     ]
    },
    {
     "name": "stdout",
     "output_type": "stream",
     "text": [
      "New X_train shape: (60000, 32, 32), new x_test shape: (10000, 32, 32)\n",
      "y_train shape: (60000, 1), y_test shape: (10000, 1)\n"
     ]
    },
    {
     "name": "stderr",
     "output_type": "stream",
     "text": [
      "\n"
     ]
    }
   ],
   "source": [
    "from tqdm import tqdm\n",
    "\n",
    "# resize all the training and test images\n",
    "n_train = X_train.shape[0]\n",
    "n_test = X_test.shape[0]\n",
    "\n",
    "\n",
    "def resize_images(images, description):\n",
    "    \"\"\"\n",
    "    Iterates through lowest order dimension, and resizes images\n",
    "    \"\"\"\n",
    "    new_images = np.zeros((images.shape[0], 32, 32))\n",
    "\n",
    "    for index in tqdm(range(images.shape[0]), desc=description):\n",
    "        new_images[index] = image_border(images[index], 2, 0)\n",
    "        \n",
    "    return new_images\n",
    "\n",
    "X_resize_train = resize_images(X_train, \"Resizing train images\")\n",
    "X_resize_test = resize_images(X_test, \"Resizing test images\")\n",
    "X_train, X_test = X_resize_train, X_resize_test\n",
    "\n",
    "print('New X_train shape: {}, new x_test shape: {}'.format(X_train.shape, X_test.shape))\n",
    "print('y_train shape: {}, y_test shape: {}'.format(y_train.shape, y_test.shape))"
   ]
  },
  {
   "cell_type": "markdown",
   "metadata": {},
   "source": [
    "## Z-Normalizing images, and converting labels to one-hot"
   ]
  },
  {
   "cell_type": "code",
   "execution_count": 20,
   "metadata": {},
   "outputs": [
    {
     "name": "stdout",
     "output_type": "stream",
     "text": [
      "Z-normalizing X data..\n",
      "Converting y variables to one-hot encoding..\n",
      "New X_train shape: (60000, 32, 32, 1), new x_test shape: (10000, 32, 32, 1)\n",
      "y_train shape: (60000, 10), y_test shape: (10000, 10)\n"
     ]
    }
   ],
   "source": [
    "from keras import backend as K\n",
    "\n",
    "# Input images need to be Z-normalized, and need to be flattened to 1-d vector and re-squared afterwards\n",
    "X_train, X_test = z_norm_X(flatten_images(X_train), flatten_images(X_test))\n",
    "X_train, X_test = square_images(X_train, 32, 32), square_images(X_test, 32, 32)\n",
    "\n",
    "# y values need to be converted to one-hot\n",
    "y_train, y_test = onehot_encode_y(y_train, y_test)\n",
    "\n",
    "# Need to add explicit shape of 1 as we have 1 channel for B&W images\n",
    "X_train, X_test = X_train[:,:,:, np.newaxis], X_test[:,:,:, np.newaxis] # Need explicit single channel \n",
    "\n",
    "print('New X_train shape: {}, new x_test shape: {}'.format(X_train.shape, X_test.shape))\n",
    "print('y_train shape: {}, y_test shape: {}'.format(y_train.shape, y_test.shape))"
   ]
  },
  {
   "cell_type": "code",
   "execution_count": 21,
   "metadata": {
    "collapsed": true
   },
   "outputs": [],
   "source": [
    "# Our channels are in the least significant order of the np array (32, 32, 1). \n",
    "# Make sure the current backend matches this ordering, and doesn't expect (1, 32, 32).\n",
    "assert K.image_data_format() == 'channels_last'"
   ]
  },
  {
   "cell_type": "markdown",
   "metadata": {},
   "source": [
    "# LeNet-5\n",
    "\n",
    "This is the best performing network, found on page 7 of [1]."
   ]
  },
  {
   "cell_type": "code",
   "execution_count": 22,
   "metadata": {},
   "outputs": [
    {
     "name": "stdout",
     "output_type": "stream",
     "text": [
      "_________________________________________________________________\n",
      "Layer (type)                 Output Shape              Param #   \n",
      "=================================================================\n",
      "conv2d_1 (Conv2D)            (None, 28, 28, 6)         156       \n",
      "_________________________________________________________________\n",
      "average_pooling2d_1 (Average (None, 14, 14, 6)         0         \n",
      "_________________________________________________________________\n",
      "activation_11 (Activation)   (None, 14, 14, 6)         0         \n",
      "_________________________________________________________________\n",
      "conv2d_2 (Conv2D)            (None, 10, 10, 16)        2416      \n",
      "_________________________________________________________________\n",
      "average_pooling2d_2 (Average (None, 5, 5, 16)          0         \n",
      "_________________________________________________________________\n",
      "activation_12 (Activation)   (None, 5, 5, 16)          0         \n",
      "_________________________________________________________________\n",
      "conv2d_3 (Conv2D)            (None, 1, 1, 120)         48120     \n",
      "_________________________________________________________________\n",
      "activation_13 (Activation)   (None, 1, 1, 120)         0         \n",
      "_________________________________________________________________\n",
      "flatten_1 (Flatten)          (None, 120)               0         \n",
      "_________________________________________________________________\n",
      "dense_11 (Dense)             (None, 120)               14520     \n",
      "_________________________________________________________________\n",
      "activation_14 (Activation)   (None, 120)               0         \n",
      "_________________________________________________________________\n",
      "dense_12 (Dense)             (None, 10)                1210      \n",
      "_________________________________________________________________\n",
      "activation_15 (Activation)   (None, 10)                0         \n",
      "=================================================================\n",
      "Total params: 66,422.0\n",
      "Trainable params: 66,422.0\n",
      "Non-trainable params: 0.0\n",
      "_________________________________________________________________\n",
      "None\n"
     ]
    }
   ],
   "source": [
    "from keras.models import Sequential\n",
    "from keras.layers import Conv2D, Dense, Activation, AveragePooling2D, Flatten\n",
    "\n",
    "def lenet5_model(verbose=False):\n",
    "    \"\"\"\n",
    "    Creates and returns a lenet5 model\n",
    "    \"\"\"\n",
    "\n",
    "    # Create the model\n",
    "    model = Sequential()\n",
    "\n",
    "    model.add(Conv2D(filters=6, kernel_size=(5, 5), strides=(1, 1), input_shape=(32, 32, 1))) # C1\n",
    "    model.add(AveragePooling2D(pool_size=(2, 2))) # S2\n",
    "    model.add(Activation('tanh'))\n",
    "\n",
    "    model.add(Conv2D(filters=16, kernel_size=(5, 5), strides=(1, 1))) # C3\n",
    "    model.add(AveragePooling2D(pool_size=(2, 2))) # S4\n",
    "    model.add(Activation('tanh'))\n",
    "\n",
    "    model.add(Conv2D(filters=120, kernel_size=(5, 5), strides=(1, 1))) # C5\n",
    "    model.add(Activation('tanh'))\n",
    "\n",
    "    model.add(Flatten())\n",
    "    model.add(Dense(120)) # F6\n",
    "    model.add(Activation('tanh'))\n",
    "\n",
    "    model.add(Dense(10))\n",
    "    model.add(Activation('softmax'))\n",
    "\n",
    "    if verbose:\n",
    "        print(model.summary())\n",
    "    return model\n",
    "    \n",
    "lenet5 = lenet5_model(verbose=True)"
   ]
  },
  {
   "cell_type": "code",
   "execution_count": 23,
   "metadata": {
    "scrolled": false
   },
   "outputs": [
    {
     "name": "stdout",
     "output_type": "stream",
     "text": [
      "\n",
      "Compiling model\n",
      "_________________________________________________________________\n",
      "Layer (type)                 Output Shape              Param #   \n",
      "=================================================================\n",
      "conv2d_4 (Conv2D)            (None, 28, 28, 6)         156       \n",
      "_________________________________________________________________\n",
      "average_pooling2d_3 (Average (None, 14, 14, 6)         0         \n",
      "_________________________________________________________________\n",
      "activation_16 (Activation)   (None, 14, 14, 6)         0         \n",
      "_________________________________________________________________\n",
      "conv2d_5 (Conv2D)            (None, 10, 10, 16)        2416      \n",
      "_________________________________________________________________\n",
      "average_pooling2d_4 (Average (None, 5, 5, 16)          0         \n",
      "_________________________________________________________________\n",
      "activation_17 (Activation)   (None, 5, 5, 16)          0         \n",
      "_________________________________________________________________\n",
      "conv2d_6 (Conv2D)            (None, 1, 1, 120)         48120     \n",
      "_________________________________________________________________\n",
      "activation_18 (Activation)   (None, 1, 1, 120)         0         \n",
      "_________________________________________________________________\n",
      "flatten_2 (Flatten)          (None, 120)               0         \n",
      "_________________________________________________________________\n",
      "dense_13 (Dense)             (None, 120)               14520     \n",
      "_________________________________________________________________\n",
      "activation_19 (Activation)   (None, 120)               0         \n",
      "_________________________________________________________________\n",
      "dense_14 (Dense)             (None, 10)                1210      \n",
      "_________________________________________________________________\n",
      "activation_20 (Activation)   (None, 10)                0         \n",
      "=================================================================\n",
      "Total params: 66,422.0\n",
      "Trainable params: 66,422.0\n",
      "Non-trainable params: 0.0\n",
      "_________________________________________________________________\n",
      "\n",
      "Training model\n",
      "Train on 48000 samples, validate on 12000 samples\n",
      "Epoch 1/20\n",
      "48000/48000 [==============================] - 5s - loss: 0.2851 - acc: 0.9171 - val_loss: 0.1242 - val_acc: 0.9627\n",
      "Epoch 2/20\n",
      "48000/48000 [==============================] - 4s - loss: 0.0972 - acc: 0.9708 - val_loss: 0.0988 - val_acc: 0.9705\n",
      "Epoch 3/20\n",
      "48000/48000 [==============================] - 4s - loss: 0.0643 - acc: 0.9804 - val_loss: 0.0848 - val_acc: 0.9743\n",
      "Epoch 4/20\n",
      "48000/48000 [==============================] - 4s - loss: 0.0484 - acc: 0.9851 - val_loss: 0.0778 - val_acc: 0.9765\n",
      "Epoch 5/20\n",
      "48000/48000 [==============================] - 4s - loss: 0.0358 - acc: 0.9890 - val_loss: 0.0716 - val_acc: 0.9782\n",
      "Epoch 6/20\n",
      "48000/48000 [==============================] - 4s - loss: 0.0273 - acc: 0.9911 - val_loss: 0.0750 - val_acc: 0.9787\n",
      "Epoch 7/20\n",
      "48000/48000 [==============================] - 4s - loss: 0.0186 - acc: 0.9948 - val_loss: 0.0704 - val_acc: 0.9801\n",
      "Epoch 8/20\n",
      "48000/48000 [==============================] - 4s - loss: 0.0143 - acc: 0.9960 - val_loss: 0.0775 - val_acc: 0.9792\n",
      "Epoch 9/20\n",
      "48000/48000 [==============================] - 4s - loss: 0.0110 - acc: 0.9971 - val_loss: 0.0684 - val_acc: 0.9808\n",
      "Epoch 10/20\n",
      "48000/48000 [==============================] - 4s - loss: 0.0074 - acc: 0.9981 - val_loss: 0.0697 - val_acc: 0.9827\n",
      "Epoch 11/20\n",
      "48000/48000 [==============================] - 4s - loss: 0.0047 - acc: 0.9991 - val_loss: 0.0697 - val_acc: 0.9821\n",
      "Epoch 12/20\n",
      "48000/48000 [==============================] - 4s - loss: 0.0033 - acc: 0.9995 - val_loss: 0.0712 - val_acc: 0.9829\n",
      "Epoch 13/20\n",
      "48000/48000 [==============================] - 4s - loss: 0.0025 - acc: 0.9998 - val_loss: 0.0684 - val_acc: 0.9836\n",
      "Epoch 14/20\n",
      "48000/48000 [==============================] - 4s - loss: 0.0016 - acc: 0.9999 - val_loss: 0.0699 - val_acc: 0.9822\n",
      "Epoch 15/20\n",
      "48000/48000 [==============================] - 4s - loss: 0.0013 - acc: 0.9999 - val_loss: 0.0705 - val_acc: 0.9833\n",
      "Epoch 16/20\n",
      "48000/48000 [==============================] - 4s - loss: 9.6858e-04 - acc: 1.0000 - val_loss: 0.0699 - val_acc: 0.9836\n",
      "Epoch 17/20\n",
      "48000/48000 [==============================] - 4s - loss: 8.0263e-04 - acc: 1.0000 - val_loss: 0.0706 - val_acc: 0.9833\n",
      "Epoch 18/20\n",
      "48000/48000 [==============================] - 4s - loss: 7.3827e-04 - acc: 1.0000 - val_loss: 0.0704 - val_acc: 0.9836\n",
      "Epoch 19/20\n",
      "48000/48000 [==============================] - 4s - loss: 6.4127e-04 - acc: 1.0000 - val_loss: 0.0720 - val_acc: 0.9835\n",
      "Epoch 20/20\n",
      "48000/48000 [==============================] - 4s - loss: 6.2098e-04 - acc: 1.0000 - val_loss: 0.0726 - val_acc: 0.9835\n",
      "\n",
      "Evaluating model\n",
      " 5632/10000 [===============>..............] - ETA: 0s\n",
      "Test results: Loss = 5.83, Error = 1.59\n"
     ]
    }
   ],
   "source": [
    "# Create a new model every time\n",
    "\n",
    "def evaluate_model(model, optimizer, cv_split=None, verbose=False):\n",
    "    \"\"\"\n",
    "    Wrapper method to create, train and optionally CV, and check performance on test set\n",
    "    \"\"\"\n",
    "\n",
    "    if verbose:\n",
    "        print('\\nCompiling model')\n",
    "        model.summary()\n",
    "        \n",
    "    model.compile(optimizer=optimizer,\n",
    "                   loss='categorical_crossentropy', \n",
    "                   metrics=['accuracy'])\n",
    "\n",
    "    if verbose:\n",
    "        print('\\nTraining model')\n",
    "    history = model.fit(X_train, y_train, validation_split=cv_split, \n",
    "                        epochs=20, batch_size=256, verbose=1 if verbose else 0)\n",
    "\n",
    "    if verbose:\n",
    "        print('\\nEvaluating model')\n",
    "    score = model.evaluate(X_test, y_test, batch_size=256)\n",
    "\n",
    "    if verbose:\n",
    "        print('\\nTest results: Loss = {:.2f}, Error = {:.2f}'.format(100.0 * score[0], 100.0 * (1.0 - score[1])))\n",
    "    \n",
    "    results = {'model': model, 'history': history.history, 'loss': score[0], 'acc': score[1], 'err': 1.0 - score[1]}\n",
    "    return results\n",
    "\n",
    "results = evaluate_model(model=lenet5_model(),\n",
    "                          optimizer=SGD(lr=0.1, decay=1e-6, momentum=0.9, nesterov=True),\n",
    "                          cv_split=0.2, verbose=True)"
   ]
  },
  {
   "cell_type": "markdown",
   "metadata": {},
   "source": [
    "## Visualizing results of Lenet-5"
   ]
  },
  {
   "cell_type": "code",
   "execution_count": 24,
   "metadata": {},
   "outputs": [
    {
     "data": {
      "image/png": "[encoded data removed]",
      "text/plain": [
       "<matplotlib.figure.Figure at 0x7efb8f9bafd0>"
      ]
     },
     "metadata": {},
     "output_type": "display_data"
    }
   ],
   "source": [
    "def plot_history(hist):\n",
    "    \"\"\"\n",
    "    Plots the history object returned by the .fit() call\n",
    "    \"\"\"\n",
    "    for metric in ('acc', 'loss', 'val_acc', 'val_loss'):\n",
    "        assert metric in hist.keys()\n",
    "    \n",
    "    hist_df = pd.DataFrame(hist)\n",
    "    fig, axes = plt.subplots(1,2,figsize=(14, 6))\n",
    "\n",
    "    hist_df['err'] = 1 - hist_df['acc']\n",
    "    hist_df['val_err'] = 1 - hist_df['val_acc']\n",
    "    \n",
    "    hist_df[['val_err', 'err']].plot.line(ax=axes[0])\n",
    "    hist_df[['val_loss', 'loss']].plot.line(ax=axes[1])\n",
    "    axes[0].set(title=\"Error during training\")\n",
    "    axes[0].legend(labels=[\"Test\", \"Training\"])\n",
    "    axes[1].set(title=\"Loss during training\")\n",
    "    axes[1].legend(labels=[\"Test\", \"Training\"])\n",
    " \n",
    "    for ax in axes:\n",
    "        ax.set_xticks(range(hist_df.shape[0]))\n",
    "        ax.set(xlabel=\"epoch\", ylabel=\"Accuracy / loss\")\n",
    "        \n",
    "#     return fig, axes\n",
    "\n",
    "plot_history(results['history'])"
   ]
  },
  {
   "cell_type": "code",
   "execution_count": 25,
   "metadata": {},
   "outputs": [
    {
     "data": {
      "text/html": [
       "<div>\n",
       "<style>\n",
       "    .dataframe thead tr:only-child th {\n",
       "        text-align: right;\n",
       "    }\n",
       "\n",
       "    .dataframe thead th {\n",
       "        text-align: left;\n",
       "    }\n",
       "\n",
       "    .dataframe tbody tr th {\n",
       "        vertical-align: top;\n",
       "    }\n",
       "</style>\n",
       "<table border=\"1\" class=\"dataframe\">\n",
       "  <thead>\n",
       "    <tr style=\"text-align: right;\">\n",
       "      <th></th>\n",
       "      <th>error</th>\n",
       "    </tr>\n",
       "  </thead>\n",
       "  <tbody>\n",
       "    <tr>\n",
       "      <th>fc-1000-10</th>\n",
       "      <td>2.54</td>\n",
       "    </tr>\n",
       "    <tr>\n",
       "      <th>fc-500-150-10</th>\n",
       "      <td>2.68</td>\n",
       "    </tr>\n",
       "    <tr>\n",
       "      <th>fc-300-10</th>\n",
       "      <td>2.74</td>\n",
       "    </tr>\n",
       "    <tr>\n",
       "      <th>fc-300-100-10</th>\n",
       "      <td>2.79</td>\n",
       "    </tr>\n",
       "  </tbody>\n",
       "</table>\n",
       "</div>"
      ],
      "text/plain": [
       "               error\n",
       "fc-1000-10      2.54\n",
       "fc-500-150-10   2.68\n",
       "fc-300-10       2.74\n",
       "fc-300-100-10   2.79"
      ]
     },
     "execution_count": 25,
     "metadata": {},
     "output_type": "execute_result"
    }
   ],
   "source": [
    "fc_scores_df"
   ]
  },
  {
   "cell_type": "code",
   "execution_count": 26,
   "metadata": {},
   "outputs": [
    {
     "data": {
      "text/html": [
       "<div>\n",
       "<style>\n",
       "    .dataframe thead tr:only-child th {\n",
       "        text-align: right;\n",
       "    }\n",
       "\n",
       "    .dataframe thead th {\n",
       "        text-align: left;\n",
       "    }\n",
       "\n",
       "    .dataframe tbody tr th {\n",
       "        vertical-align: top;\n",
       "    }\n",
       "</style>\n",
       "<table border=\"1\" class=\"dataframe\">\n",
       "  <thead>\n",
       "    <tr style=\"text-align: right;\">\n",
       "      <th></th>\n",
       "      <th>error</th>\n",
       "    </tr>\n",
       "  </thead>\n",
       "  <tbody>\n",
       "    <tr>\n",
       "      <th>lenet-5</th>\n",
       "      <td>1.59</td>\n",
       "    </tr>\n",
       "    <tr>\n",
       "      <th>fc-1000-10</th>\n",
       "      <td>2.54</td>\n",
       "    </tr>\n",
       "    <tr>\n",
       "      <th>fc-500-150-10</th>\n",
       "      <td>2.68</td>\n",
       "    </tr>\n",
       "    <tr>\n",
       "      <th>fc-300-10</th>\n",
       "      <td>2.74</td>\n",
       "    </tr>\n",
       "    <tr>\n",
       "      <th>fc-300-100-10</th>\n",
       "      <td>2.79</td>\n",
       "    </tr>\n",
       "  </tbody>\n",
       "</table>\n",
       "</div>"
      ],
      "text/plain": [
       "               error\n",
       "lenet-5         1.59\n",
       "fc-1000-10      2.54\n",
       "fc-500-150-10   2.68\n",
       "fc-300-10       2.74\n",
       "fc-300-100-10   2.79"
      ]
     },
     "execution_count": 26,
     "metadata": {},
     "output_type": "execute_result"
    },
    {
     "data": {
      "image/png": "[encoded data removed]",
      "text/plain": [
       "<matplotlib.figure.Figure at 0x7efbb5b0b048>"
      ]
     },
     "metadata": {},
     "output_type": "display_data"
    }
   ],
   "source": [
    "all_scores_df = pd.DataFrame.from_dict({'lenet-5': results['err'] * 100}, orient='index')\n",
    "all_scores_df.columns = ['error']\n",
    "all_scores_df = fc_scores_df.append(all_scores_df)\n",
    "all_scores_df = all_scores_df.sort_values('error')\n",
    "# all_scores_df.sort_values('error').plot.barh()\n",
    "# results['err']\n",
    "\n",
    "\n",
    "fig, ax = plt.subplots(1,1, figsize=(6,6))\n",
    "all_scores_df.plot.barh(width=0.4, ax=ax, legend=None)\n",
    "ax.set(title=\"Neural networks test set accuracy\", ylabel=\"Network\", xlabel=\"%age error\");\n",
    "plt.savefig('lenet_scores.png', bbox_inches='tight', dpi=150)\n",
    "\n",
    "all_scores_df"
   ]
  },
  {
   "cell_type": "markdown",
   "metadata": {},
   "source": [
    "## Cross validation of optimizer\n",
    "\n",
    "So far we've used a stock SGD optimizer with default settings. Can we randomize our parameters and come up with a better one?\n",
    "\n",
    "It looks like it would need a lot of random guesses to get the same performance as the stock SGD we used so far. We could still try "
   ]
  },
  {
   "cell_type": "code",
   "execution_count": 27,
   "metadata": {
    "collapsed": true
   },
   "outputs": [],
   "source": [
    "def random_sgd(verbose=False):\n",
    "    \"\"\"\n",
    "    Generates an SGD optimizer with random values\n",
    "    \"\"\"\n",
    "    lr = 10 ** np.random.randint(-6, -3)\n",
    "    momentum = 0.1 * np.random.randint(8, 10)\n",
    "    decay = 10 ** np.random.randint(-5, -3)\n",
    "    nesterov = np.random.uniform() < 0.5\n",
    "    \n",
    "    sgd = SGD(lr=lr, momentum=momentum, decay=decay, nesterov=nesterov)\n",
    "    if verbose:\n",
    "        print('sgd: lr={}, momentum={}, decay={}, nesterov={}'.format(lr, momentum, decay, nesterov))\n",
    "        \n",
    "    return sgd\n",
    "    \n",
    "# random_sgd(verbose=True)"
   ]
  },
  {
   "cell_type": "code",
   "execution_count": 28,
   "metadata": {
    "collapsed": true
   },
   "outputs": [],
   "source": [
    "# Randomize optimizer and run for 100 samples\n",
    "def best_model(N=100):\n",
    "    \"\"\"\n",
    "    Returns the best model after random search for N SGD values\n",
    "    \"\"\"\n",
    "    best_result = None\n",
    "    best_acc = 0\n",
    "\n",
    "    for n in range(N):\n",
    "        print('\\nIteration {}'.format(n))\n",
    "        sgd_opt = random_sgd()\n",
    "        result = evaluate_model(lenet5_model(), sgd_opt)\n",
    "        current_acc = result['acc']\n",
    "        \n",
    "        if current_acc > best_acc:\n",
    "            print('\\n-> Updating best model. Current acc: {}, old acc: {}'.format(n, current_acc, best_acc))\n",
    "            best_result = result\n",
    "            best_acc = current_acc\n",
    "    \n",
    "    return result\n",
    "\n",
    "# best_lenet5 = best_model(N=5)"
   ]
  },
  {
   "cell_type": "markdown",
   "metadata": {
    "collapsed": true
   },
   "source": [
    "# Modernizing the network - max-pooling, relu, and dropout\n",
    "\n",
    "Since [1] was published, new layer types have been invented to improve ease-of training, and reduce overfitting. Let's retrofit the original network with these new improvements, and see how the performance changes.\n",
    "\n",
    "When creating Dropout layers in between the activation and convolutional layers, it's not clear how many to use, and what the dropout percentage should be. Let's pass in configurations to the model creation method so we can try different combinations later."
   ]
  },
  {
   "cell_type": "code",
   "execution_count": 29,
   "metadata": {},
   "outputs": [
    {
     "name": "stdout",
     "output_type": "stream",
     "text": [
      "_________________________________________________________________\n",
      "Layer (type)                 Output Shape              Param #   \n",
      "=================================================================\n",
      "conv2d_7 (Conv2D)            (None, 28, 28, 6)         156       \n",
      "_________________________________________________________________\n",
      "max_pooling2d_1 (MaxPooling2 (None, 14, 14, 6)         0         \n",
      "_________________________________________________________________\n",
      "activation_21 (Activation)   (None, 14, 14, 6)         0         \n",
      "_________________________________________________________________\n",
      "conv2d_8 (Conv2D)            (None, 10, 10, 16)        2416      \n",
      "_________________________________________________________________\n",
      "max_pooling2d_2 (MaxPooling2 (None, 5, 5, 16)          0         \n",
      "_________________________________________________________________\n",
      "activation_22 (Activation)   (None, 5, 5, 16)          0         \n",
      "_________________________________________________________________\n",
      "conv2d_9 (Conv2D)            (None, 1, 1, 120)         48120     \n",
      "_________________________________________________________________\n",
      "activation_23 (Activation)   (None, 1, 1, 120)         0         \n",
      "_________________________________________________________________\n",
      "flatten_3 (Flatten)          (None, 120)               0         \n",
      "_________________________________________________________________\n",
      "dense_15 (Dense)             (None, 120)               14520     \n",
      "_________________________________________________________________\n",
      "activation_24 (Activation)   (None, 120)               0         \n",
      "_________________________________________________________________\n",
      "dense_16 (Dense)             (None, 10)                1210      \n",
      "_________________________________________________________________\n",
      "activation_25 (Activation)   (None, 10)                0         \n",
      "=================================================================\n",
      "Total params: 66,422.0\n",
      "Trainable params: 66,422.0\n",
      "Non-trainable params: 0.0\n",
      "_________________________________________________________________\n",
      "None\n"
     ]
    }
   ],
   "source": [
    "from keras.models import Sequential\n",
    "from keras.layers import MaxPooling2D, Dropout\n",
    "\n",
    "def lenet5_modern_model(dropout_cnt=0, dropout_val=0.5, bias_init=None, verbose=False):\n",
    "    \"\"\"\n",
    "    Creates and returns a lenet5 model with retrofitted modern layers:\n",
    "    - ReLU activations\n",
    "    - Max pooling\n",
    "    - Dropout\n",
    "    \"\"\"\n",
    "\n",
    "    # Create the model\n",
    "    model = Sequential()\n",
    "\n",
    "    if bias_init:\n",
    "        bias = bias_init\n",
    "    else:\n",
    "        bias='zeros'\n",
    "        \n",
    "    model.add(Conv2D(filters=6, kernel_size=(5, 5), strides=(1, 1), \n",
    "                     input_shape=(32, 32, 1), bias_initializer=bias)) # C1\n",
    "    model.add(MaxPooling2D(pool_size=(2, 2))) # S2\n",
    "    model.add(Activation('relu'))\n",
    "    if dropout_cnt >= 1:\n",
    "        model.add(Dropout(dropout_val))\n",
    "    \n",
    "    model.add(Conv2D(filters=16, kernel_size=(5, 5), strides=(1, 1),\n",
    "                    bias_initializer=bias)) # C3\n",
    "    model.add(MaxPooling2D(pool_size=(2, 2))) # S4\n",
    "    model.add(Activation('relu'))\n",
    "    if dropout_cnt >= 2:\n",
    "        model.add(Dropout(dropout_val))\n",
    "\n",
    "    model.add(Conv2D(filters=120, kernel_size=(5, 5), strides=(1, 1),\n",
    "                    bias_initializer=bias)) # C5\n",
    "    model.add(Activation('relu'))\n",
    "    if dropout_cnt >= 3:\n",
    "        model.add(Dropout(dropout_val))\n",
    "\n",
    "    model.add(Flatten())\n",
    "    model.add(Dense(120)) # F6\n",
    "    model.add(Activation('relu'))\n",
    "    if dropout_cnt >= 4:\n",
    "        model.add(Dropout(dropout_val))\n",
    "    \n",
    "    model.add(Dense(10))\n",
    "    model.add(Activation('softmax'))\n",
    "\n",
    "    if verbose:\n",
    "        print(model.summary())\n",
    "    return model\n",
    "    \n",
    "lenet5 = lenet5_modern_model(verbose=True)"
   ]
  },
  {
   "cell_type": "markdown",
   "metadata": {},
   "source": [
    "## Run a grid search over dropout layer count and percentage\n",
    "\n",
    "Let's do a grid search to find out how many dropout layers gives the best performance, and what their percentage should be. We're restricting the state space by adding dropout layers from the first layer onwards, and using the same percentage on each layer.\n",
    "\n",
    "** This is going to take a long time to run!! **"
   ]
  },
  {
   "cell_type": "code",
   "execution_count": 30,
   "metadata": {
    "scrolled": false
   },
   "outputs": [
    {
     "name": "stdout",
     "output_type": "stream",
     "text": [
      "\n",
      "Testing 1 runs with 1 layer(s) of dropout, 0.1 value .. \n",
      " 7424/10000 [=====================>........] - ETA: 0s\n",
      "Updating best settings:\n",
      "dropout: 1 @ 0.1, error: 0.0095 (0.0000 std dev)\n",
      "\n",
      "Testing 1 runs with 1 layer(s) of dropout, 0.2 value .. \n",
      " 9728/10000 [============================>.] - ETA: 0sdropout: 1 @ 0.2, error: 0.0116 (0.0000 std dev)\n",
      "\n",
      "Testing 1 runs with 1 layer(s) of dropout, 0.3 value .. \n",
      " 8192/10000 [=======================>......] - ETA: 0sdropout: 1 @ 0.3, error: 0.0104 (0.0000 std dev)\n",
      "\n",
      "Testing 1 runs with 2 layer(s) of dropout, 0.1 value .. \n",
      " 7936/10000 [======================>.......] - ETA: 0sdropout: 2 @ 0.1, error: 0.0096 (0.0000 std dev)\n",
      "\n",
      "Testing 1 runs with 2 layer(s) of dropout, 0.2 value .. \n",
      " 7936/10000 [======================>.......] - ETA: 0sdropout: 2 @ 0.2, error: 0.0100 (0.0000 std dev)\n",
      "\n",
      "Testing 1 runs with 2 layer(s) of dropout, 0.3 value .. \n",
      " 9216/10000 [==========================>...] - ETA: 0sdropout: 2 @ 0.3, error: 0.0100 (0.0000 std dev)\n",
      "\n",
      "Testing 1 runs with 3 layer(s) of dropout, 0.1 value .. \n",
      " 8960/10000 [=========================>....] - ETA: 0sdropout: 3 @ 0.1, error: 0.0097 (0.0000 std dev)\n",
      "\n",
      "Testing 1 runs with 3 layer(s) of dropout, 0.2 value .. \n",
      " 7424/10000 [=====================>........] - ETA: 0s\n",
      "Updating best settings:\n",
      "dropout: 3 @ 0.2, error: 0.0090 (0.0000 std dev)\n",
      "\n",
      "Testing 1 runs with 3 layer(s) of dropout, 0.3 value .. \n",
      " 8960/10000 [=========================>....] - ETA: 0sdropout: 3 @ 0.3, error: 0.0097 (0.0000 std dev)\n",
      "{(2, 0.1): {'std': 0.0, 'mean': 0.0096000000000000529}, (3, 0.2): {'std': 0.0, 'mean': 0.009000000000000008}, (1, 0.2): {'std': 0.0, 'mean': 0.011600000000000055}, (3, 0.3): {'std': 0.0, 'mean': 0.0097000000000000419}, (2, 0.2): {'std': 0.0, 'mean': 0.010000000000000009}, (3, 0.1): {'std': 0.0, 'mean': 0.0097000000000000419}, (2, 0.3): {'std': 0.0, 'mean': 0.010000000000000009}, (1, 0.1): {'std': 0.0, 'mean': 0.0094999999999999529}, (1, 0.3): {'std': 0.0, 'mean': 0.010399999999999965}}\n",
      "CPU times: user 13min 42s, sys: 5min 43s, total: 19min 26s\n",
      "Wall time: 19min 28s\n"
     ]
    }
   ],
   "source": [
    "%%time\n",
    "\n",
    "results = dict()\n",
    "best_dropout = None\n",
    "min_error = 1.00\n",
    "RUNS = 3\n",
    "\n",
    "# Exhaustive grid search of dropout configs\n",
    "for dropout_cnt in range(1, 4):\n",
    "    for dropout_val in (0.1, 0.2, 0.3): # (0.1, 0.2, 0.3):\n",
    "        \n",
    "        print('\\nTesting {} runs with {} layer(s) of dropout, {} value .. '.format(RUNS, dropout_cnt, dropout_val))\n",
    "        errors = np.zeros((RUNS,))\n",
    "        for index in range(RUNS): # Run each combination multiple times\n",
    "            \n",
    "            model = lenet5_modern_model(dropout_cnt=dropout_cnt, dropout_val=dropout_val)\n",
    "            result = evaluate_model(model,\n",
    "                                    optimizer=SGD(lr=0.01, decay=1e-6, momentum=0.9, nesterov=True),\n",
    "                                    cv_split=None, verbose=False)\n",
    "\n",
    "            errors[index] = 1.0 - result['acc']\n",
    "        \n",
    "        result_key = (dropout_cnt, dropout_val)\n",
    "        mean, std = errors.mean(), errors.std()\n",
    "        \n",
    "        # Update the best settings based on worst case \n",
    "        if mean < min_error:\n",
    "            print(\"\\nUpdating best settings:\")\n",
    "            best_dropout = result_key\n",
    "            min_error = mean\n",
    "            \n",
    "        results[result_key] = {'mean': mean, 'std': std}\n",
    "        \n",
    "        print('\\nDropout: {} @ {}, error: {:.4f} ({:.4f} std dev)'.format(*result_key, mean, std))\n",
    "\n",
    "print(results)"
   ]
  },
  {
   "cell_type": "code",
   "execution_count": 31,
   "metadata": {},
   "outputs": [
    {
     "name": "stdout",
     "output_type": "stream",
     "text": [
      "Best dropout settings: (3, 0.2), giving error of: 0.009000000000000008\n"
     ]
    }
   ],
   "source": [
    "print('Best dropout settings: {}, giving error of: {}'.format(best_dropout, min_error))"
   ]
  },
  {
   "cell_type": "code",
   "execution_count": 32,
   "metadata": {
    "collapsed": true
   },
   "outputs": [],
   "source": [
    "new_score_df = pd.DataFrame.from_dict({'lenet-5-dropout-relu': min_error * 100}, orient='index')\n",
    "new_score_df.columns = ['error']\n",
    "all_scores_df = all_scores_df.append(new_score_df)\n",
    "all_scores_df = all_scores_df.sort_values('error')\n",
    "# all_scores_df.sort_values('error').plot.barh()\n",
    "# results['err']\n"
   ]
  },
  {
   "cell_type": "code",
   "execution_count": 33,
   "metadata": {},
   "outputs": [
    {
     "data": {
      "text/html": [
       "<div>\n",
       "<style>\n",
       "    .dataframe thead tr:only-child th {\n",
       "        text-align: right;\n",
       "    }\n",
       "\n",
       "    .dataframe thead th {\n",
       "        text-align: left;\n",
       "    }\n",
       "\n",
       "    .dataframe tbody tr th {\n",
       "        vertical-align: top;\n",
       "    }\n",
       "</style>\n",
       "<table border=\"1\" class=\"dataframe\">\n",
       "  <thead>\n",
       "    <tr style=\"text-align: right;\">\n",
       "      <th></th>\n",
       "      <th>error</th>\n",
       "    </tr>\n",
       "  </thead>\n",
       "  <tbody>\n",
       "    <tr>\n",
       "      <th>lenet-5-dropout-relu</th>\n",
       "      <td>0.90</td>\n",
       "    </tr>\n",
       "    <tr>\n",
       "      <th>lenet-5</th>\n",
       "      <td>1.59</td>\n",
       "    </tr>\n",
       "    <tr>\n",
       "      <th>fc-1000-10</th>\n",
       "      <td>2.54</td>\n",
       "    </tr>\n",
       "    <tr>\n",
       "      <th>fc-500-150-10</th>\n",
       "      <td>2.68</td>\n",
       "    </tr>\n",
       "    <tr>\n",
       "      <th>fc-300-10</th>\n",
       "      <td>2.74</td>\n",
       "    </tr>\n",
       "    <tr>\n",
       "      <th>fc-300-100-10</th>\n",
       "      <td>2.79</td>\n",
       "    </tr>\n",
       "  </tbody>\n",
       "</table>\n",
       "</div>"
      ],
      "text/plain": [
       "                      error\n",
       "lenet-5-dropout-relu   0.90\n",
       "lenet-5                1.59\n",
       "fc-1000-10             2.54\n",
       "fc-500-150-10          2.68\n",
       "fc-300-10              2.74\n",
       "fc-300-100-10          2.79"
      ]
     },
     "execution_count": 33,
     "metadata": {},
     "output_type": "execute_result"
    },
    {
     "data": {
      "image/png": "[encoded data removed]",
      "text/plain": [
       "<matplotlib.figure.Figure at 0x7efb5547b940>"
      ]
     },
     "metadata": {},
     "output_type": "display_data"
    }
   ],
   "source": [
    "fig, ax = plt.subplots(1,1, figsize=(6,6))\n",
    "all_scores_df.plot.barh(width=0.4, ax=ax, legend=None)\n",
    "ax.set(title=\"Neural networks test set accuracy\", ylabel=\"Network\", xlabel=\"%age error\");\n",
    "plt.savefig('lenet_modern_scores.png', bbox_inches='tight', dpi=150)\n",
    "\n",
    "all_scores_df"
   ]
  },
  {
   "cell_type": "markdown",
   "metadata": {},
   "source": [
    "# How much training data is enough ?!\n",
    "\n",
    "Now with the best dropout settings, let's train on increasingly more data, and see how the performance varies on the test set. This section uses the `best_dropout` setting found in the previous cell. "
   ]
  },
  {
   "cell_type": "code",
   "execution_count": null,
   "metadata": {
    "collapsed": true
   },
   "outputs": [],
   "source": [
    "# Shortcut the cross validation above as it takes ages\n",
    "best_dropout = 2, 0.1"
   ]
  },
  {
   "cell_type": "code",
   "execution_count": null,
   "metadata": {
    "collapsed": true
   },
   "outputs": [],
   "source": [
    "# Create a new evaluation method where the data is passed in\n",
    "\n",
    "def evaluate_model(model, X_tr, y_tr, X_te, y_te, optimizer, batch=256, cv_split=None, verbose=False):\n",
    "    \"\"\"\n",
    "    Wrapper method to create, train and optionally CV, and check performance on test set\n",
    "    \"\"\"\n",
    "\n",
    "    if verbose:\n",
    "        print('\\nCompiling model')\n",
    "        model.summary()\n",
    "        \n",
    "    model.compile(optimizer=optimizer,\n",
    "                   loss='categorical_crossentropy', \n",
    "                   metrics=['accuracy'])\n",
    "\n",
    "    if verbose:\n",
    "        print('\\nTraining model')\n",
    "    history = model.fit(X_tr, y_tr, validation_split=cv_split, \n",
    "                        epochs=20, batch_size=batch, verbose=1 if verbose else 0)\n",
    "\n",
    "    if verbose:\n",
    "        print('\\nEvaluating model')\n",
    "        \n",
    "    train_score = model.evaluate(X_tr, y_tr, batch_size=batch)\n",
    "    test_score = model.evaluate(X_te, y_te, batch_size=batch)\n",
    "\n",
    "    if verbose:\n",
    "        print('\\nTest results: Loss = {:.2f}, Error = {:.2f}'.format(100.0 * test_score[0], 100.0 * (1.0 - test_score[1])))\n",
    "    \n",
    "    results = {'model': model, 'history': history.history, \n",
    "               'train_loss': train_score[0], 'train_acc': train_score[1], 'train_err': 1.0 - train_score[1],\n",
    "               'test_loss': test_score[0], 'test_acc': test_score[1], 'test_err': 1.0 - test_score[1],\n",
    "              }\n",
    "    return results\n"
   ]
  },
  {
   "cell_type": "code",
   "execution_count": null,
   "metadata": {
    "collapsed": true
   },
   "outputs": [],
   "source": [
    "%%time\n",
    "n_rows = range(5000, 65000, 5000)\n",
    "\n",
    "results = dict()\n",
    "\n",
    "for n in n_rows:\n",
    "    print('\\nValidating train and test set performance with {} training examples'.format(n))\n",
    "    X_train_sub, y_train_sub = stratified_subsample(X_train, y_train, n)\n",
    "    \n",
    "    model = lenet5_modern_model(dropout_cnt=best_dropout[0], dropout_val=best_dropout[1])\n",
    "    result = evaluate_model(model,\n",
    "                            X_train_sub, y_train_sub, X_test, y_test,\n",
    "                            optimizer=SGD(lr=0.01, decay=1e-6, momentum=0.9, nesterov=True),\n",
    "                            cv_split=None, verbose=False)\n",
    "\n",
    "    results[n] = result\n",
    "\n",
    "train_sub_df = pd.DataFrame.from_dict(results, orient='index')\n",
    "train_sub_df.index.name=\"N\"\n",
    "train_sub_df = train_sub_df[['train_err', 'test_err']]\n",
    "train_sub_df"
   ]
  },
  {
   "cell_type": "code",
   "execution_count": null,
   "metadata": {
    "collapsed": true
   },
   "outputs": [],
   "source": [
    "train_sub_df.plot.line()"
   ]
  },
  {
   "cell_type": "markdown",
   "metadata": {},
   "source": [
    "# Image augmentation \n",
    "\n",
    "Plot the CV error and test error as a function of the training set size. Note the gap to motivate the image augmentation approach.\n",
    "\n"
   ]
  },
  {
   "cell_type": "code",
   "execution_count": null,
   "metadata": {
    "collapsed": true
   },
   "outputs": [],
   "source": []
  },
  {
   "cell_type": "code",
   "execution_count": null,
   "metadata": {
    "collapsed": true
   },
   "outputs": [],
   "source": [
    "def implot(images):\n",
    "    \"\"\"\n",
    "    Plots the images on rows of 3\n",
    "    \"\"\"\n",
    "    fig, ax = plt.subplots(1, 3, figsize=(10,6))\n",
    "    \n",
    "    for idx, axis in enumerate(ax):\n",
    "        ax[idx].imshow(images[idx].squeeze())"
   ]
  },
  {
   "cell_type": "code",
   "execution_count": null,
   "metadata": {},
   "outputs": [],
   "source": [
    "# Train best network with 40 epochs of augmented data\n",
    "\n",
    "from keras.preprocessing.image import ImageDataGenerator\n",
    "\n",
    "datagen = ImageDataGenerator(\n",
    "    rotation_range=20,\n",
    "    width_shift_range=0.2,\n",
    "    height_shift_range=0.2,\n",
    "    shear_range=np.pi/4.0\n",
    ")\n",
    "\n",
    "\n",
    "for X_batch, y_batch in datagen.flow(X_train, y_train, batch_size=3):\n",
    "    implot(X_batch)\n",
    "    break\n",
    "    "
   ]
  },
  {
   "cell_type": "code",
   "execution_count": null,
   "metadata": {
    "collapsed": true
   },
   "outputs": [],
   "source": [
    "# Train model with augmented data\n",
    "\n",
    "\n",
    "def evaluate_model(model, datagenerator, \n",
    "                   X_tr, y_tr, X_te, y_te, \n",
    "                   optimizer, batch=256, epochs=20, cv_split=None, verbose=False):\n",
    "    \"\"\"\n",
    "    Wrapper method to create, train and optionally CV, and check performance on test set\n",
    "    \"\"\"\n",
    "\n",
    "    if verbose:\n",
    "        print('\\nCompiling model')\n",
    "        model.summary()\n",
    "        \n",
    "    model.compile(optimizer=optimizer,\n",
    "                   loss='categorical_crossentropy', \n",
    "                   metrics=['accuracy'])\n",
    "\n",
    "    if verbose:\n",
    "        print('\\nTraining model')\n",
    "#     history = model.fit(X_tr, y_tr, validation_split=cv_split, \n",
    "#                         epochs=epochs, batch_size=batch, verbose=1 if verbose else 0)\n",
    "\n",
    "    # Only difference is now the generator provides flow of images for minibatches\n",
    "    history = model.fit_generator(datagen.flow(X_tr, y_tr, batch_size=batch),\n",
    "                    steps_per_epoch=X_tr.shape[0] / batch, epochs=epochs)\n",
    "\n",
    "    \n",
    "    if verbose:\n",
    "        print('\\nEvaluating model')\n",
    "        \n",
    "    train_score = model.evaluate(X_tr, y_tr, batch_size=batch)\n",
    "    test_score = model.evaluate(X_te, y_te, batch_size=batch)\n",
    "\n",
    "    if verbose:\n",
    "        print('\\nTest results: Loss = {:.2f}, Error = {:.2f}'.format(100.0 * test_score[0], 100.0 * (1.0 - test_score[1])))\n",
    "    \n",
    "    results = {'model': model, 'history': history.history, \n",
    "               'train_loss': train_score[0], 'train_acc': train_score[1], 'train_err': 1.0 - train_score[1],\n",
    "               'test_loss': test_score[0], 'test_acc': test_score[1], 'test_err': 1.0 - test_score[1],\n",
    "              }\n",
    "    return results\n",
    "\n"
   ]
  },
  {
   "cell_type": "code",
   "execution_count": null,
   "metadata": {},
   "outputs": [],
   "source": [
    "%%time\n",
    "\n",
    "N = 3\n",
    "\n",
    "all_results = dict()\n",
    "\n",
    "for image_gen in (ImageDataGenerator(),\n",
    "                 ImageDataGenerator(rotation_range=20,\n",
    "                                   width_shift_range=0.2,\n",
    "                                   height_shift_range=0.2,\n",
    "                                   shear_range=np.pi/4.0)):\n",
    "    print('Using Image generator: {}'.format(image_gen))\n",
    "    \n",
    "    for epoch in range(20, 120, 20):\n",
    "        print('Training for {} epochs'.format(epoch))\n",
    "        \n",
    "        results = np.zeros((N,))\n",
    "        for n in range(N): \n",
    "            print('\\nEvaluating model {} of {}'.format(n+1, N))\n",
    "\n",
    "            result = evaluate_model(lenet5_modern_model(dropout_cnt=2, dropout_val=0.1),\n",
    "                                    image_gen,\n",
    "                                    X_train, y_train, X_test, y_test,\n",
    "                                    optimizer=SGD(lr=0.01, decay=1e-6, momentum=0.9, nesterov=True),\n",
    "                                    batch=256, epochs=epoch,\n",
    "                                    cv_split=None, verbose=False)\n",
    "\n",
    "            results[n] = result['test_err']\n",
    "        error = results.mean()\n",
    "        std = results.std()\n",
    "        print('\\n{} runs, {} epochs, mean error: {}, std dev: {}'.format(N, epoch, error, std))\n",
    "\n",
    "        all_results[(image_gen, epoch)] = (error, std)\n",
    "    \n",
    "print(all_results)"
   ]
  },
  {
   "cell_type": "code",
   "execution_count": null,
   "metadata": {
    "collapsed": true
   },
   "outputs": [],
   "source": []
  },
  {
   "cell_type": "markdown",
   "metadata": {},
   "source": [
    "# Confusion matrix"
   ]
  },
  {
   "cell_type": "markdown",
   "metadata": {},
   "source": [
    "# Mis-classified examples"
   ]
  },
  {
   "cell_type": "code",
   "execution_count": null,
   "metadata": {
    "collapsed": true
   },
   "outputs": [],
   "source": []
  },
  {
   "cell_type": "markdown",
   "metadata": {},
   "source": [
    "# Ensembling models\n",
    "\n",
    "Train multiple models, keep the ones with the least correlation and take mojority vote from them."
   ]
  },
  {
   "cell_type": "markdown",
   "metadata": {
    "collapsed": true
   },
   "source": [
    "# "
   ]
  },
  {
   "cell_type": "code",
   "execution_count": null,
   "metadata": {
    "collapsed": true
   },
   "outputs": [],
   "source": [
    "# Read back the weights of the best performing network and visualize them"
   ]
  },
  {
   "cell_type": "code",
   "execution_count": null,
   "metadata": {
    "collapsed": true
   },
   "outputs": [],
   "source": []
  }
 ],
 "metadata": {
  "anaconda-cloud": {},
  "kernelspec": {
   "display_name": "Python [conda env:tensorflow]",
   "language": "python",
   "name": "conda-env-tensorflow-py"
  },
  "language_info": {
   "codemirror_mode": {
    "name": "ipython",
    "version": 3
   },
   "file_extension": ".py",
   "mimetype": "text/x-python",
   "name": "python",
   "nbconvert_exporter": "python",
   "pygments_lexer": "ipython3",
   "version": "3.5.3"
  }
 },
 "nbformat": 4,
 "nbformat_minor": 2
}
