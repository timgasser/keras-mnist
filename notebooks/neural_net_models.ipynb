{
 "cells": [
  {
   "cell_type": "markdown",
   "metadata": {},
   "source": [
    "# Neural network models\n",
    "\n",
    "This notebook picks up after the `simple_models` notebook. After trying a range of classification algorithms, we'll try out some of the neural network models in [1]. These include fully-connected models of varying layer sizes, and finally convolutional models including the famous LeNet-5. \n",
    "\n",
    "Along the way, we'll be using Keras which is a library sitting on top of Theano or Tensorflow. This allows easy construction, training and evaluation of neural nets. Before we get started, here's a recap of the `simple_models` notebook models.\n",
    "\n",
    "`[1]` - [Gradient-Based Learning Applied to Document Recognition](http://yann.lecun.com/exdb/publis/pdf/lecun-98.pdf),  LeCun et al, Nov 1998"
   ]
  },
  {
   "cell_type": "code",
   "execution_count": 1,
   "metadata": {
    "collapsed": true
   },
   "outputs": [],
   "source": [
    "import pandas as pd\n",
    "import numpy as np\n",
    "import matplotlib.pyplot as plt\n",
    "import seaborn as sns\n",
    "\n",
    "import pickle\n",
    "\n",
    "plt.style.use('fivethirtyeight')\n",
    "# plt.rcParams['font.family'] = 'serif'\n",
    "plt.rcParams['font.serif'] = 'Helvetica'\n",
    "plt.rcParams['font.monospace'] = 'Consolas'\n",
    "plt.rcParams['font.size'] = 16\n",
    "plt.rcParams['axes.labelsize'] = 16\n",
    "plt.rcParams['axes.labelweight'] = 'bold'\n",
    "plt.rcParams['xtick.labelsize'] = 14\n",
    "plt.rcParams['ytick.labelsize'] = 14\n",
    "plt.rcParams['legend.fontsize'] = 16\n",
    "plt.rcParams['axes.titlesize'] = 20\n",
    "plt.rcParams['lines.linewidth'] = 2\n",
    "\n",
    "%matplotlib inline\n",
    "\n",
    "# for auto-reloading external modules\n",
    "%load_ext autoreload\n",
    "%autoreload 2"
   ]
  },
  {
   "cell_type": "markdown",
   "metadata": {},
   "source": [
    "## Load pickle files\n",
    "\n",
    "The original data files are processed using the `convert_data.py` script, and written out to pickle files. We can load these in as numpy arrays."
   ]
  },
  {
   "cell_type": "code",
   "execution_count": 2,
   "metadata": {},
   "outputs": [
    {
     "name": "stdout",
     "output_type": "stream",
     "text": [
      "Loading pickle files\n"
     ]
    }
   ],
   "source": [
    "# Set up the file directory and names\n",
    "DIR = '../input/'\n",
    "X_TRAIN = DIR + 'train-images-idx3-ubyte.pkl'\n",
    "Y_TRAIN = DIR + 'train-labels-idx1-ubyte.pkl'\n",
    "X_TEST = DIR + 't10k-images-idx3-ubyte.pkl'\n",
    "Y_TEST = DIR + 't10k-labels-idx1-ubyte.pkl'\n",
    "\n",
    "def load_data():\n",
    "    '''Loads pickled ubyte files with MNIST data\n",
    "    INPUT: X_train_file, y_train_file - strings with training filenames\n",
    "           X_test_file, y_test_File - strings with test filenames\n",
    "    RETURNS: Tuple with (X_train, y_train, X_test, y_test)\n",
    "    '''\n",
    "    print('Loading pickle files')\n",
    "    try:\n",
    "        X_train = pickle.load( open( X_TRAIN, \"rb\" ) )\n",
    "        y_train = pickle.load( open( Y_TRAIN, \"rb\" ) )\n",
    "        X_test = pickle.load( open( X_TEST, \"rb\" ) )\n",
    "        y_test = pickle.load( open( Y_TEST, \"rb\" ) )\n",
    "    except:\n",
    "        print('Error loading pickle file')\n",
    "        return None\n",
    "    \n",
    "    return (X_train, y_train, X_test, y_test)\n",
    "\n",
    "X_train, y_train, X_test,  y_test = load_data()"
   ]
  },
  {
   "cell_type": "markdown",
   "metadata": {},
   "source": [
    "## Helper functions\n",
    "\n",
    "Before evaluating some models on the images, let's create some helper functions we can re-use later on. These deal with converting images to and from 1d and 2d versions, plotting images, resizing them, etc."
   ]
  },
  {
   "cell_type": "code",
   "execution_count": 3,
   "metadata": {},
   "outputs": [
    {
     "name": "stdout",
     "output_type": "stream",
     "text": [
      "Loaded train images shape (60000, 784), labels shape (60000, 1)\n",
      "Loaded test images shape (10000, 784), labels shape (10000, 1)\n"
     ]
    }
   ],
   "source": [
    "def flatten_images(X):\n",
    "    ''' Converts images to 1-d vectors\n",
    "    INPUT: X - Input array of shape [n, w, h]\n",
    "    RETURNS: Numpy array of shape [n, w*h]\n",
    "    '''\n",
    "    n, w, h = X.shape\n",
    "    X_flat = X.reshape((n, w * h))\n",
    "    return X_flat\n",
    "\n",
    "def square_images(X, w=None, h=None):\n",
    "    '''Converts single-vector images into square images \n",
    "    INPUT: X - numpy array of images in single-vector form\n",
    "           w - width of images to convert to\n",
    "           h - height of images to convert to\n",
    "    RETURNS: Numpy array of shape [n, w, h]\n",
    "    '''\n",
    "    \n",
    "    assert X.shape[1] == w * h, \"Error - Can't square array of shape {} to {}\".format(X.shape, (w, h))\n",
    "    n = X.shape[0]\n",
    "    X_square = X.reshape((n, w, h))\n",
    "    return X_square\n",
    "\n",
    "\n",
    "N_TRAIN, W, H = X_train.shape\n",
    "N_TEST, w_test, h_test = X_test.shape\n",
    "\n",
    "# Flatten the images\n",
    "X_train = flatten_images(X_train)\n",
    "X_test = flatten_images(X_test)\n",
    "\n",
    "# Do some checks on the data\n",
    "assert N_TRAIN == 60000, 'Error - expected 60000 training images, got {}'.format(N_TRAIN)\n",
    "assert N_TEST == 10000, 'Error - expected 60000 training images, got {}'.format(N_TEST)\n",
    "assert W == w_test, 'Error - width mismatch. Train {}, Test {}'.format(w, w_test)\n",
    "assert H == h_test, 'Error - height mismatch. Train {}, Test {}'.format(h, h_test)\n",
    "\n",
    "assert np.array_equal(X_train, flatten_images(square_images(X_train, W, H)))\n",
    "assert X_train.shape[0] == y_train.shape[0]\n",
    "assert X_test.shape[0] == y_test.shape[0]\n",
    "\n",
    "print('Loaded train images shape {}, labels shape {}'.format(X_train.shape, y_train.shape))\n",
    "print('Loaded test images shape {}, labels shape {}'.format(X_test.shape, y_test.shape))\n"
   ]
  },
  {
   "cell_type": "markdown",
   "metadata": {},
   "source": [
    "## Data preparation\n",
    "\n",
    "This section sets up global constants used in all models (to ensure a fair comparison). It also prepares the data by converting y values to one-hot, and normalizing X inputs."
   ]
  },
  {
   "cell_type": "code",
   "execution_count": 4,
   "metadata": {},
   "outputs": [
    {
     "name": "stdout",
     "output_type": "stream",
     "text": [
      "Converting y variables to one-hot encoding..\n",
      "Z-normalizing X data..\n",
      "Train images shape (60000, 784), labels shape (60000, 10)\n",
      "Test images shape (10000, 784), labels shape (10000, 10)\n"
     ]
    }
   ],
   "source": [
    "from sklearn.model_selection import train_test_split\n",
    "from sklearn.preprocessing import LabelBinarizer, StandardScaler\n",
    "\n",
    "# Keras Common configuration\n",
    "SEED = 1234 # Fix the seed for repeatability\n",
    "N_JOBS=-2 # Leave 1 core free for UI updates\n",
    "VERBOSE=2 # 3 is the most verbose level\n",
    "EPOCHS = 20 # todo ! Check how many epochs in the paper\n",
    "BATCH = 256 # todo ! Check this in the paper too\n",
    "\n",
    "\n",
    "def stratified_subsample(X, y, num_rows):\n",
    "    '''Creates a stratified subsample of X and y\n",
    "    INPUT: X and y, numpy arrays\n",
    "    RETURNS: subset of X and y, maintaining class balances\n",
    "    '''\n",
    "    # Create a stratified, shuffled subset of the training data if needed\n",
    "    N = X.shape[0]\n",
    "    if num_rows < N:\n",
    "        print('Reducing size from {} to {} examples'.format(N, num_rows))\n",
    "        new_X, _, new_y, _ = train_test_split(X_train, y_train, # Undersample by dropping \"test\" data\n",
    "                                              train_size=N, random_state=SEED)    \n",
    "\n",
    "def onehot_encode_y(y_train, y_test):\n",
    "    '''Convert y_train and y_test to a one-hot encoding version\n",
    "    INPUT: y_train - np.array of size (n_train,)\n",
    "           y_test - np.array of size (n_test,)\n",
    "    RETURNS: y_train - np.array of size (n_train, n_classes)\n",
    "             y_test - np.arary of size (n_test, n_classes)\n",
    "    '''    \n",
    "    print('Converting y variables to one-hot encoding..')\n",
    "    lbe = LabelBinarizer()\n",
    "    lbe.fit(y_train)\n",
    "    y_train = lbe.transform(y_train)\n",
    "    y_test = lbe.transform(y_test)\n",
    "    return y_train, y_test\n",
    "\n",
    "def z_norm_X(X_train, X_test):\n",
    "    '''Z-normalizes X_train and X_test with 0 mean and 1 std. dev.\n",
    "    INPUT: X_train - training set\n",
    "           X_test - test set\n",
    "    RETURNS: X_train - normalized version of same size\n",
    "             X_test - normalized version (using X_train parameters)\n",
    "    '''\n",
    "    print('Z-normalizing X data..')    \n",
    "    std = StandardScaler()\n",
    "    X_train = X_train.astype(np.float32)\n",
    "    X_test = X_test.astype(np.float32)\n",
    "    std.fit(X_train)\n",
    "    X_train = std.transform(X_train)\n",
    "    X_test = std.transform(X_test)\n",
    "    return X_train, X_test\n",
    "    \n",
    "y_train, y_test = onehot_encode_y(y_train, y_test)\n",
    "X_train, X_test = z_norm_X(X_train, X_test)\n",
    "scores = dict()\n",
    "\n",
    "print('Train images shape {}, labels shape {}'.format(X_train.shape, y_train.shape))\n",
    "print('Test images shape {}, labels shape {}'.format(X_test.shape, y_test.shape))"
   ]
  },
  {
   "cell_type": "markdown",
   "metadata": {},
   "source": [
    "## [1] C.5 - Baseline fully-connected models (original dataset)\n",
    "\n",
    "We'll first compare the performance of different fully-connected models on fully-connected networks of varying layers and size. These are all trained on the 28x28 dataset."
   ]
  },
  {
   "cell_type": "markdown",
   "metadata": {},
   "source": [
    "## Helper class"
   ]
  },
  {
   "cell_type": "code",
   "execution_count": 5,
   "metadata": {},
   "outputs": [
    {
     "name": "stderr",
     "output_type": "stream",
     "text": [
      "Using Theano backend.\n",
      "WARNING (theano.sandbox.cuda): The cuda backend is deprecated and will be removed in the next release (v0.10).  Please switch to the gpuarray backend. You can get more information about how to switch at this URL:\n",
      " https://github.com/Theano/Theano/wiki/Converting-to-the-new-gpu-back-end%28gpuarray%29\n",
      "\n",
      "WARNING (theano.gof.compilelock): Overriding existing lock by dead process '14477' (I am process '3283')\n",
      "Using gpu device 0: GeForce GTX 1070 (CNMeM is disabled, cuDNN 5105)\n"
     ]
    }
   ],
   "source": [
    "from keras.models import Sequential\n",
    "from keras.layers import Dense, Activation\n",
    "from keras.optimizers import SGD\n",
    "\n",
    "# Create a dictionary to store model training and test info\n",
    "models = dict()\n",
    "\n",
    "class KerasFCModel(object):\n",
    "    \n",
    "    def __init__(self, model_name, model_type, input_dim, layers, \n",
    "                 activation, output_activation, verbose=2):\n",
    "        '''Initializes a new keras model'''\n",
    "        self.model_name = model_name\n",
    "        self.verbose = verbose\n",
    "        \n",
    "        model = model_type\n",
    "        for idx, size in enumerate(layers):\n",
    "            \n",
    "            # First layer has to take input from image files\n",
    "            if idx == 0:\n",
    "                if self.verbose == 2:\n",
    "                    print('Adding input dense layer, input dim {}, dim {}'.format(input_dim, size))\n",
    "                model.add(Dense(size, input_dim=input_dim))\n",
    "                model.add(Activation(activation))\n",
    "                \n",
    "            # Last layer has to include the output activation\n",
    "            elif idx == len(layers) - 1:\n",
    "                if self.verbose == 2:\n",
    "                    print('Adding dense layer {}, size {}, activation {}'.format(idx, size, activation))\n",
    "                model.add(Dense(size))\n",
    "                model.add(Activation(output_activation))\n",
    "                \n",
    "            # Layers other than first and last have standard activation\n",
    "            else: \n",
    "                if self.verbose == 2:\n",
    "                    print('Adding output layer {}, size {}, activation {}'.format(idx, size, output_activation))\n",
    "                model.add(Dense(size))\n",
    "                model.add(Activation(activation))\n",
    "                \n",
    "        if self.verbose > 0:\n",
    "            print('Model summary:\\n')\n",
    "            model.summary()\n",
    "        \n",
    "        self.model = model\n",
    "        \n",
    "    def compile_model(self, loss, optimizer, metrics):\n",
    "        '''Compile the model'''\n",
    "        self.metrics = metrics\n",
    "        self.loss = loss\n",
    "        self.optimizer = optimizer\n",
    "        # Need to flip error vs accuracy \n",
    "        metrics = ['acc' if metric is 'error' else metric for metric in metrics]\n",
    "        self.model.compile(loss=loss, optimizer=optimizer, metrics=metrics)\n",
    "          \n",
    "    def fit(self, X, y, epochs, batch_size):\n",
    "        '''Fit model to training data'''\n",
    "        self.history = self.model.fit(X, y, epochs=epochs, batch_size=batch_size, verbose=self.verbose)\n",
    "\n",
    "    def evaluate(self, X, y, batch_size):\n",
    "        '''Evaluates the model on test data'''\n",
    "        output = self.model.evaluate(X, y, batch_size=batch_size)\n",
    "        results = dict()\n",
    "        for idx, metric in enumerate(self.model.metrics_names):\n",
    "            if metric == 'acc':\n",
    "                results['error'] = 1.0 - output[idx]\n",
    "            else:\n",
    "                results[metric] = output[idx]                \n",
    "        self.results = results\n",
    "    \n",
    "    def report(self):\n",
    "        '''Prints a recap of the model, how it was trained, and performance'''\n",
    "        report = dict()\n",
    "        if self.verbose > 0:\n",
    "            report['model_info'] = self.model.summary()\n",
    "            report['loss'] = self.loss\n",
    "            report['optimizer'] = self.optimizer.get_config()\n",
    "            report['metrics'] = self.metrics\n",
    "            report['history'] = self.history\n",
    "        report['results'] = self.results\n",
    "        return report\n",
    "    "
   ]
  },
  {
   "cell_type": "code",
   "execution_count": 6,
   "metadata": {
    "collapsed": true
   },
   "outputs": [],
   "source": [
    "# Helper function to evaluate fully-connected models\n",
    "def evaluate_fc_model(name, layers, activation, optimizer,\n",
    "                            X_tr, y_tr, X_te, y_te,\n",
    "                            epochs, batch_size,\n",
    "                            verbose=2):\n",
    "    \"\"\"Creates, trains, and evaluates neural network on provided data\"\"\"\n",
    "    \n",
    "    print('Creating Keras model {}'.format(name))\n",
    "    model = KerasFCModel(model_name=name, model_type=Sequential(), \n",
    "                           input_dim=784, layers=layers, \n",
    "                           activation=activation, output_activation='softmax',\n",
    "                           verbose=verbose)\n",
    "\n",
    "    print('Compiling model')\n",
    "    model.compile_model(loss='categorical_crossentropy',\n",
    "                        optimizer=optimizer,\n",
    "                        metrics=['error'])\n",
    "\n",
    "    print('Training model')\n",
    "    model.fit(X_tr, y_tr, epochs=epochs, batch_size=batch_size)\n",
    "\n",
    "    print('Evaluating model')\n",
    "    model.evaluate(X_te, y_te, batch_size=batch_size)\n",
    "\n",
    "    print('\\nTest results: {:.4f} error'.format(model.report()['results']['error']))\n",
    "    return model\n"
   ]
  },
  {
   "cell_type": "markdown",
   "metadata": {},
   "source": [
    "## Fully connected single-hidden layer networks"
   ]
  },
  {
   "cell_type": "code",
   "execution_count": 7,
   "metadata": {},
   "outputs": [
    {
     "name": "stdout",
     "output_type": "stream",
     "text": [
      "Creating Keras model fc-300-10\n",
      "Compiling model\n",
      "Training model\n",
      "Evaluating model\n",
      " 5632/10000 [===============>..............] - ETA: 0s\n",
      "Test results: 0.0280 error\n",
      "CPU times: user 12.9 s, sys: 2.83 s, total: 15.8 s\n",
      "Wall time: 16.1 s\n"
     ]
    }
   ],
   "source": [
    "%%time\n",
    "\n",
    "fc_results = dict()\n",
    "fc_results['fc-300-10'] = evaluate_fc_model('fc-300-10', layers=(300,10), activation='tanh', \n",
    "                                            optimizer=SGD(lr=0.1, decay=1e-6, momentum=0.9, nesterov=True),\n",
    "                                            X_tr=X_train, y_tr=y_train, X_te=X_test, y_te=y_test,\n",
    "                                            epochs=EPOCHS, batch_size=BATCH,\n",
    "                                            verbose=0)\n",
    "    "
   ]
  },
  {
   "cell_type": "code",
   "execution_count": 8,
   "metadata": {},
   "outputs": [
    {
     "name": "stdout",
     "output_type": "stream",
     "text": [
      "Creating Keras model fc-1000-10\n",
      "Compiling model\n",
      "Training model\n",
      "Evaluating model\n",
      " 5632/10000 [===============>..............] - ETA: 0s\n",
      "Test results: 0.0270 error\n",
      "CPU times: user 14.4 s, sys: 5.22 s, total: 19.6 s\n",
      "Wall time: 19.7 s\n"
     ]
    }
   ],
   "source": [
    "%%time\n",
    "\n",
    "# FC 1000-10\n",
    "fc_results['fc-1000-10'] = evaluate_fc_model('fc-1000-10', layers=(1000,10), activation='tanh', \n",
    "                                            optimizer=SGD(lr=0.1, decay=1e-6, momentum=0.9, nesterov=True),\n",
    "                                            X_tr=X_train, y_tr=y_train, X_te=X_test, y_te=y_test,\n",
    "                                            epochs=EPOCHS, batch_size=BATCH,\n",
    "                                            verbose=0)\n"
   ]
  },
  {
   "cell_type": "markdown",
   "metadata": {},
   "source": [
    "## Two hidden layer fully connected networks"
   ]
  },
  {
   "cell_type": "code",
   "execution_count": 9,
   "metadata": {},
   "outputs": [
    {
     "name": "stdout",
     "output_type": "stream",
     "text": [
      "Creating Keras model fc-300-100-10\n",
      "Compiling model\n",
      "Training model\n",
      "Evaluating model\n",
      " 8960/10000 [=========================>....] - ETA: 0s\n",
      "Test results: 0.0280 error\n",
      "CPU times: user 13.4 s, sys: 248 ms, total: 13.7 s\n",
      "Wall time: 13.6 s\n"
     ]
    }
   ],
   "source": [
    "%%time\n",
    "\n",
    "# FC 300-100-10\n",
    "fc_results['fc-300-100-10'] = evaluate_fc_model('fc-300-100-10', layers=(300,100,10), activation='tanh', \n",
    "                                            optimizer=SGD(lr=0.1, decay=1e-5, momentum=0.9, nesterov=True),\n",
    "                                            X_tr=X_train, y_tr=y_train, X_te=X_test, y_te=y_test,\n",
    "                                            epochs=EPOCHS, batch_size=BATCH,\n",
    "                                            verbose=0)\n"
   ]
  },
  {
   "cell_type": "code",
   "execution_count": 10,
   "metadata": {},
   "outputs": [
    {
     "name": "stdout",
     "output_type": "stream",
     "text": [
      "Creating Keras model fc-500-150-10\n",
      "Compiling model\n",
      "Training model\n",
      "Evaluating model\n",
      " 8960/10000 [=========================>....] - ETA: 0s\n",
      "Test results: 0.0262 error\n",
      "CPU times: user 14.9 s, sys: 2.74 s, total: 17.7 s\n",
      "Wall time: 17.7 s\n"
     ]
    }
   ],
   "source": [
    "%%time\n",
    "\n",
    "# FC 500-150-10\n",
    "fc_results['fc-500-150-10'] = evaluate_fc_model('fc-500-150-10', layers=(500,150,10), activation='tanh', \n",
    "                                            optimizer=SGD(lr=0.1, decay=1e-5, momentum=0.9, nesterov=True),\n",
    "                                            X_tr=X_train, y_tr=y_train, X_te=X_test, y_te=y_test,\n",
    "                                            epochs=EPOCHS, batch_size=BATCH,\n",
    "                                            verbose=0)\n"
   ]
  },
  {
   "cell_type": "code",
   "execution_count": 13,
   "metadata": {},
   "outputs": [
    {
     "data": {
      "text/html": [
       "<div>\n",
       "<style>\n",
       "    .dataframe thead tr:only-child th {\n",
       "        text-align: right;\n",
       "    }\n",
       "\n",
       "    .dataframe thead th {\n",
       "        text-align: left;\n",
       "    }\n",
       "\n",
       "    .dataframe tbody tr th {\n",
       "        vertical-align: top;\n",
       "    }\n",
       "</style>\n",
       "<table border=\"1\" class=\"dataframe\">\n",
       "  <thead>\n",
       "    <tr style=\"text-align: right;\">\n",
       "      <th></th>\n",
       "      <th>error</th>\n",
       "    </tr>\n",
       "  </thead>\n",
       "  <tbody>\n",
       "    <tr>\n",
       "      <th>fc-500-150-10</th>\n",
       "      <td>2.62</td>\n",
       "    </tr>\n",
       "    <tr>\n",
       "      <th>fc-1000-10</th>\n",
       "      <td>2.70</td>\n",
       "    </tr>\n",
       "    <tr>\n",
       "      <th>fc-300-10</th>\n",
       "      <td>2.80</td>\n",
       "    </tr>\n",
       "    <tr>\n",
       "      <th>fc-300-100-10</th>\n",
       "      <td>2.80</td>\n",
       "    </tr>\n",
       "  </tbody>\n",
       "</table>\n",
       "</div>"
      ],
      "text/plain": [
       "               error\n",
       "fc-500-150-10   2.62\n",
       "fc-1000-10      2.70\n",
       "fc-300-10       2.80\n",
       "fc-300-100-10   2.80"
      ]
     },
     "execution_count": 13,
     "metadata": {},
     "output_type": "execute_result"
    }
   ],
   "source": [
    "# Compile the FC results so far into a dataframe for easy plotting\n",
    "\n",
    "fc_scores = {result: value.results['error'] for result, value in fc_results.items()}\n",
    "fc_scores_df = pd.DataFrame.from_dict(fc_scores, orient='index')\n",
    "\n",
    "fc_scores_df.columns = ['error']\n",
    "fc_scores_df['error'] *= 100.0\n",
    "fc_scores_df = fc_scores_df.sort_values('error', ascending=True)\n",
    "fc_scores_df.to_pickle('fc_scores.pkl')\n",
    "fc_scores_df"
   ]
  },
  {
   "cell_type": "code",
   "execution_count": 14,
   "metadata": {},
   "outputs": [
    {
     "data": {
      "image/png": "[encoded data removed]",
      "text/plain": [
       "<matplotlib.figure.Figure at 0x7f9d4f9122b0>"
      ]
     },
     "metadata": {},
     "output_type": "display_data"
    }
   ],
   "source": [
    "fig, ax = plt.subplots(1,1, figsize=(6,6))\n",
    "fc_scores_df.plot.barh(width=0.4, ax=ax, legend=None)\n",
    "ax.set(title=\"Fully-connected neural net test-set accuracy\", ylabel=\"Network\", xlabel=\"%age error\");\n",
    "plt.savefig('fc_scores.png', bbox_inches='tight', dpi=150)"
   ]
  },
  {
   "cell_type": "markdown",
   "metadata": {},
   "source": [
    "# Convolutional neural networks\n",
    "\n",
    "Now let's see how much further we can improve performance with convolutional neural networks. For the convolutional networks, we need a 2-d image instead of the flattened 1-d vector the fully connected networks used. We also need to add padding around each of the images."
   ]
  },
  {
   "cell_type": "code",
   "execution_count": 15,
   "metadata": {},
   "outputs": [
    {
     "name": "stdout",
     "output_type": "stream",
     "text": [
      "Loading pickle files\n"
     ]
    },
    {
     "data": {
      "text/plain": [
       "(60000, 28, 28)"
      ]
     },
     "execution_count": 15,
     "metadata": {},
     "output_type": "execute_result"
    }
   ],
   "source": [
    "# Load image pickle files\n",
    "X_train, y_train, X_test,  y_test = load_data()\n",
    "X_train.shape"
   ]
  },
  {
   "cell_type": "code",
   "execution_count": 17,
   "metadata": {},
   "outputs": [
    {
     "data": {
      "image/png": "[encoded data removed]",
      "text/plain": [
       "<matplotlib.figure.Figure at 0x7f9d50299e10>"
      ]
     },
     "metadata": {},
     "output_type": "display_data"
    }
   ],
   "source": [
    "#Plot a few random numbers to sanity check their size and that they look correct\n",
    "N = 3\n",
    "indexes = np.random.choice(X_train.shape[0], N)\n",
    "fig, ax = plt.subplots(1, N)\n",
    "\n",
    "for num, idx in enumerate(indexes):\n",
    "    ax[num].imshow(X_train[idx])\n",
    "    ax[num].set(title=\"Label={}\".format(y_train[idx]))"
   ]
  },
  {
   "cell_type": "markdown",
   "metadata": {
    "collapsed": true
   },
   "source": [
    "## Padding images to 32x32 while centering image\n",
    "\n",
    "In [1], the images are padded to 32x32 to ensure every pixel of the input image ends up in the center of the receptive fields of the highest level feature receptors."
   ]
  },
  {
   "cell_type": "code",
   "execution_count": 18,
   "metadata": {
    "collapsed": true
   },
   "outputs": [],
   "source": [
    "def image_border(image, size, fill):\n",
    "    \"\"\"\n",
    "    Adds a border around the nupmy array of the gizen size and value\n",
    "    \"\"\"\n",
    "    im_w, im_h = image.shape\n",
    "    im_dtype = image.dtype\n",
    "    \n",
    "    new_image = np.full((im_w + (2 * size), im_h + (2 * size)),\n",
    "                        fill_value=fill, dtype=im_dtype)\n",
    "    new_image[size:im_h + size, size:im_w + size] = image\n",
    "    \n",
    "    assert new_image.dtype == image.dtype\n",
    "    assert new_image.shape[0] == image.shape[0] + (2 * size)\n",
    "    assert new_image.shape[1] == image.shape[1] + (2 * size)\n",
    "    assert np.array_equal(image, new_image[size:size+im_h, size:size+im_w])\n",
    "    return new_image"
   ]
  },
  {
   "cell_type": "code",
   "execution_count": 19,
   "metadata": {},
   "outputs": [
    {
     "data": {
      "image/png": "[encoded data removed]",
      "text/plain": [
       "<matplotlib.figure.Figure at 0x7f9d71f99b70>"
      ]
     },
     "metadata": {},
     "output_type": "display_data"
    }
   ],
   "source": [
    "N = 3\n",
    "indexes = np.random.choice(X_train.shape[0], N)\n",
    "fig, ax = plt.subplots(2, N, figsize=(10,6))\n",
    "\n",
    "for num, idx in enumerate(indexes):\n",
    "    ax[0, num].imshow(X_train[idx])\n",
    "    ax[0, num].set(title=\"Label={}\".format(y_train[idx]))\n",
    "    ax[1, num].imshow(image_border(X_train[idx], 2, 0))"
   ]
  },
  {
   "cell_type": "code",
   "execution_count": 20,
   "metadata": {},
   "outputs": [
    {
     "name": "stderr",
     "output_type": "stream",
     "text": [
      "Resizing train images: 100%|██████████| 60000/60000 [00:02<00:00, 25457.24it/s]\n",
      "Resizing test images: 100%|██████████| 10000/10000 [00:00<00:00, 22780.56it/s]"
     ]
    },
    {
     "name": "stdout",
     "output_type": "stream",
     "text": [
      "New X_train shape: (60000, 32, 32), new x_test shape: (10000, 32, 32)\n",
      "y_train shape: (60000, 1), y_test shape: (10000, 1)\n"
     ]
    },
    {
     "name": "stderr",
     "output_type": "stream",
     "text": [
      "\n"
     ]
    }
   ],
   "source": [
    "from tqdm import tqdm\n",
    "\n",
    "# resize all the training and test images\n",
    "n_train = X_train.shape[0]\n",
    "n_test = X_test.shape[0]\n",
    "\n",
    "\n",
    "def resize_images(images, description):\n",
    "    \"\"\"\n",
    "    Iterates through lowest order dimension, and resizes images\n",
    "    \"\"\"\n",
    "    new_images = np.zeros((images.shape[0], 32, 32))\n",
    "\n",
    "    for index in tqdm(range(images.shape[0]), desc=description):\n",
    "        new_images[index] = image_border(images[index], 2, 0)\n",
    "        \n",
    "    return new_images\n",
    "\n",
    "X_resize_train = resize_images(X_train, \"Resizing train images\")\n",
    "X_resize_test = resize_images(X_test, \"Resizing test images\")\n",
    "X_train, X_test = X_resize_train, X_resize_test\n",
    "\n",
    "print('New X_train shape: {}, new x_test shape: {}'.format(X_train.shape, X_test.shape))\n",
    "print('y_train shape: {}, y_test shape: {}'.format(y_train.shape, y_test.shape))"
   ]
  },
  {
   "cell_type": "markdown",
   "metadata": {},
   "source": [
    "## Z-Normalizing images, and converting labels to one-hot"
   ]
  },
  {
   "cell_type": "code",
   "execution_count": 21,
   "metadata": {},
   "outputs": [
    {
     "name": "stdout",
     "output_type": "stream",
     "text": [
      "Z-normalizing X data..\n",
      "Converting y variables to one-hot encoding..\n",
      "New X_train shape: (60000, 32, 32, 1), new x_test shape: (10000, 32, 32, 1)\n",
      "y_train shape: (60000, 10), y_test shape: (10000, 10)\n"
     ]
    }
   ],
   "source": [
    "from keras import backend as K\n",
    "\n",
    "# Input images need to be Z-normalized, and need to be flattened to 1-d vector and re-squared afterwards\n",
    "X_train, X_test = z_norm_X(flatten_images(X_train), flatten_images(X_test))\n",
    "X_train, X_test = square_images(X_train, 32, 32), square_images(X_test, 32, 32)\n",
    "\n",
    "# y values need to be converted to one-hot\n",
    "y_train, y_test = onehot_encode_y(y_train, y_test)\n",
    "\n",
    "# Need to add explicit shape of 1 as we have 1 channel for B&W images\n",
    "X_train, X_test = X_train[:,:,:, np.newaxis], X_test[:,:,:, np.newaxis] # Need explicit single channel \n",
    "\n",
    "print('New X_train shape: {}, new x_test shape: {}'.format(X_train.shape, X_test.shape))\n",
    "print('y_train shape: {}, y_test shape: {}'.format(y_train.shape, y_test.shape))"
   ]
  },
  {
   "cell_type": "code",
   "execution_count": 22,
   "metadata": {},
   "outputs": [
    {
     "data": {
      "text/plain": [
       "'channels_last'"
      ]
     },
     "execution_count": 22,
     "metadata": {},
     "output_type": "execute_result"
    }
   ],
   "source": [
    "# Our channels are in the least significant order of the np array (32, 32, 1). \n",
    "# Make sure the current backend matches this ordering, and doesn't expect (1, 32, 32).\n",
    "assert K.image_data_format() == 'channels_last'"
   ]
  },
  {
   "cell_type": "markdown",
   "metadata": {},
   "source": [
    "# LeNet-5\n",
    "\n",
    "This is the best performing network, found on page 7 of [1]."
   ]
  },
  {
   "cell_type": "code",
   "execution_count": 132,
   "metadata": {},
   "outputs": [
    {
     "name": "stdout",
     "output_type": "stream",
     "text": [
      "_________________________________________________________________\n",
      "Layer (type)                 Output Shape              Param #   \n",
      "=================================================================\n",
      "conv2d_58 (Conv2D)           (None, 28, 28, 6)         156       \n",
      "_________________________________________________________________\n",
      "average_pooling2d_41 (Averag (None, 14, 14, 6)         0         \n",
      "_________________________________________________________________\n",
      "activation_99 (Activation)   (None, 14, 14, 6)         0         \n",
      "_________________________________________________________________\n",
      "conv2d_59 (Conv2D)           (None, 10, 10, 16)        2416      \n",
      "_________________________________________________________________\n",
      "average_pooling2d_42 (Averag (None, 5, 5, 16)          0         \n",
      "_________________________________________________________________\n",
      "activation_100 (Activation)  (None, 5, 5, 16)          0         \n",
      "_________________________________________________________________\n",
      "conv2d_60 (Conv2D)           (None, 1, 1, 120)         48120     \n",
      "_________________________________________________________________\n",
      "activation_101 (Activation)  (None, 1, 1, 120)         0         \n",
      "_________________________________________________________________\n",
      "flatten_19 (Flatten)         (None, 120)               0         \n",
      "_________________________________________________________________\n",
      "dense_43 (Dense)             (None, 120)               14520     \n",
      "_________________________________________________________________\n",
      "activation_102 (Activation)  (None, 120)               0         \n",
      "_________________________________________________________________\n",
      "dense_44 (Dense)             (None, 10)                1210      \n",
      "_________________________________________________________________\n",
      "activation_103 (Activation)  (None, 10)                0         \n",
      "=================================================================\n",
      "Total params: 66,422.0\n",
      "Trainable params: 66,422.0\n",
      "Non-trainable params: 0.0\n",
      "_________________________________________________________________\n",
      "None\n"
     ]
    }
   ],
   "source": [
    "from keras.models import Sequential\n",
    "from keras.layers import Conv2D, Dense, Activation, AveragePooling2D, Flatten\n",
    "\n",
    "def lenet5_model(verbose=False):\n",
    "    \"\"\"\n",
    "    Creates and returns a lenet5 model\n",
    "    \"\"\"\n",
    "\n",
    "    # Create the model\n",
    "    model = Sequential()\n",
    "\n",
    "    model.add(Conv2D(filters=6, kernel_size=(5, 5), strides=(1, 1), input_shape=(32, 32, 1))) # C1\n",
    "    model.add(AveragePooling2D(pool_size=(2, 2))) # S2\n",
    "    model.add(Activation('tanh'))\n",
    "\n",
    "    model.add(Conv2D(filters=16, kernel_size=(5, 5), strides=(1, 1))) # C3\n",
    "    model.add(AveragePooling2D(pool_size=(2, 2))) # S4\n",
    "    model.add(Activation('tanh'))\n",
    "\n",
    "    model.add(Conv2D(filters=120, kernel_size=(5, 5), strides=(1, 1))) # C5\n",
    "    model.add(Activation('tanh'))\n",
    "\n",
    "    model.add(Flatten())\n",
    "    model.add(Dense(120)) # F6\n",
    "    model.add(Activation('tanh'))\n",
    "\n",
    "    model.add(Dense(10))\n",
    "    model.add(Activation('softmax'))\n",
    "\n",
    "    if verbose:\n",
    "        print(model.summary())\n",
    "    return model\n",
    "    \n",
    "lenet5 = lenet5_model(verbose=True)"
   ]
  },
  {
   "cell_type": "code",
   "execution_count": 136,
   "metadata": {},
   "outputs": [
    {
     "name": "stdout",
     "output_type": "stream",
     "text": [
      "\n",
      "Compiling model\n",
      "_________________________________________________________________\n",
      "Layer (type)                 Output Shape              Param #   \n",
      "=================================================================\n",
      "conv2d_67 (Conv2D)           (None, 28, 28, 6)         156       \n",
      "_________________________________________________________________\n",
      "average_pooling2d_47 (Averag (None, 14, 14, 6)         0         \n",
      "_________________________________________________________________\n",
      "activation_114 (Activation)  (None, 14, 14, 6)         0         \n",
      "_________________________________________________________________\n",
      "conv2d_68 (Conv2D)           (None, 10, 10, 16)        2416      \n",
      "_________________________________________________________________\n",
      "average_pooling2d_48 (Averag (None, 5, 5, 16)          0         \n",
      "_________________________________________________________________\n",
      "activation_115 (Activation)  (None, 5, 5, 16)          0         \n",
      "_________________________________________________________________\n",
      "conv2d_69 (Conv2D)           (None, 1, 1, 120)         48120     \n",
      "_________________________________________________________________\n",
      "activation_116 (Activation)  (None, 1, 1, 120)         0         \n",
      "_________________________________________________________________\n",
      "flatten_22 (Flatten)         (None, 120)               0         \n",
      "_________________________________________________________________\n",
      "dense_49 (Dense)             (None, 120)               14520     \n",
      "_________________________________________________________________\n",
      "activation_117 (Activation)  (None, 120)               0         \n",
      "_________________________________________________________________\n",
      "dense_50 (Dense)             (None, 10)                1210      \n",
      "_________________________________________________________________\n",
      "activation_118 (Activation)  (None, 10)                0         \n",
      "=================================================================\n",
      "Total params: 66,422.0\n",
      "Trainable params: 66,422.0\n",
      "Non-trainable params: 0.0\n",
      "_________________________________________________________________\n",
      "\n",
      "Training model\n",
      "\n",
      "Evaluating model\n",
      " 5632/10000 [===============>..............] - ETA: 0s\n",
      "Test results: Loss = 0.0580, Error = 0.0160\n"
     ]
    }
   ],
   "source": [
    "# Create a new model every time\n",
    "\n",
    "def evaluate_lenet5(optimizer, cv_split=None, verbose=False):\n",
    "    \"\"\"\n",
    "    Wrapper method to create, train, and check performance on test set\n",
    "    \"\"\"\n",
    "    lenet5 = lenet5_model()\n",
    "\n",
    "    if verbose:\n",
    "        print('\\nCompiling model')\n",
    "        lenet5.summary()\n",
    "        \n",
    "    lenet5.compile(optimizer=optimizer,\n",
    "                   loss='categorical_crossentropy', \n",
    "                   metrics=['accuracy'])\n",
    "\n",
    "    if verbose:\n",
    "        print('\\nTraining model')\n",
    "    history = lenet5.fit(X_train, y_train, validation_split=cv_split, epochs=20, batch_size=256, verbose=0)\n",
    "\n",
    "    if verbose:\n",
    "        print('\\nEvaluating model')\n",
    "    score = lenet5.evaluate(X_test, y_test, batch_size=256)\n",
    "\n",
    "    if verbose:\n",
    "        print('\\nTest results: Loss = {:.4f}, Error = {:.4f}'.format(score[0], 1.0 - score[1]))\n",
    "    \n",
    "    results = {'model': lenet5, 'history': history.history, 'loss': score[0], 'acc': score[1], 'err': 1.0 - score[1]}\n",
    "    return results\n",
    "\n",
    "results = evaluate_lenet5(optimizer=SGD(lr=0.1, decay=1e-6, momentum=0.9, nesterov=True),\n",
    "                         cv_split=0.2, verbose=True)"
   ]
  },
  {
   "cell_type": "markdown",
   "metadata": {},
   "source": [
    "## Visualizing results"
   ]
  },
  {
   "cell_type": "code",
   "execution_count": 104,
   "metadata": {},
   "outputs": [
    {
     "data": {
      "image/png": "[encoded data removed]",
      "text/plain": [
       "<matplotlib.figure.Figure at 0x7f9d38e4e208>"
      ]
     },
     "metadata": {},
     "output_type": "display_data"
    }
   ],
   "source": [
    "def plot_history(hist):\n",
    "    \"\"\"\n",
    "    Plots the history object returned by the .fit() call\n",
    "    \"\"\"\n",
    "    for metric in ('acc', 'loss', 'val_acc', 'val_loss'):\n",
    "        assert metric in hist.history.keys()\n",
    "    \n",
    "    hist_df = pd.DataFrame(hist.history)\n",
    "    fig, axes = plt.subplots(1,2,figsize=(14, 6))\n",
    "\n",
    "    hist_df[['acc', 'val_acc']].plot.line(ax=axes[0])\n",
    "    hist_df[['loss', 'val_loss']].plot.line(ax=axes[1])\n",
    "    axes[0].set(title=\"Accuracy during training\")\n",
    "    axes[1].set(title=\"Loss during training\")\n",
    "    \n",
    "    for ax in axes:\n",
    "        ax.set_xticks(range(hist_df.shape[0]))\n",
    "        ax.set(xlabel=\"epoch\", ylabel=\"Accuracy / loss\")\n",
    "        \n",
    "#     return fig, axes\n",
    "\n",
    "plot_history(history)"
   ]
  },
  {
   "cell_type": "markdown",
   "metadata": {},
   "source": [
    "## Cross validation of optimizer"
   ]
  },
  {
   "cell_type": "code",
   "execution_count": 144,
   "metadata": {},
   "outputs": [
    {
     "name": "stdout",
     "output_type": "stream",
     "text": [
      "sgd: lr=0.01, momentum=0.4, decay=1e-05, nesterov=True\n"
     ]
    },
    {
     "data": {
      "text/plain": [
       "<keras.optimizers.SGD at 0x7f9d4b96a9b0>"
      ]
     },
     "execution_count": 144,
     "metadata": {},
     "output_type": "execute_result"
    }
   ],
   "source": [
    "def random_sgd(verbose=False):\n",
    "    \"\"\"\n",
    "    Generates an SGD optimizer with random values\n",
    "    \"\"\"\n",
    "    lr = 10 ** np.random.randint(-5, 1)\n",
    "    momentum = 0.1 * np.random.randint(0, 10)\n",
    "    decay = 10 ** np.random.randint(-5, 2)\n",
    "    nesterov = np.random.uniform() < 0.5\n",
    "    \n",
    "    sgd = SGD(lr=lr, momentum=momentum, decay=decay, nesterov=nesterov)\n",
    "    if verbose:\n",
    "        print('sgd: lr={}, momentum={}, decay={}, nesterov={}'.format(lr, momentum, decay, nesterov))\n",
    "        \n",
    "    return sgd\n",
    "    \n",
    "random_sgd(verbose=True)"
   ]
  },
  {
   "cell_type": "code",
   "execution_count": 147,
   "metadata": {},
   "outputs": [
    {
     "name": "stdout",
     "output_type": "stream",
     "text": [
      " 5376/10000 [===============>..............] - ETA: 0s#0: Updating best model. Current acc: 0.6908, old acc: 0\n",
      " 7424/10000 [=====================>........] - ETA: 0s#1: Updating best model. Current acc: 0.9246, old acc: 0.6908\n",
      " 5376/10000 [===============>..............] - ETA: 0s"
     ]
    },
    {
     "ename": "KeyboardInterrupt",
     "evalue": "",
     "output_type": "error",
     "traceback": [
      "\u001b[0;31m---------------------------------------------------------------------------\u001b[0m",
      "\u001b[0;31mKeyboardInterrupt\u001b[0m                         Traceback (most recent call last)",
      "\u001b[0;32m<ipython-input-147-85cdcad5c1b6>\u001b[0m in \u001b[0;36m<module>\u001b[0;34m()\u001b[0m\n\u001b[1;32m     20\u001b[0m     \u001b[0;32mreturn\u001b[0m \u001b[0mresult\u001b[0m\u001b[0;34m\u001b[0m\u001b[0m\n\u001b[1;32m     21\u001b[0m \u001b[0;34m\u001b[0m\u001b[0m\n\u001b[0;32m---> 22\u001b[0;31m \u001b[0mbest_lenet5\u001b[0m \u001b[0;34m=\u001b[0m \u001b[0mbest_model\u001b[0m\u001b[0;34m(\u001b[0m\u001b[0mN\u001b[0m\u001b[0;34m=\u001b[0m\u001b[0;36m100\u001b[0m\u001b[0;34m)\u001b[0m\u001b[0;34m\u001b[0m\u001b[0m\n\u001b[0m",
      "\u001b[0;32m<ipython-input-147-85cdcad5c1b6>\u001b[0m in \u001b[0;36mbest_model\u001b[0;34m(N)\u001b[0m\n\u001b[1;32m     10\u001b[0m \u001b[0;31m#         print('Iteration {}'.format(n))\u001b[0m\u001b[0;34m\u001b[0m\u001b[0;34m\u001b[0m\u001b[0m\n\u001b[1;32m     11\u001b[0m         \u001b[0msgd_opt\u001b[0m \u001b[0;34m=\u001b[0m \u001b[0mrandom_sgd\u001b[0m\u001b[0;34m(\u001b[0m\u001b[0;34m)\u001b[0m\u001b[0;34m\u001b[0m\u001b[0m\n\u001b[0;32m---> 12\u001b[0;31m         \u001b[0mresult\u001b[0m \u001b[0;34m=\u001b[0m \u001b[0mevaluate_lenet5\u001b[0m\u001b[0;34m(\u001b[0m\u001b[0msgd_opt\u001b[0m\u001b[0;34m)\u001b[0m\u001b[0;34m\u001b[0m\u001b[0m\n\u001b[0m\u001b[1;32m     13\u001b[0m         \u001b[0mcurrent_acc\u001b[0m \u001b[0;34m=\u001b[0m \u001b[0mresult\u001b[0m\u001b[0;34m[\u001b[0m\u001b[0;34m'acc'\u001b[0m\u001b[0;34m]\u001b[0m\u001b[0;34m\u001b[0m\u001b[0m\n\u001b[1;32m     14\u001b[0m \u001b[0;34m\u001b[0m\u001b[0m\n",
      "\u001b[0;32m<ipython-input-136-cf61e6310a43>\u001b[0m in \u001b[0;36mevaluate_lenet5\u001b[0;34m(optimizer, cv_split, verbose)\u001b[0m\n\u001b[1;32m     17\u001b[0m     \u001b[0;32mif\u001b[0m \u001b[0mverbose\u001b[0m\u001b[0;34m:\u001b[0m\u001b[0;34m\u001b[0m\u001b[0m\n\u001b[1;32m     18\u001b[0m         \u001b[0mprint\u001b[0m\u001b[0;34m(\u001b[0m\u001b[0;34m'\\nTraining model'\u001b[0m\u001b[0;34m)\u001b[0m\u001b[0;34m\u001b[0m\u001b[0m\n\u001b[0;32m---> 19\u001b[0;31m     \u001b[0mhistory\u001b[0m \u001b[0;34m=\u001b[0m \u001b[0mlenet5\u001b[0m\u001b[0;34m.\u001b[0m\u001b[0mfit\u001b[0m\u001b[0;34m(\u001b[0m\u001b[0mX_train\u001b[0m\u001b[0;34m,\u001b[0m \u001b[0my_train\u001b[0m\u001b[0;34m,\u001b[0m \u001b[0mvalidation_split\u001b[0m\u001b[0;34m=\u001b[0m\u001b[0mcv_split\u001b[0m\u001b[0;34m,\u001b[0m \u001b[0mepochs\u001b[0m\u001b[0;34m=\u001b[0m\u001b[0;36m20\u001b[0m\u001b[0;34m,\u001b[0m \u001b[0mbatch_size\u001b[0m\u001b[0;34m=\u001b[0m\u001b[0;36m256\u001b[0m\u001b[0;34m,\u001b[0m \u001b[0mverbose\u001b[0m\u001b[0;34m=\u001b[0m\u001b[0;36m0\u001b[0m\u001b[0;34m)\u001b[0m\u001b[0;34m\u001b[0m\u001b[0m\n\u001b[0m\u001b[1;32m     20\u001b[0m \u001b[0;34m\u001b[0m\u001b[0m\n\u001b[1;32m     21\u001b[0m     \u001b[0;32mif\u001b[0m \u001b[0mverbose\u001b[0m\u001b[0;34m:\u001b[0m\u001b[0;34m\u001b[0m\u001b[0m\n",
      "\u001b[0;32m~/anaconda3/envs/tensorflow/lib/python3.5/site-packages/keras/models.py\u001b[0m in \u001b[0;36mfit\u001b[0;34m(self, x, y, batch_size, epochs, verbose, callbacks, validation_split, validation_data, shuffle, class_weight, sample_weight, initial_epoch, **kwargs)\u001b[0m\n\u001b[1;32m    843\u001b[0m                               \u001b[0mclass_weight\u001b[0m\u001b[0;34m=\u001b[0m\u001b[0mclass_weight\u001b[0m\u001b[0;34m,\u001b[0m\u001b[0;34m\u001b[0m\u001b[0m\n\u001b[1;32m    844\u001b[0m                               \u001b[0msample_weight\u001b[0m\u001b[0;34m=\u001b[0m\u001b[0msample_weight\u001b[0m\u001b[0;34m,\u001b[0m\u001b[0;34m\u001b[0m\u001b[0m\n\u001b[0;32m--> 845\u001b[0;31m                               initial_epoch=initial_epoch)\n\u001b[0m\u001b[1;32m    846\u001b[0m \u001b[0;34m\u001b[0m\u001b[0m\n\u001b[1;32m    847\u001b[0m     def evaluate(self, x, y, batch_size=32, verbose=1,\n",
      "\u001b[0;32m~/anaconda3/envs/tensorflow/lib/python3.5/site-packages/keras/engine/training.py\u001b[0m in \u001b[0;36mfit\u001b[0;34m(self, x, y, batch_size, epochs, verbose, callbacks, validation_split, validation_data, shuffle, class_weight, sample_weight, initial_epoch, **kwargs)\u001b[0m\n\u001b[1;32m   1483\u001b[0m                               \u001b[0mval_f\u001b[0m\u001b[0;34m=\u001b[0m\u001b[0mval_f\u001b[0m\u001b[0;34m,\u001b[0m \u001b[0mval_ins\u001b[0m\u001b[0;34m=\u001b[0m\u001b[0mval_ins\u001b[0m\u001b[0;34m,\u001b[0m \u001b[0mshuffle\u001b[0m\u001b[0;34m=\u001b[0m\u001b[0mshuffle\u001b[0m\u001b[0;34m,\u001b[0m\u001b[0;34m\u001b[0m\u001b[0m\n\u001b[1;32m   1484\u001b[0m                               \u001b[0mcallback_metrics\u001b[0m\u001b[0;34m=\u001b[0m\u001b[0mcallback_metrics\u001b[0m\u001b[0;34m,\u001b[0m\u001b[0;34m\u001b[0m\u001b[0m\n\u001b[0;32m-> 1485\u001b[0;31m                               initial_epoch=initial_epoch)\n\u001b[0m\u001b[1;32m   1486\u001b[0m \u001b[0;34m\u001b[0m\u001b[0m\n\u001b[1;32m   1487\u001b[0m     \u001b[0;32mdef\u001b[0m \u001b[0mevaluate\u001b[0m\u001b[0;34m(\u001b[0m\u001b[0mself\u001b[0m\u001b[0;34m,\u001b[0m \u001b[0mx\u001b[0m\u001b[0;34m,\u001b[0m \u001b[0my\u001b[0m\u001b[0;34m,\u001b[0m \u001b[0mbatch_size\u001b[0m\u001b[0;34m=\u001b[0m\u001b[0;36m32\u001b[0m\u001b[0;34m,\u001b[0m \u001b[0mverbose\u001b[0m\u001b[0;34m=\u001b[0m\u001b[0;36m1\u001b[0m\u001b[0;34m,\u001b[0m \u001b[0msample_weight\u001b[0m\u001b[0;34m=\u001b[0m\u001b[0;32mNone\u001b[0m\u001b[0;34m)\u001b[0m\u001b[0;34m:\u001b[0m\u001b[0;34m\u001b[0m\u001b[0m\n",
      "\u001b[0;32m~/anaconda3/envs/tensorflow/lib/python3.5/site-packages/keras/engine/training.py\u001b[0m in \u001b[0;36m_fit_loop\u001b[0;34m(self, f, ins, out_labels, batch_size, epochs, verbose, callbacks, val_f, val_ins, shuffle, callback_metrics, initial_epoch)\u001b[0m\n\u001b[1;32m   1138\u001b[0m                 \u001b[0mbatch_logs\u001b[0m\u001b[0;34m[\u001b[0m\u001b[0;34m'size'\u001b[0m\u001b[0;34m]\u001b[0m \u001b[0;34m=\u001b[0m \u001b[0mlen\u001b[0m\u001b[0;34m(\u001b[0m\u001b[0mbatch_ids\u001b[0m\u001b[0;34m)\u001b[0m\u001b[0;34m\u001b[0m\u001b[0m\n\u001b[1;32m   1139\u001b[0m                 \u001b[0mcallbacks\u001b[0m\u001b[0;34m.\u001b[0m\u001b[0mon_batch_begin\u001b[0m\u001b[0;34m(\u001b[0m\u001b[0mbatch_index\u001b[0m\u001b[0;34m,\u001b[0m \u001b[0mbatch_logs\u001b[0m\u001b[0;34m)\u001b[0m\u001b[0;34m\u001b[0m\u001b[0m\n\u001b[0;32m-> 1140\u001b[0;31m                 \u001b[0mouts\u001b[0m \u001b[0;34m=\u001b[0m \u001b[0mf\u001b[0m\u001b[0;34m(\u001b[0m\u001b[0mins_batch\u001b[0m\u001b[0;34m)\u001b[0m\u001b[0;34m\u001b[0m\u001b[0m\n\u001b[0m\u001b[1;32m   1141\u001b[0m                 \u001b[0;32mif\u001b[0m \u001b[0;32mnot\u001b[0m \u001b[0misinstance\u001b[0m\u001b[0;34m(\u001b[0m\u001b[0mouts\u001b[0m\u001b[0;34m,\u001b[0m \u001b[0mlist\u001b[0m\u001b[0;34m)\u001b[0m\u001b[0;34m:\u001b[0m\u001b[0;34m\u001b[0m\u001b[0m\n\u001b[1;32m   1142\u001b[0m                     \u001b[0mouts\u001b[0m \u001b[0;34m=\u001b[0m \u001b[0;34m[\u001b[0m\u001b[0mouts\u001b[0m\u001b[0;34m]\u001b[0m\u001b[0;34m\u001b[0m\u001b[0m\n",
      "\u001b[0;32m~/anaconda3/envs/tensorflow/lib/python3.5/site-packages/keras/backend/theano_backend.py\u001b[0m in \u001b[0;36m__call__\u001b[0;34m(self, inputs)\u001b[0m\n\u001b[1;32m   1092\u001b[0m     \u001b[0;32mdef\u001b[0m \u001b[0m__call__\u001b[0m\u001b[0;34m(\u001b[0m\u001b[0mself\u001b[0m\u001b[0;34m,\u001b[0m \u001b[0minputs\u001b[0m\u001b[0;34m)\u001b[0m\u001b[0;34m:\u001b[0m\u001b[0;34m\u001b[0m\u001b[0m\n\u001b[1;32m   1093\u001b[0m         \u001b[0;32massert\u001b[0m \u001b[0misinstance\u001b[0m\u001b[0;34m(\u001b[0m\u001b[0minputs\u001b[0m\u001b[0;34m,\u001b[0m \u001b[0;34m(\u001b[0m\u001b[0mlist\u001b[0m\u001b[0;34m,\u001b[0m \u001b[0mtuple\u001b[0m\u001b[0;34m)\u001b[0m\u001b[0;34m)\u001b[0m\u001b[0;34m\u001b[0m\u001b[0m\n\u001b[0;32m-> 1094\u001b[0;31m         \u001b[0;32mreturn\u001b[0m \u001b[0mself\u001b[0m\u001b[0;34m.\u001b[0m\u001b[0mfunction\u001b[0m\u001b[0;34m(\u001b[0m\u001b[0;34m*\u001b[0m\u001b[0minputs\u001b[0m\u001b[0;34m)\u001b[0m\u001b[0;34m\u001b[0m\u001b[0m\n\u001b[0m\u001b[1;32m   1095\u001b[0m \u001b[0;34m\u001b[0m\u001b[0m\n\u001b[1;32m   1096\u001b[0m \u001b[0;34m\u001b[0m\u001b[0m\n",
      "\u001b[0;32m~/anaconda3/envs/tensorflow/lib/python3.5/site-packages/theano/compile/function_module.py\u001b[0m in \u001b[0;36m__call__\u001b[0;34m(self, *args, **kwargs)\u001b[0m\n\u001b[1;32m    882\u001b[0m         \u001b[0;32mtry\u001b[0m\u001b[0;34m:\u001b[0m\u001b[0;34m\u001b[0m\u001b[0m\n\u001b[1;32m    883\u001b[0m             \u001b[0moutputs\u001b[0m \u001b[0;34m=\u001b[0m\u001b[0;31m\\\u001b[0m\u001b[0;34m\u001b[0m\u001b[0m\n\u001b[0;32m--> 884\u001b[0;31m                 \u001b[0mself\u001b[0m\u001b[0;34m.\u001b[0m\u001b[0mfn\u001b[0m\u001b[0;34m(\u001b[0m\u001b[0;34m)\u001b[0m \u001b[0;32mif\u001b[0m \u001b[0moutput_subset\u001b[0m \u001b[0;32mis\u001b[0m \u001b[0;32mNone\u001b[0m \u001b[0;32melse\u001b[0m\u001b[0;31m\\\u001b[0m\u001b[0;34m\u001b[0m\u001b[0m\n\u001b[0m\u001b[1;32m    885\u001b[0m                 \u001b[0mself\u001b[0m\u001b[0;34m.\u001b[0m\u001b[0mfn\u001b[0m\u001b[0;34m(\u001b[0m\u001b[0moutput_subset\u001b[0m\u001b[0;34m=\u001b[0m\u001b[0moutput_subset\u001b[0m\u001b[0;34m)\u001b[0m\u001b[0;34m\u001b[0m\u001b[0m\n\u001b[1;32m    886\u001b[0m         \u001b[0;32mexcept\u001b[0m \u001b[0mException\u001b[0m\u001b[0;34m:\u001b[0m\u001b[0;34m\u001b[0m\u001b[0m\n",
      "\u001b[0;31mKeyboardInterrupt\u001b[0m: "
     ]
    }
   ],
   "source": [
    "\n",
    "def best_model(N=100):\n",
    "    \"\"\"\n",
    "    Returns the best model after random search for N SGD values\n",
    "    \"\"\"\n",
    "    best_result = None\n",
    "    best_acc = 0\n",
    "\n",
    "    for n in range(N):\n",
    "#         print('Iteration {}'.format(n))\n",
    "        sgd_opt = random_sgd()\n",
    "        result = evaluate_lenet5(sgd_opt)\n",
    "        current_acc = result['acc']\n",
    "        \n",
    "        if current_acc > best_acc:\n",
    "            print('#{}: Updating best model. Current acc: {}, old acc: {}'.format(n, current_acc, best_acc))\n",
    "            best_result = result\n",
    "            best_acc = current_acc\n",
    "    \n",
    "    return result\n",
    "\n",
    "best_lenet5 = best_model(N=100)"
   ]
  },
  {
   "cell_type": "code",
   "execution_count": 143,
   "metadata": {},
   "outputs": [
    {
     "data": {
      "text/plain": [
       "0.050899999999999945"
      ]
     },
     "execution_count": 143,
     "metadata": {},
     "output_type": "execute_result"
    }
   ],
   "source": [
    "best_lenet5['err']"
   ]
  },
  {
   "cell_type": "code",
   "execution_count": null,
   "metadata": {
    "collapsed": true
   },
   "outputs": [],
   "source": []
  },
  {
   "cell_type": "code",
   "execution_count": null,
   "metadata": {
    "collapsed": true
   },
   "outputs": [],
   "source": []
  },
  {
   "cell_type": "code",
   "execution_count": 73,
   "metadata": {},
   "outputs": [
    {
     "data": {
      "text/plain": [
       "[0.050903766351006928, 0.98650000000000004]"
      ]
     },
     "execution_count": 73,
     "metadata": {},
     "output_type": "execute_result"
    }
   ],
   "source": [
    "score"
   ]
  },
  {
   "cell_type": "code",
   "execution_count": 74,
   "metadata": {},
   "outputs": [
    {
     "data": {
      "text/plain": [
       "['loss', 'acc']"
      ]
     },
     "execution_count": 74,
     "metadata": {},
     "output_type": "execute_result"
    }
   ],
   "source": [
    "lenet5.metrics_names"
   ]
  },
  {
   "cell_type": "code",
   "execution_count": 75,
   "metadata": {},
   "outputs": [
    {
     "data": {
      "text/plain": [
       "0.013499999999999956"
      ]
     },
     "execution_count": 75,
     "metadata": {},
     "output_type": "execute_result"
    }
   ],
   "source": [
    "1.0 - score[1]"
   ]
  },
  {
   "cell_type": "code",
   "execution_count": 46,
   "metadata": {},
   "outputs": [
    {
     "data": {
      "text/plain": [
       "{'acc': [0.9815625,\n",
       "  0.98793750000000002,\n",
       "  0.99131250000000004,\n",
       "  0.9936666666666667,\n",
       "  0.99572916666666667,\n",
       "  0.99793750000000003,\n",
       "  0.99845833333333334,\n",
       "  0.99881249999999999,\n",
       "  0.99939583333333337,\n",
       "  0.99975000000000003,\n",
       "  0.99975000000000003,\n",
       "  0.99993750000000003,\n",
       "  1.0,\n",
       "  1.0,\n",
       "  0.99997916666666664,\n",
       "  1.0,\n",
       "  1.0,\n",
       "  1.0,\n",
       "  1.0,\n",
       "  1.0],\n",
       " 'loss': [0.055637521922588348,\n",
       "  0.036525344423949717,\n",
       "  0.026119544712205726,\n",
       "  0.019107628614952167,\n",
       "  0.01324327455771466,\n",
       "  0.0082255733689914155,\n",
       "  0.006441292751580477,\n",
       "  0.0045028634384895365,\n",
       "  0.0029148235445221266,\n",
       "  0.0019038271632355948,\n",
       "  0.0015484087172274788,\n",
       "  0.0010826749114009242,\n",
       "  0.00075313911156263207,\n",
       "  0.00060440151525350909,\n",
       "  0.00056910303949067988,\n",
       "  0.00048730120194765428,\n",
       "  0.00049211875186301764,\n",
       "  0.0004157640723666797,\n",
       "  0.00038428689811068279,\n",
       "  0.00035158645384944975],\n",
       " 'val_acc': [0.9744999995231628,\n",
       "  0.97941666650772097,\n",
       "  0.98324999952316283,\n",
       "  0.98458333285649613,\n",
       "  0.98491666650772092,\n",
       "  0.98491666698455815,\n",
       "  0.98466666698455807,\n",
       "  0.98566666698455807,\n",
       "  0.98608333285649619,\n",
       "  0.98574999952316289,\n",
       "  0.98641666618982948,\n",
       "  0.9864166669845581,\n",
       "  0.98633333365122478,\n",
       "  0.98666666618982946,\n",
       "  0.98666666698455807,\n",
       "  0.98633333365122478,\n",
       "  0.9867500003178914,\n",
       "  0.98666666698455807,\n",
       "  0.98691666698455816,\n",
       "  0.98666666698455807],\n",
       " 'val_loss': [0.079967017794648806,\n",
       "  0.066124834060668949,\n",
       "  0.055029163960367444,\n",
       "  0.058113731245199841,\n",
       "  0.053776529170572761,\n",
       "  0.052960362493991851,\n",
       "  0.057181828853984672,\n",
       "  0.056595571958770352,\n",
       "  0.052639106808540718,\n",
       "  0.053155429483857007,\n",
       "  0.053500806404898564,\n",
       "  0.052183710633078591,\n",
       "  0.052866895677521827,\n",
       "  0.053357567929352326,\n",
       "  0.053364078717151035,\n",
       "  0.053766715403335788,\n",
       "  0.053548622437675171,\n",
       "  0.054110450139191621,\n",
       "  0.054306211891118436,\n",
       "  0.054155891372822222]}"
      ]
     },
     "execution_count": 46,
     "metadata": {},
     "output_type": "execute_result"
    }
   ],
   "source": [
    "history.history"
   ]
  },
  {
   "cell_type": "code",
   "execution_count": null,
   "metadata": {
    "collapsed": true
   },
   "outputs": [],
   "source": []
  },
  {
   "cell_type": "code",
   "execution_count": 50,
   "metadata": {},
   "outputs": [
    {
     "data": {
      "text/html": [
       "<div>\n",
       "<style>\n",
       "    .dataframe thead tr:only-child th {\n",
       "        text-align: right;\n",
       "    }\n",
       "\n",
       "    .dataframe thead th {\n",
       "        text-align: left;\n",
       "    }\n",
       "\n",
       "    .dataframe tbody tr th {\n",
       "        vertical-align: top;\n",
       "    }\n",
       "</style>\n",
       "<table border=\"1\" class=\"dataframe\">\n",
       "  <thead>\n",
       "    <tr style=\"text-align: right;\">\n",
       "      <th></th>\n",
       "      <th>acc</th>\n",
       "      <th>loss</th>\n",
       "      <th>val_acc</th>\n",
       "      <th>val_loss</th>\n",
       "    </tr>\n",
       "  </thead>\n",
       "  <tbody>\n",
       "    <tr>\n",
       "      <th>0</th>\n",
       "      <td>0.981563</td>\n",
       "      <td>0.055638</td>\n",
       "      <td>0.974500</td>\n",
       "      <td>0.079967</td>\n",
       "    </tr>\n",
       "    <tr>\n",
       "      <th>1</th>\n",
       "      <td>0.987938</td>\n",
       "      <td>0.036525</td>\n",
       "      <td>0.979417</td>\n",
       "      <td>0.066125</td>\n",
       "    </tr>\n",
       "    <tr>\n",
       "      <th>2</th>\n",
       "      <td>0.991313</td>\n",
       "      <td>0.026120</td>\n",
       "      <td>0.983250</td>\n",
       "      <td>0.055029</td>\n",
       "    </tr>\n",
       "    <tr>\n",
       "      <th>3</th>\n",
       "      <td>0.993667</td>\n",
       "      <td>0.019108</td>\n",
       "      <td>0.984583</td>\n",
       "      <td>0.058114</td>\n",
       "    </tr>\n",
       "    <tr>\n",
       "      <th>4</th>\n",
       "      <td>0.995729</td>\n",
       "      <td>0.013243</td>\n",
       "      <td>0.984917</td>\n",
       "      <td>0.053777</td>\n",
       "    </tr>\n",
       "    <tr>\n",
       "      <th>5</th>\n",
       "      <td>0.997938</td>\n",
       "      <td>0.008226</td>\n",
       "      <td>0.984917</td>\n",
       "      <td>0.052960</td>\n",
       "    </tr>\n",
       "    <tr>\n",
       "      <th>6</th>\n",
       "      <td>0.998458</td>\n",
       "      <td>0.006441</td>\n",
       "      <td>0.984667</td>\n",
       "      <td>0.057182</td>\n",
       "    </tr>\n",
       "    <tr>\n",
       "      <th>7</th>\n",
       "      <td>0.998812</td>\n",
       "      <td>0.004503</td>\n",
       "      <td>0.985667</td>\n",
       "      <td>0.056596</td>\n",
       "    </tr>\n",
       "    <tr>\n",
       "      <th>8</th>\n",
       "      <td>0.999396</td>\n",
       "      <td>0.002915</td>\n",
       "      <td>0.986083</td>\n",
       "      <td>0.052639</td>\n",
       "    </tr>\n",
       "    <tr>\n",
       "      <th>9</th>\n",
       "      <td>0.999750</td>\n",
       "      <td>0.001904</td>\n",
       "      <td>0.985750</td>\n",
       "      <td>0.053155</td>\n",
       "    </tr>\n",
       "    <tr>\n",
       "      <th>10</th>\n",
       "      <td>0.999750</td>\n",
       "      <td>0.001548</td>\n",
       "      <td>0.986417</td>\n",
       "      <td>0.053501</td>\n",
       "    </tr>\n",
       "    <tr>\n",
       "      <th>11</th>\n",
       "      <td>0.999938</td>\n",
       "      <td>0.001083</td>\n",
       "      <td>0.986417</td>\n",
       "      <td>0.052184</td>\n",
       "    </tr>\n",
       "    <tr>\n",
       "      <th>12</th>\n",
       "      <td>1.000000</td>\n",
       "      <td>0.000753</td>\n",
       "      <td>0.986333</td>\n",
       "      <td>0.052867</td>\n",
       "    </tr>\n",
       "    <tr>\n",
       "      <th>13</th>\n",
       "      <td>1.000000</td>\n",
       "      <td>0.000604</td>\n",
       "      <td>0.986667</td>\n",
       "      <td>0.053358</td>\n",
       "    </tr>\n",
       "    <tr>\n",
       "      <th>14</th>\n",
       "      <td>0.999979</td>\n",
       "      <td>0.000569</td>\n",
       "      <td>0.986667</td>\n",
       "      <td>0.053364</td>\n",
       "    </tr>\n",
       "    <tr>\n",
       "      <th>15</th>\n",
       "      <td>1.000000</td>\n",
       "      <td>0.000487</td>\n",
       "      <td>0.986333</td>\n",
       "      <td>0.053767</td>\n",
       "    </tr>\n",
       "    <tr>\n",
       "      <th>16</th>\n",
       "      <td>1.000000</td>\n",
       "      <td>0.000492</td>\n",
       "      <td>0.986750</td>\n",
       "      <td>0.053549</td>\n",
       "    </tr>\n",
       "    <tr>\n",
       "      <th>17</th>\n",
       "      <td>1.000000</td>\n",
       "      <td>0.000416</td>\n",
       "      <td>0.986667</td>\n",
       "      <td>0.054110</td>\n",
       "    </tr>\n",
       "    <tr>\n",
       "      <th>18</th>\n",
       "      <td>1.000000</td>\n",
       "      <td>0.000384</td>\n",
       "      <td>0.986917</td>\n",
       "      <td>0.054306</td>\n",
       "    </tr>\n",
       "    <tr>\n",
       "      <th>19</th>\n",
       "      <td>1.000000</td>\n",
       "      <td>0.000352</td>\n",
       "      <td>0.986667</td>\n",
       "      <td>0.054156</td>\n",
       "    </tr>\n",
       "  </tbody>\n",
       "</table>\n",
       "</div>"
      ],
      "text/plain": [
       "         acc      loss   val_acc  val_loss\n",
       "0   0.981563  0.055638  0.974500  0.079967\n",
       "1   0.987938  0.036525  0.979417  0.066125\n",
       "2   0.991313  0.026120  0.983250  0.055029\n",
       "3   0.993667  0.019108  0.984583  0.058114\n",
       "4   0.995729  0.013243  0.984917  0.053777\n",
       "5   0.997938  0.008226  0.984917  0.052960\n",
       "6   0.998458  0.006441  0.984667  0.057182\n",
       "7   0.998812  0.004503  0.985667  0.056596\n",
       "8   0.999396  0.002915  0.986083  0.052639\n",
       "9   0.999750  0.001904  0.985750  0.053155\n",
       "10  0.999750  0.001548  0.986417  0.053501\n",
       "11  0.999938  0.001083  0.986417  0.052184\n",
       "12  1.000000  0.000753  0.986333  0.052867\n",
       "13  1.000000  0.000604  0.986667  0.053358\n",
       "14  0.999979  0.000569  0.986667  0.053364\n",
       "15  1.000000  0.000487  0.986333  0.053767\n",
       "16  1.000000  0.000492  0.986750  0.053549\n",
       "17  1.000000  0.000416  0.986667  0.054110\n",
       "18  1.000000  0.000384  0.986917  0.054306\n",
       "19  1.000000  0.000352  0.986667  0.054156"
      ]
     },
     "execution_count": 50,
     "metadata": {},
     "output_type": "execute_result"
    }
   ],
   "source": [
    "pd.DataFrame(history.history)"
   ]
  },
  {
   "cell_type": "code",
   "execution_count": null,
   "metadata": {
    "collapsed": true
   },
   "outputs": [],
   "source": []
  }
 ],
 "metadata": {
  "anaconda-cloud": {},
  "kernelspec": {
   "display_name": "Python [conda env:tensorflow]",
   "language": "python",
   "name": "conda-env-tensorflow-py"
  },
  "language_info": {
   "codemirror_mode": {
    "name": "ipython",
    "version": 3
   },
   "file_extension": ".py",
   "mimetype": "text/x-python",
   "name": "python",
   "nbconvert_exporter": "python",
   "pygments_lexer": "ipython3",
   "version": "3.5.3"
  }
 },
 "nbformat": 4,
 "nbformat_minor": 2
}
