{
 "cells": [
  {
   "cell_type": "markdown",
   "metadata": {},
   "source": [
    "# Neural network models\n",
    "\n",
    "This notebook picks up after the `simple_models` notebook. After trying a range of classification algorithms, we'll try out some of the neural network models in [1]. These include fully-connected models of varying layer sizes, and finally convolutional models including the famous LeNet-5. \n",
    "\n",
    "Along the way, we'll be using Keras which is a library sitting on top of Theano or Tensorflow. This allows easy construction, training and evaluation of neural nets. Before we get started, here's a recap of the `simple_models` notebook models.\n",
    "\n",
    "`[1]` - [Gradient-Based Learning Applied to Document Recognition](http://yann.lecun.com/exdb/publis/pdf/lecun-98.pdf),  LeCun et al, Nov 1998"
   ]
  },
  {
   "cell_type": "code",
   "execution_count": 1,
   "metadata": {},
   "outputs": [],
   "source": [
    "import pandas as pd\n",
    "import numpy as np\n",
    "import matplotlib.pyplot as plt\n",
    "import seaborn as sns\n",
    "\n",
    "import pickle\n",
    "\n",
    "plt.style.use('fivethirtyeight')\n",
    "# plt.rcParams['font.family'] = 'serif'\n",
    "plt.rcParams['font.serif'] = 'Helvetica'\n",
    "plt.rcParams['font.monospace'] = 'Consolas'\n",
    "plt.rcParams['font.size'] = 16\n",
    "plt.rcParams['axes.labelsize'] = 16\n",
    "plt.rcParams['axes.labelweight'] = 'bold'\n",
    "plt.rcParams['xtick.labelsize'] = 14\n",
    "plt.rcParams['ytick.labelsize'] = 14\n",
    "plt.rcParams['legend.fontsize'] = 16\n",
    "plt.rcParams['axes.titlesize'] = 20\n",
    "plt.rcParams['lines.linewidth'] = 2\n",
    "\n",
    "%matplotlib inline\n",
    "\n",
    "# for auto-reloading external modules\n",
    "%load_ext autoreload\n",
    "%autoreload 2"
   ]
  },
  {
   "cell_type": "markdown",
   "metadata": {},
   "source": [
    "## Load pickle files\n",
    "\n",
    "The original data files are processed using the `convert_data.py` script, and written out to pickle files. We can load these in as numpy arrays."
   ]
  },
  {
   "cell_type": "code",
   "execution_count": 2,
   "metadata": {},
   "outputs": [
    {
     "name": "stdout",
     "output_type": "stream",
     "text": [
      "Loading pickle files ...\n"
     ]
    }
   ],
   "source": [
    "# Set up the file directory and names\n",
    "DIR = '../input/'\n",
    "X_TRAIN = DIR + 'train-images-idx3-ubyte.pkl'\n",
    "Y_TRAIN = DIR + 'train-labels-idx1-ubyte.pkl'\n",
    "X_TEST = DIR + 't10k-images-idx3-ubyte.pkl'\n",
    "Y_TEST = DIR + 't10k-labels-idx1-ubyte.pkl'\n",
    "\n",
    "def load_data():\n",
    "    '''Loads pickled ubyte files with MNIST data\n",
    "    INPUT: X_train_file, y_train_file - strings with training filenames\n",
    "           X_test_file, y_test_File - strings with test filenames\n",
    "    RETURNS: Tuple with (X_train, y_train, X_test, y_test)\n",
    "    '''\n",
    "    print('Loading pickle files ...')\n",
    "    try:\n",
    "        X_train = pickle.load( open( X_TRAIN, \"rb\" ) )\n",
    "        y_train = pickle.load( open( Y_TRAIN, \"rb\" ) )\n",
    "        X_test = pickle.load( open( X_TEST, \"rb\" ) )\n",
    "        y_test = pickle.load( open( Y_TEST, \"rb\" ) )\n",
    "    except:\n",
    "        print('Error loading pickle file')\n",
    "        return None\n",
    "        \n",
    "    return (X_train, y_train, X_test, y_test)\n",
    "\n",
    "X_train, y_train, X_test,  y_test = load_data()"
   ]
  },
  {
   "cell_type": "markdown",
   "metadata": {},
   "source": [
    "## Helper functions\n",
    "\n",
    "Before evaluating some models on the images, let's create some helper functions we can re-use later on. These deal with converting images to and from 1d and 2d versions, plotting images, resizing them, etc."
   ]
  },
  {
   "cell_type": "code",
   "execution_count": 3,
   "metadata": {},
   "outputs": [
    {
     "name": "stdout",
     "output_type": "stream",
     "text": [
      "Loaded train images shape (60000, 784), labels shape (60000, 1)\n",
      "Loaded test images shape (10000, 784), labels shape (10000, 1)\n"
     ]
    }
   ],
   "source": [
    "def flatten_images(X):\n",
    "    ''' Converts images to 1-d vectors\n",
    "    INPUT: X - Input array of shape [n, w, h]\n",
    "    RETURNS: Numpy array of shape [n, w*h]\n",
    "    '''\n",
    "    n, w, h = X.shape\n",
    "    X_flat = X.reshape((n, w * h))\n",
    "    return X_flat\n",
    "\n",
    "def square_images(X, w=None, h=None):\n",
    "    '''Converts single-vector images into square images \n",
    "    INPUT: X - numpy array of images in single-vector form\n",
    "           w - width of images to convert to\n",
    "           h - height of images to convert to\n",
    "    RETURNS: Numpy array of shape [n, w, h]\n",
    "    '''\n",
    "    \n",
    "    assert X.shape[1] == w * h, \"Error - Can't square array of shape {} to {}\".format(X.shape, (w, h))\n",
    "    n = X.shape[0]\n",
    "    X_square = X.reshape((n, w, h))\n",
    "    return X_square\n",
    "\n",
    "\n",
    "N_TRAIN, W, H = X_train.shape\n",
    "N_TEST, w_test, h_test = X_test.shape\n",
    "\n",
    "# Flatten the images\n",
    "X_train = flatten_images(X_train)\n",
    "X_test = flatten_images(X_test)\n",
    "\n",
    "# Do some checks on the data\n",
    "assert N_TRAIN == 60000, 'Error - expected 60000 training images, got {}'.format(N_TRAIN)\n",
    "assert N_TEST == 10000, 'Error - expected 60000 training images, got {}'.format(N_TEST)\n",
    "assert W == w_test, 'Error - width mismatch. Train {}, Test {}'.format(w, w_test)\n",
    "assert H == h_test, 'Error - height mismatch. Train {}, Test {}'.format(h, h_test)\n",
    "\n",
    "assert np.array_equal(X_train, flatten_images(square_images(X_train, W, H)))\n",
    "assert X_train.shape[0] == y_train.shape[0]\n",
    "assert X_test.shape[0] == y_test.shape[0]\n",
    "\n",
    "print('Loaded train images shape {}, labels shape {}'.format(X_train.shape, y_train.shape))\n",
    "print('Loaded test images shape {}, labels shape {}'.format(X_test.shape, y_test.shape))\n"
   ]
  },
  {
   "cell_type": "markdown",
   "metadata": {},
   "source": [
    "## Data preparation\n",
    "\n",
    "This section sets up global constants used in all models (to ensure a fair comparison). It also prepares the data by converting y values to one-hot, and normalizing X inputs."
   ]
  },
  {
   "cell_type": "code",
   "execution_count": 4,
   "metadata": {},
   "outputs": [
    {
     "name": "stdout",
     "output_type": "stream",
     "text": [
      "Converting y variables to one-hot encoding..\n",
      "Z-normalizing X data..\n",
      "Train images shape (60000, 784), labels shape (60000, 10)\n",
      "Test images shape (10000, 784), labels shape (10000, 10)\n"
     ]
    }
   ],
   "source": [
    "from sklearn.model_selection import train_test_split\n",
    "from sklearn.preprocessing import LabelBinarizer, StandardScaler\n",
    "\n",
    "# Keras Common configuration\n",
    "SEED = 1234 # Fix the seed for repeatability\n",
    "N_JOBS=-2 # Leave 1 core free for UI updates\n",
    "VERBOSE=2 # 3 is the most verbose level\n",
    "EPOCHS = 20 # todo ! Check how many epochs in the paper\n",
    "BATCH = 256 # todo ! Check this in the paper too\n",
    "\n",
    "\n",
    "def stratified_subsample(X, y, num_rows):\n",
    "    '''Creates a stratified subsample of X and y\n",
    "    INPUT: X and y, numpy arrays\n",
    "    RETURNS: subset of X and y, maintaining class balances\n",
    "    '''\n",
    "    # Create a stratified, shuffled subset of the training data if needed\n",
    "    N = X.shape[0]\n",
    "    if num_rows < N:\n",
    "        print('Reducing size from {} to {} examples'.format(N, num_rows))\n",
    "        new_X, _, new_y, _ = train_test_split(X_train, y_train, # Undersample by dropping \"test\" data\n",
    "                                              train_size=N, random_state=SEED)    \n",
    "\n",
    "def onehot_encode_y(y_train, y_test):\n",
    "    '''Convert y_train and y_test to a one-hot encoding version\n",
    "    INPUT: y_train - np.array of size (n_train,)\n",
    "           y_test - np.array of size (n_test,)\n",
    "    RETURNS: y_train - np.array of size (n_train, n_classes)\n",
    "             y_test - np.arary of size (n_test, n_classes)\n",
    "    '''    \n",
    "    print('Converting y variables to one-hot encoding..')\n",
    "    lbe = LabelBinarizer()\n",
    "    lbe.fit(y_train)\n",
    "    y_train = lbe.transform(y_train)\n",
    "    y_test = lbe.transform(y_test)\n",
    "    return y_train, y_test\n",
    "\n",
    "def z_norm_X(X_train, X_test):\n",
    "    '''Z-normalizes X_train and X_test with 0 mean and 1 std. dev.\n",
    "    INPUT: X_train - training set\n",
    "           X_test - test set\n",
    "    RETURNS: X_train - normalized version of same size\n",
    "             X_test - normalized version (using X_train parameters)\n",
    "    '''\n",
    "    print('Z-normalizing X data..')    \n",
    "    std = StandardScaler()\n",
    "    X_train = X_train.astype(np.float32)\n",
    "    X_test = X_test.astype(np.float32)\n",
    "    std.fit(X_train)\n",
    "    X_train = std.transform(X_train)\n",
    "    X_test = std.transform(X_test)\n",
    "    return X_train, X_test\n",
    "    \n",
    "y_train, y_test = onehot_encode_y(y_train, y_test)\n",
    "X_train, X_test = z_norm_X(X_train, X_test)\n",
    "scores = dict()\n",
    "\n",
    "print('Train images shape {}, labels shape {}'.format(X_train.shape, y_train.shape))\n",
    "print('Test images shape {}, labels shape {}'.format(X_test.shape, y_test.shape))"
   ]
  },
  {
   "cell_type": "markdown",
   "metadata": {},
   "source": [
    "## [1] C.5 - Baseline fully-connected models (original dataset)\n",
    "\n",
    "We'll first compare the performance of different fully-connected models on fully-connected networks of varying layers and size. These are all trained on the 28x28 dataset."
   ]
  },
  {
   "cell_type": "markdown",
   "metadata": {},
   "source": [
    "## Helper class"
   ]
  },
  {
   "cell_type": "code",
   "execution_count": 5,
   "metadata": {},
   "outputs": [
    {
     "name": "stderr",
     "output_type": "stream",
     "text": [
      "Using Theano backend.\n",
      "WARNING (theano.sandbox.cuda): The cuda backend is deprecated and will be removed in the next release (v0.10).  Please switch to the gpuarray backend. You can get more information about how to switch at this URL:\n",
      " https://github.com/Theano/Theano/wiki/Converting-to-the-new-gpu-back-end%28gpuarray%29\n",
      "\n",
      "Using gpu device 0: GeForce GTX 1070 (CNMeM is disabled, cuDNN 5105)\n"
     ]
    }
   ],
   "source": [
    "from keras.models import Sequential\n",
    "from keras.layers import Dense, Activation\n",
    "from keras.optimizers import SGD\n",
    "\n",
    "# Create a dictionary to store model training and test info\n",
    "models = dict()\n",
    "\n",
    "class KerasFCModel(object):\n",
    "    \n",
    "    def __init__(self, model_name, model_type, input_dim, layers, \n",
    "                 activation, output_activation, verbose=2):\n",
    "        '''Initializes a new keras model'''\n",
    "        self.model_name = model_name\n",
    "        self.verbose = verbose\n",
    "        \n",
    "        model = model_type\n",
    "        for idx, size in enumerate(layers):\n",
    "            \n",
    "            # First layer has to take input from image files\n",
    "            if idx == 0:\n",
    "                if self.verbose == 2:\n",
    "                    print('Adding input dense layer, input dim {}, dim {}'.format(input_dim, size))\n",
    "                model.add(Dense(size, input_dim=input_dim))\n",
    "                model.add(Activation(activation))\n",
    "                \n",
    "            # Last layer has to include the output activation\n",
    "            elif idx == len(layers) - 1:\n",
    "                if self.verbose == 2:\n",
    "                    print('Adding dense layer {}, size {}, activation {}'.format(idx, size, activation))\n",
    "                model.add(Dense(size))\n",
    "                model.add(Activation(output_activation))\n",
    "                \n",
    "            # Layers other than first and last have standard activation\n",
    "            else: \n",
    "                if self.verbose == 2:\n",
    "                    print('Adding output layer {}, size {}, activation {}'.format(idx, size, output_activation))\n",
    "                model.add(Dense(size))\n",
    "                model.add(Activation(activation))\n",
    "                \n",
    "        if self.verbose > 0:\n",
    "            print('Model summary:\\n')\n",
    "            model.summary()\n",
    "        \n",
    "        self.model = model\n",
    "\n",
    "    def compile_model(self, loss, optimizer, metrics):\n",
    "        '''Compile the model'''\n",
    "        self.metrics = metrics\n",
    "        self.loss = loss\n",
    "        self.optimizer = optimizer\n",
    "        # Need to flip error vs accuracy \n",
    "        metrics = ['acc' if metric is 'error' else metric for metric in metrics]\n",
    "        self.model.compile(loss=loss, optimizer=optimizer, metrics=metrics)\n",
    "          \n",
    "    def fit(self, X, y, epochs, batch_size):\n",
    "        '''Fit model to training data'''\n",
    "        self.history = self.model.fit(X, y, epochs=epochs, batch_size=batch_size, verbose=self.verbose)\n",
    "\n",
    "    def evaluate(self, X, y, batch_size):\n",
    "        '''Evaluates the model on test data'''\n",
    "        output = self.model.evaluate(X, y, batch_size=batch_size)\n",
    "        results = dict()\n",
    "        for idx, metric in enumerate(self.model.metrics_names):\n",
    "            if metric == 'acc':\n",
    "                results['error'] = 1.0 - output[idx]\n",
    "            else:\n",
    "                results[metric] = output[idx]                \n",
    "        self.results = results\n",
    "    \n",
    "    def report(self):\n",
    "        '''Prints a recap of the model, how it was trained, and performance'''\n",
    "        report = dict()\n",
    "        if self.verbose:\n",
    "            report['model_info'] = self.model.summary()\n",
    "            report['loss'] = self.loss\n",
    "            report['optimizer'] = self.optimizer.get_config()\n",
    "            report['metrics'] = self.metrics\n",
    "            report['history'] = self.history\n",
    "        report['results'] = self.results\n",
    "        return report\n",
    "    "
   ]
  },
  {
   "cell_type": "code",
   "execution_count": 6,
   "metadata": {},
   "outputs": [],
   "source": [
    "# FC 300-10\n",
    "def evaluate_fc_model(name, layers, activation, optimizer,\n",
    "                            X_tr, y_tr, X_te, y_te,\n",
    "                            epochs, batch_size,\n",
    "                            verbose=2):\n",
    "    \"\"\"Creates, trains, and evaluates neural network on provided data\"\"\"\n",
    "    \n",
    "    print('Creating Keras model {}'.format(name))\n",
    "    model = KerasFCModel(model_name=name, model_type=Sequential(), \n",
    "                           input_dim=784, layers=layers, \n",
    "                           activation=activation, output_activation='softmax',\n",
    "                           verbose=verbose)\n",
    "\n",
    "    print('Compiling model')\n",
    "    model.compile_model(loss='categorical_crossentropy',\n",
    "                        optimizer=optimizer,\n",
    "                        metrics=['error'])\n",
    "\n",
    "    print('Training model')\n",
    "    model.fit(X_tr, y_tr, epochs=epochs, batch_size=batch_size)\n",
    "\n",
    "    print('Evaluating model')\n",
    "    model.evaluate(X_te, y_te, batch_size=batch_size)\n",
    "\n",
    "    print('\\nTest results: {:.4f} error'.format(model.report()['results']['error']))\n",
    "    return model\n"
   ]
  },
  {
   "cell_type": "code",
   "execution_count": 29,
   "metadata": {},
   "outputs": [
    {
     "name": "stdout",
     "output_type": "stream",
     "text": [
      "Creating Keras model fc-300-10\n",
      "Compiling model\n",
      "Training model\n",
      "Evaluating model\n",
      " 6144/10000 [=================>............] - ETA: 0s\n",
      "Test results: 0.0259 error\n"
     ]
    }
   ],
   "source": [
    "fc_results = dict()\n",
    "fc_results['fc-300-10'] = evaluate_fc_model('fc-300-10', layers=(300,10), activation='sigmoid', \n",
    "                                            optimizer=SGD(lr=0.1, decay=1e-6, momentum=0.9, nesterov=True),\n",
    "                                            X_tr=X_train, y_tr=y_train, X_te=X_test, y_te=y_test,\n",
    "                                            epochs=EPOCHS, batch_size=BATCH,\n",
    "                                            verbose=0)\n",
    "    "
   ]
  },
  {
   "cell_type": "code",
   "execution_count": 8,
   "metadata": {},
   "outputs": [
    {
     "name": "stdout",
     "output_type": "stream",
     "text": [
      "Creating Keras model fc-1000-10\n",
      "Compiling model\n",
      "Training model\n",
      "Evaluating model\n",
      " 8192/10000 [=======================>......] - ETA: 0s\n",
      "Test results: 0.0632 error\n"
     ]
    }
   ],
   "source": [
    "# FC 1000-10\n",
    "fc_results['fc-1000-10'] = evaluate_fc_model('fc-1000-10', layers=(1000,10), activation='sigmoid', \n",
    "                                            optimizer=SGD(lr=0.01, decay=1e-6, momentum=0.9, nesterov=True),\n",
    "                                            X_tr=X_train, y_tr=y_train, X_te=X_test, y_te=y_test,\n",
    "                                            epochs=EPOCHS, batch_size=BATCH,\n",
    "                                            verbose=0)\n"
   ]
  },
  {
   "cell_type": "code",
   "execution_count": 9,
   "metadata": {},
   "outputs": [
    {
     "name": "stdout",
     "output_type": "stream",
     "text": [
      "Creating Keras model fc-300-100-10\n",
      "Compiling model\n",
      "Training model\n",
      "Evaluating model\n",
      " 5632/10000 [===============>..............] - ETA: 0s\n",
      "Test results: 0.0269 error\n"
     ]
    }
   ],
   "source": [
    "# FC 300-100-10\n",
    "fc_results['fc-300-100-10'] = evaluate_fc_model('fc-300-100-10', layers=(300,100,10), activation='sigmoid', \n",
    "                                            optimizer=SGD(lr=0.1, decay=1e-5, momentum=0.9, nesterov=True),\n",
    "                                            X_tr=X_train, y_tr=y_train, X_te=X_test, y_te=y_test,\n",
    "                                            epochs=EPOCHS, batch_size=BATCH,\n",
    "                                            verbose=0)\n"
   ]
  },
  {
   "cell_type": "code",
   "execution_count": 10,
   "metadata": {},
   "outputs": [
    {
     "name": "stdout",
     "output_type": "stream",
     "text": [
      "Creating Keras model fc-500-150-10\n",
      "Compiling model\n",
      "Training model\n",
      "Evaluating model\n",
      " 6912/10000 [===================>..........] - ETA: 0s\n",
      "Test results: 0.0261 error\n"
     ]
    }
   ],
   "source": [
    "# FC 500-150-10\n",
    "fc_results['fc-500-150-10'] = evaluate_fc_model('fc-500-150-10', layers=(500,150,10), activation='sigmoid', \n",
    "                                            optimizer=SGD(lr=0.1, decay=1e-5, momentum=0.9, nesterov=True),\n",
    "                                            X_tr=X_train, y_tr=y_train, X_te=X_test, y_te=y_test,\n",
    "                                            epochs=EPOCHS, batch_size=BATCH,\n",
    "                                            verbose=0)\n"
   ]
  },
  {
   "cell_type": "markdown",
   "metadata": {},
   "source": []
  },
  {
   "cell_type": "code",
   "execution_count": 12,
   "metadata": {},
   "outputs": [
    {
     "data": {
      "text/html": [
       "<div>\n",
       "<style>\n",
       "    .dataframe thead tr:only-child th {\n",
       "        text-align: right;\n",
       "    }\n",
       "\n",
       "    .dataframe thead th {\n",
       "        text-align: left;\n",
       "    }\n",
       "\n",
       "    .dataframe tbody tr th {\n",
       "        vertical-align: top;\n",
       "    }\n",
       "</style>\n",
       "<table border=\"1\" class=\"dataframe\">\n",
       "  <thead>\n",
       "    <tr style=\"text-align: right;\">\n",
       "      <th></th>\n",
       "      <th>error</th>\n",
       "    </tr>\n",
       "  </thead>\n",
       "  <tbody>\n",
       "    <tr>\n",
       "      <th>fc-500-150-10</th>\n",
       "      <td>2.61</td>\n",
       "    </tr>\n",
       "    <tr>\n",
       "      <th>fc-300-10</th>\n",
       "      <td>2.64</td>\n",
       "    </tr>\n",
       "    <tr>\n",
       "      <th>fc-300-100-10</th>\n",
       "      <td>2.69</td>\n",
       "    </tr>\n",
       "    <tr>\n",
       "      <th>fc-1000-10</th>\n",
       "      <td>6.32</td>\n",
       "    </tr>\n",
       "  </tbody>\n",
       "</table>\n",
       "</div>"
      ],
      "text/plain": [
       "               error\n",
       "fc-500-150-10   2.61\n",
       "fc-300-10       2.64\n",
       "fc-300-100-10   2.69\n",
       "fc-1000-10      6.32"
      ]
     },
     "execution_count": 12,
     "metadata": {},
     "output_type": "execute_result"
    }
   ],
   "source": [
    "# Compile the FC results so far into a dataframe for easy plotting\n",
    "\n",
    "fc_scores = {result: value.results['error'] for result, value in fc_results.items()}\n",
    "fc_scores_df = pd.DataFrame.from_dict(fc_scores, orient='index')\n",
    "\n",
    "fc_scores_df.columns = ['error']\n",
    "fc_scores_df['error'] *= 100.0\n",
    "fc_scores_df = fc_scores_df.sort_values('error', ascending=True)\n",
    "fc_scores_df.to_pickle('fc_scores.pkl')\n",
    "fc_scores_df"
   ]
  },
  {
   "cell_type": "code",
   "execution_count": 14,
   "metadata": {},
   "outputs": [
    {
     "data": {
      "image/png": "[encoded data removed]",
      "text/plain": [
       "<matplotlib.figure.Figure at 0x7f500e0abc50>"
      ]
     },
     "metadata": {},
     "output_type": "display_data"
    }
   ],
   "source": [
    "fig, ax = plt.subplots(1,1, figsize=(6,6))\n",
    "fc_scores_df.plot.barh(width=0.4, ax=ax, legend=None)\n",
    "ax.set(title=\"Fully-connected neural net test-set accuracy\", ylabel=\"Algorithm\", xlabel=\"%age error\");\n",
    "plt.savefig('fc_scores.png', bbox_inches='tight', dpi=150)"
   ]
  },
  {
   "cell_type": "markdown",
   "metadata": {},
   "source": [
    "# Convolutional neural networks"
   ]
  },
  {
   "cell_type": "code",
   "execution_count": null,
   "metadata": {
    "collapsed": true
   },
   "outputs": [],
   "source": []
  },
  {
   "cell_type": "code",
   "execution_count": null,
   "metadata": {
    "collapsed": true
   },
   "outputs": [],
   "source": []
  },
  {
   "cell_type": "code",
   "execution_count": null,
   "metadata": {
    "collapsed": true
   },
   "outputs": [],
   "source": []
  },
  {
   "cell_type": "code",
   "execution_count": null,
   "metadata": {
    "collapsed": true
   },
   "outputs": [],
   "source": []
  },
  {
   "cell_type": "code",
   "execution_count": null,
   "metadata": {
    "collapsed": true
   },
   "outputs": [],
   "source": []
  }
 ],
 "metadata": {
  "anaconda-cloud": {},
  "kernelspec": {
   "display_name": "Python [conda env:tensorflow]",
   "language": "python",
   "name": "conda-env-tensorflow-py"
  },
  "language_info": {
   "codemirror_mode": {
    "name": "ipython",
    "version": 3
   },
   "file_extension": ".py",
   "mimetype": "text/x-python",
   "name": "python",
   "nbconvert_exporter": "python",
   "pygments_lexer": "ipython3",
   "version": "3.5.3"
  }
 },
 "nbformat": 4,
 "nbformat_minor": 2
}
