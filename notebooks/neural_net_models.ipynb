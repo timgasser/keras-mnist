{
 "cells": [
  {
   "cell_type": "markdown",
   "metadata": {},
   "source": [
    "# Neural network models\n",
    "\n",
    "This notebook picks up after the `simple_models` notebook. After trying a range of classification algorithms, we'll try out some of the neural network models in [1]. These include fully-connected models of varying layer sizes, and finally convolutional models including the famous LeNet-5. \n",
    "\n",
    "Along the way, we'll be using Keras which is a library sitting on top of Theano or Tensorflow. This allows easy construction, training and evaluation of neural nets. Before we get started, here's a recap of the `simple_models` notebook models.\n",
    "\n",
    "`[1]` - [Gradient-Based Learning Applied to Document Recognition](http://yann.lecun.com/exdb/publis/pdf/lecun-98.pdf),  LeCun et al, Nov 1998"
   ]
  },
  {
   "cell_type": "code",
   "execution_count": 1,
   "metadata": {
    "collapsed": false
   },
   "outputs": [],
   "source": [
    "# Load in dependencies, may not use all of these\n",
    "import numpy as np\n",
    "import pandas as pd\n",
    "import seaborn as sns\n",
    "import matplotlib.pyplot as plt\n",
    "\n",
    "import pickle\n",
    "\n",
    "%matplotlib inline"
   ]
  },
  {
   "cell_type": "markdown",
   "metadata": {},
   "source": [
    "## Load pickle files\n",
    "\n",
    "The original data files are processed using the `convert_data.py` script, and written out to pickle files. We can load these in as numpy arrays."
   ]
  },
  {
   "cell_type": "code",
   "execution_count": 133,
   "metadata": {
    "collapsed": false
   },
   "outputs": [
    {
     "name": "stdout",
     "output_type": "stream",
     "text": [
      "Loading pickle files ...\n"
     ]
    }
   ],
   "source": [
    "# Set up the file directory and names\n",
    "DIR = '../input/'\n",
    "X_TRAIN = DIR + 'train-images-idx3-ubyte.pkl'\n",
    "Y_TRAIN = DIR + 'train-labels-idx1-ubyte.pkl'\n",
    "X_TEST = DIR + 't10k-images-idx3-ubyte.pkl'\n",
    "Y_TEST = DIR + 't10k-labels-idx1-ubyte.pkl'\n",
    "\n",
    "def load_data():\n",
    "    '''Loads pickled ubyte files with MNIST data\n",
    "    INPUT: X_train_file, y_train_file - strings with training filenames\n",
    "           X_test_file, y_test_File - strings with test filenames\n",
    "    RETURNS: Tuple with (X_train, y_train, X_test, y_test)\n",
    "    '''\n",
    "    print('Loading pickle files ...')\n",
    "    try:\n",
    "        X_train = pickle.load( open( X_TRAIN, \"rb\" ) )\n",
    "        y_train = pickle.load( open( Y_TRAIN, \"rb\" ) )\n",
    "        X_test = pickle.load( open( X_TEST, \"rb\" ) )\n",
    "        y_test = pickle.load( open( Y_TEST, \"rb\" ) )\n",
    "    except:\n",
    "        print('Error loading pickle file')\n",
    "        return None\n",
    "        \n",
    "    return (X_train, y_train, X_test, y_test)\n",
    "\n",
    "X_train, y_train, X_test,  y_test = load_data()"
   ]
  },
  {
   "cell_type": "markdown",
   "metadata": {},
   "source": [
    "## Helper functions\n",
    "\n",
    "Before evaluating some models on the images, let's create some helper functions we can re-use later on. These deal with converting images to and from 1d and 2d versions, plotting images, resizing them, etc."
   ]
  },
  {
   "cell_type": "code",
   "execution_count": 134,
   "metadata": {
    "collapsed": false
   },
   "outputs": [
    {
     "name": "stdout",
     "output_type": "stream",
     "text": [
      "Loaded train images shape (60000, 784), labels shape (60000, 1)\n",
      "Loaded test images shape (10000, 784), labels shape (10000, 1)\n"
     ]
    }
   ],
   "source": [
    "def flatten_images(X):\n",
    "    ''' Converts images to 1-d vectors\n",
    "    INPUT: X - Input array of shape [n, w, h]\n",
    "    RETURNS: Numpy array of shape [n, w*h]\n",
    "    '''\n",
    "    n, w, h = X.shape\n",
    "    X_flat = X.reshape((n, w * h))\n",
    "    return X_flat\n",
    "\n",
    "def square_images(X, w=None, h=None):\n",
    "    '''Converts single-vector images into square images \n",
    "    INPUT: X - numpy array of images in single-vector form\n",
    "           w - width of images to convert to\n",
    "           h - height of images to convert to\n",
    "    RETURNS: Numpy array of shape [n, w, h]\n",
    "    '''\n",
    "    \n",
    "    assert X.shape[1] == w * h, \"Error - Can't square array of shape {} to {}\".format(X.shape, (w, h))\n",
    "    n = X.shape[0]\n",
    "    X_square = X.reshape((n, w, h))\n",
    "    return X_square\n",
    "\n",
    "\n",
    "N_TRAIN, W, H = X_train.shape\n",
    "N_TEST, w_test, h_test = X_test.shape\n",
    "\n",
    "# Flatten the images\n",
    "X_train = flatten_images(X_train)\n",
    "X_test = flatten_images(X_test)\n",
    "\n",
    "# Do some checks on the data\n",
    "assert N_TRAIN == 60000, 'Error - expected 60000 training images, got {}'.format(N_TRAIN)\n",
    "assert N_TEST == 10000, 'Error - expected 60000 training images, got {}'.format(N_TEST)\n",
    "assert W == w_test, 'Error - width mismatch. Train {}, Test {}'.format(w, w_test)\n",
    "assert H == h_test, 'Error - height mismatch. Train {}, Test {}'.format(h, h_test)\n",
    "\n",
    "assert np.array_equal(X_train, flatten_images(square_images(X_train, W, H)))\n",
    "assert X_train.shape[0] == y_train.shape[0]\n",
    "assert X_test.shape[0] == y_test.shape[0]\n",
    "\n",
    "print('Loaded train images shape {}, labels shape {}'.format(X_train.shape, y_train.shape))\n",
    "print('Loaded test images shape {}, labels shape {}'.format(X_test.shape, y_test.shape))\n"
   ]
  },
  {
   "cell_type": "markdown",
   "metadata": {},
   "source": [
    "## Data preparation\n",
    "\n",
    "This section sets up global constants used in all models (to ensure a fair comparison). It also prepares the data by converting y values to one-hot, and normalizing X inputs."
   ]
  },
  {
   "cell_type": "code",
   "execution_count": 4,
   "metadata": {
    "collapsed": false
   },
   "outputs": [
    {
     "name": "stdout",
     "output_type": "stream",
     "text": [
      "Converting y variables to one-hot encoding..\n",
      "Z-normalizing X data..\n",
      "Train images shape (60000, 784), labels shape (60000, 10)\n",
      "Test images shape (10000, 784), labels shape (10000, 10)\n"
     ]
    }
   ],
   "source": [
    "from sklearn.model_selection import train_test_split\n",
    "from sklearn.preprocessing import LabelBinarizer, StandardScaler\n",
    "\n",
    "# Keras Common configuration\n",
    "SEED = 1234 # Fix the seed for repeatability\n",
    "N_JOBS=-2 # Leave 1 core free for UI updates\n",
    "VERBOSE=2 # 3 is the most verbose level\n",
    "NB_EPOCH = 20 # todo ! Check how many epochs in the paper\n",
    "BATCH = 256 # todo ! Check this in the paper too\n",
    "\n",
    "\n",
    "def stratified_subsample(X, y, num_rows):\n",
    "    '''Creates a stratified subsample of X and y\n",
    "    INPUT: X and y, numpy arrays\n",
    "    RETURNS: subset of X and y, maintaining class balances\n",
    "    '''\n",
    "    # Create a stratified, shuffled subset of the training data if needed\n",
    "    N = X.shape[0]\n",
    "    if num_rows < N:\n",
    "        print('Reducing size from {} to {} examples'.format(N, num_rows))\n",
    "        new_X, _, new_y, _ = train_test_split(X_train, y_train, \n",
    "                                              train_size=N, random_state=SEED)    \n",
    "\n",
    "def onehot_encode_y(y_train, y_test):\n",
    "    '''Convert y_train and y_test to a one-hot encoding version\n",
    "    INPUT: y_train - np.array of size (n_train,)\n",
    "           y_test - np.array of size (n_test,)\n",
    "    RETURNS: y_train - np.array of size (n_train, n_classes)\n",
    "             y_test - np.arary of size (n_test, n_classes)\n",
    "    '''    \n",
    "    print('Converting y variables to one-hot encoding..')\n",
    "    lbe = LabelBinarizer()\n",
    "    lbe.fit(y_train)\n",
    "    y_train = lbe.transform(y_train)\n",
    "    y_test = lbe.transform(y_test)\n",
    "    return y_train, y_test\n",
    "\n",
    "def z_norm_X(X_train, X_test):\n",
    "    '''Z-normalizes X_train and X_test with 0 mean and 1 std. dev.\n",
    "    INPUT: X_train - training set\n",
    "           X_test - test set\n",
    "    RETURNS: X_train - normalized version of same size\n",
    "             X_test - normalized version (using X_train parameters)\n",
    "    '''\n",
    "    print('Z-normalizing X data..')    \n",
    "    std = StandardScaler()\n",
    "    X_train = X_train.astype(np.float32)\n",
    "    X_test = X_test.astype(np.float32)\n",
    "    std.fit(X_train)\n",
    "    X_train = std.transform(X_train)\n",
    "    X_test = std.transform(X_test)\n",
    "    return X_train, X_test\n",
    "    \n",
    "y_train, y_test = onehot_encode_y(y_train, y_test)\n",
    "X_train, X_test = z_norm_X(X_train, X_test)\n",
    "scores = dict()\n",
    "\n",
    "print('Train images shape {}, labels shape {}'.format(X_train.shape, y_train.shape))\n",
    "print('Test images shape {}, labels shape {}'.format(X_test.shape, y_test.shape))"
   ]
  },
  {
   "cell_type": "markdown",
   "metadata": {},
   "source": [
    "## [1] C.5 - Baseline fully-connected models (original dataset)\n",
    "\n",
    "We'll first compare the performance of different fully-connected models on fully-connected networks of varying layers and size. These are all trained on the 28x28 dataset."
   ]
  },
  {
   "cell_type": "markdown",
   "metadata": {},
   "source": [
    "## Helper class"
   ]
  },
  {
   "cell_type": "code",
   "execution_count": 114,
   "metadata": {
    "collapsed": false
   },
   "outputs": [],
   "source": [
    "from keras.models import Sequential\n",
    "from keras.layers import Dense, Activation\n",
    "from keras.optimizers import SGD\n",
    "\n",
    "# Create a dictionary to store model training and test info\n",
    "models = dict()\n",
    "\n",
    "class KerasFCModel(object):\n",
    "    \n",
    "    def __init__(self, model_name, model_type, input_dim, layers, \n",
    "                 activation, output_activation, verbose=None):\n",
    "        '''Initializes a new keras model'''\n",
    "        self.model_name = model_name\n",
    "        self.verbose = verbose\n",
    "        \n",
    "        model = model_type\n",
    "        for idx, size in enumerate(layers):\n",
    "            if idx == 0:\n",
    "                if self.verbose == 2:\n",
    "                    print('Adding input dense layer, input dim {}, dim {}'.format(input_dim, size))\n",
    "                model.add(Dense(size, input_dim=input_dim))\n",
    "                model.add(Activation(activation))\n",
    "            elif idx == len(layers) - 1:\n",
    "                if self.verbose == 2:\n",
    "                    print('Adding dense layer {}, size {}, activation {}'.format(idx, size, activation))\n",
    "                model.add(Dense(size))\n",
    "                model.add(Activation(activation))\n",
    "            else:\n",
    "                if self.verbose == 2:\n",
    "                    print('Adding output layer {}, size {}, activation {}'.format(idx, size, output_activation))\n",
    "                model.add(Dense(size))\n",
    "                model.add(Activation(output_activation))\n",
    "                \n",
    "        if self.verbose == 1:\n",
    "            print('Model summary:\\n')\n",
    "            model.summary()\n",
    "        \n",
    "        self.model = model\n",
    "\n",
    "    def compile(self, loss, optimizer, metrics):\n",
    "        '''Compile the model'''\n",
    "        self.metrics = metrics\n",
    "        self.loss = loss\n",
    "        self.optimizer = optimizer\n",
    "        # Need to flip error vs accuracy \n",
    "        metrics = ['acc' if metric is 'error' else metric for metric in metrics]\n",
    "        self.model.compile(loss=loss, optimizer=optimizer, metrics=metrics)\n",
    "          \n",
    "    def fit(self, X, y, nb_epoch, batch_size):\n",
    "        '''Fit model to training data'''\n",
    "        self.history = self.model.fit(X, y, nb_epoch=nb_epoch, batch_size=batch_size, verbose=self.verbose)\n",
    "\n",
    "    def evaluate(self, X, y, batch_size):\n",
    "        '''Evaluates the model on test data'''\n",
    "        output = self.model.evaluate(X, y, batch_size=batch_size)\n",
    "        results = dict()\n",
    "        for idx, metric in enumerate(self.model.metrics_names):\n",
    "            if metric == 'acc':\n",
    "                results['error'] = 1.0 - output[idx]\n",
    "            else:\n",
    "                results[metric] = output[idx]                \n",
    "        self.results = results\n",
    "    \n",
    "    def report(self):\n",
    "        '''Prints a recap of the model, how it was trained, and performance'''\n",
    "        report = dict()\n",
    "        if self.verbose == 2:\n",
    "            report['model_info'] = model.summary()\n",
    "            report['loss'] = self.loss\n",
    "            report['optimizer'] = self.optimizer.get_config()\n",
    "            report['metrics'] = self.metrics\n",
    "            report['history'] = self.history\n",
    "        report['results'] = self.results\n",
    "        return report\n",
    "    "
   ]
  },
  {
   "cell_type": "code",
   "execution_count": 120,
   "metadata": {
    "collapsed": false
   },
   "outputs": [
    {
     "name": "stdout",
     "output_type": "stream",
     "text": [
      "Creating Keras model...\n",
      "Compiling model...\n",
      "Training model...\n",
      "Evaluating model...\n",
      " 9472/10000 [===========================>..] - ETA: 0s\n",
      "fc-300-10 test results: 0.0265 error\n"
     ]
    }
   ],
   "source": [
    "# FC 300-10\n",
    "print('Creating Keras model...')\n",
    "model_a = KerasFCModel(model_name='fc-300-10', model_type=Sequential(), \n",
    "                       input_dim=784, layers=(300, 10), \n",
    "                       activation='sigmoid', output_activation='softmax',\n",
    "                       verbose=0)\n",
    "\n",
    "print('Compiling model...')\n",
    "model_a.compile(loss='categorical_crossentropy',\n",
    "              optimizer=SGD(lr=0.1, decay=1e-6, momentum=0.9, nesterov=True),\n",
    "              metrics=['error'])\n",
    "\n",
    "print('Training model...')\n",
    "model_a.fit(X_train, y_train, nb_epoch=NB_EPOCH, batch_size=BATCH)\n",
    "\n",
    "print('Evaluating model...')\n",
    "model_a.evaluate(X_test, y_test, batch_size=BATCH)\n",
    "\n",
    "print('\\n{} test results: {:.4f} error'.format(model_a.model_name, model_a.report()['results']['error']))"
   ]
  },
  {
   "cell_type": "code",
   "execution_count": 121,
   "metadata": {
    "collapsed": false
   },
   "outputs": [
    {
     "name": "stdout",
     "output_type": "stream",
     "text": [
      "Creating Keras model...\n",
      "Compiling model...\n",
      "Training model...\n",
      "Evaluating model...\n",
      " 8960/10000 [=========================>....] - ETA: 0s\n",
      "fc-1000-10 test results: 0.0266 error\n"
     ]
    }
   ],
   "source": [
    "# FC 1000-10\n",
    "print('Creating Keras model...')\n",
    "model_a = KerasFCModel(model_name='fc-1000-10', model_type=Sequential(), \n",
    "                       input_dim=784, layers=(1000, 10), \n",
    "                       activation='sigmoid', output_activation='softmax',\n",
    "                       verbose=0)\n",
    "\n",
    "print('Compiling model...')\n",
    "model_a.compile(loss='categorical_crossentropy',\n",
    "              optimizer=SGD(lr=0.1, decay=1e-6, momentum=0.9, nesterov=True),\n",
    "              metrics=['error'])\n",
    "\n",
    "print('Training model...')\n",
    "model_a.fit(X_train, y_train, nb_epoch=NB_EPOCH, batch_size=BATCH)\n",
    "\n",
    "print('Evaluating model...')\n",
    "model_a.evaluate(X_test, y_test, batch_size=BATCH)\n",
    "\n",
    "print('\\n{} test results: {:.4f} error'.format(model_a.model_name, model_a.report()['results']['error']))"
   ]
  },
  {
   "cell_type": "code",
   "execution_count": 122,
   "metadata": {
    "collapsed": false
   },
   "outputs": [
    {
     "name": "stdout",
     "output_type": "stream",
     "text": [
      "Creating Keras model...\n",
      "Compiling model...\n",
      "Training model...\n",
      "Evaluating model...\n",
      " 9472/10000 [===========================>..] - ETA: 0s\n",
      "fc-300-100-10 test results: 0.2449 error\n"
     ]
    }
   ],
   "source": [
    "# FC 300-100-10\n",
    "print('Creating Keras model...')\n",
    "model_a = KerasFCModel(model_name='fc-300-100-10', model_type=Sequential(), \n",
    "                       input_dim=784, layers=(300, 100, 10), \n",
    "                       activation='sigmoid', output_activation='softmax',\n",
    "                       verbose=0)\n",
    "\n",
    "print('Compiling model...')\n",
    "model_a.compile(loss='categorical_crossentropy',\n",
    "              optimizer=SGD(lr=0.1, decay=1e-6, momentum=0.9, nesterov=True),\n",
    "              metrics=['error'])\n",
    "\n",
    "print('Training model...')\n",
    "model_a.fit(X_train, y_train, nb_epoch=NB_EPOCH, batch_size=BATCH)\n",
    "\n",
    "print('Evaluating model...')\n",
    "model_a.evaluate(X_test, y_test, batch_size=BATCH)\n",
    "\n",
    "print('\\n{} test results: {:.4f} error'.format(model_a.model_name, model_a.report()['results']['error']))"
   ]
  },
  {
   "cell_type": "code",
   "execution_count": 123,
   "metadata": {
    "collapsed": false
   },
   "outputs": [
    {
     "name": "stdout",
     "output_type": "stream",
     "text": [
      "Creating Keras model...\n",
      "Compiling model...\n",
      "Training model...\n",
      "Evaluating model...\n",
      " 8448/10000 [========================>.....] - ETA: 0s\n",
      "fc-500-150-10 test results: 0.3693 error\n"
     ]
    }
   ],
   "source": [
    "# FC 500-150-10\n",
    "print('Creating Keras model...')\n",
    "model_a = KerasFCModel(model_name='fc-500-150-10', model_type=Sequential(), \n",
    "                       input_dim=784, layers=(500, 150, 10), \n",
    "                       activation='sigmoid', output_activation='softmax',\n",
    "                       verbose=0)\n",
    "\n",
    "print('Compiling model...')\n",
    "model_a.compile(loss='categorical_crossentropy',\n",
    "              optimizer=SGD(lr=0.1, decay=1e-6, momentum=0.9, nesterov=True),\n",
    "              metrics=['error'])\n",
    "\n",
    "print('Training model...')\n",
    "model_a.fit(X_train, y_train, nb_epoch=NB_EPOCH, batch_size=BATCH)\n",
    "\n",
    "print('Evaluating model...')\n",
    "model_a.evaluate(X_test, y_test, batch_size=BATCH)\n",
    "\n",
    "print('\\n{} test results: {:.4f} error'.format(model_a.model_name, model_a.report()['results']['error']))"
   ]
  },
  {
   "cell_type": "markdown",
   "metadata": {},
   "source": []
  },
  {
   "cell_type": "code",
   "execution_count": null,
   "metadata": {
    "collapsed": true
   },
   "outputs": [],
   "source": []
  },
  {
   "cell_type": "code",
   "execution_count": null,
   "metadata": {
    "collapsed": true
   },
   "outputs": [],
   "source": []
  },
  {
   "cell_type": "code",
   "execution_count": 139,
   "metadata": {
    "collapsed": false
   },
   "outputs": [
    {
     "name": "stdout",
     "output_type": "stream",
     "text": [
      "Showing training image indexes [11427 43512 10406 21301 31898 23863 38534 13330 52723]\n"
     ]
    },
    {
     "data": {
      "image/png": "[encoded data removed]",
      "text/plain": [
       "<matplotlib.figure.Figure at 0x7f9aac2421d0>"
      ]
     },
     "metadata": {},
     "output_type": "display_data"
    }
   ],
   "source": [
    "# Check a few training values at random as a sanity check\n",
    "def show_label_images(X, y, images=None):\n",
    "    '''Shows random images in a grid\n",
    "    INPUT: X - image data\n",
    "           y - class label\n",
    "           images - indexes of images to show. Randomly selected if None\n",
    "    RETURNS: Nothing.\n",
    "    '''\n",
    "    \n",
    "    num = 3\n",
    "    num_square = num ** 2\n",
    "    \n",
    "    if images is None:\n",
    "        images = np.random.randint(0, X.shape[0], num_square)\n",
    "        \n",
    "    print('Showing training image indexes {}'.format(images))\n",
    "\n",
    "    fig, axes = plt.subplots(num,num, figsize=(8,8))\n",
    "    for idx, val in enumerate(images):\n",
    "        r, c = divmod(idx, num)\n",
    "        ax = axes[r][c]\n",
    "        ax.imshow(X[images[idx]]) # , cmap=plt.cm.binary)\n",
    "        ax.annotate('Label: {}'.format(y[val]), xy=(1, 1))\n",
    "        ax.xaxis.set_visible(False)\n",
    "        ax.yaxis.set_visible(False)\n",
    "\n",
    "show_label_images(square_images(X_train, 28, 28), y_train)\n"
   ]
  },
  {
   "cell_type": "markdown",
   "metadata": {},
   "source": [
    "### Image resizing functions\n"
   ]
  },
  {
   "cell_type": "code",
   "execution_count": null,
   "metadata": {
    "collapsed": false
   },
   "outputs": [],
   "source": [
    "from PIL import Image\n",
    "from tqdm import *\n",
    "\n",
    "def resize_image(image, img_size, back_size, back_color):\n",
    "    '''Resizes the image to `new_size`, pastes in center of backgrond\n",
    "    INPUT: image = Input image\n",
    "           img_size = tuple of images new dimensions\n",
    "           back_size = tuple of new image background dimensions\n",
    "           back_color = color to fill background with\n",
    "    RETURNS: New image\n",
    "    '''\n",
    "\n",
    "    new_img = Image.new('L', back_size, (back_color,))\n",
    "    img = Image.fromarray(image)\n",
    "    img.thumbnail(img_size, Image.ANTIALIAS) \n",
    "\n",
    "    h_diff = int((back_size[0] - img_size[1]) / 2)\n",
    "    w_diff = int((back_size[1] - img_size[1]) / 2)\n",
    "\n",
    "    new_img.paste(img, (h_diff, w_diff))\n",
    "    return np.asarray(new_img)\n",
    "\n",
    "def resize_image_array(X, img_size, back_size, back_color, desc=None):\n",
    "    '''Resizes images held in a numpy array'''\n",
    "    X_out = np.zeros_like(X)\n",
    "    n_images = X.shape[0]\n",
    "    for idx in tqdm(range(n_images), desc=desc): # \"Resizing {} images\".format(n_images)):\n",
    "        X_out[idx] = resize_image(X[idx], img_size, back_size, 0)\n",
    "        \n",
    "    return X_out\n",
    "\n",
    "X_train_resize = resize_image_array(X_train_input, (20,20), (28,28), 0, 'Resizing training images')\n",
    "X_test_resize = resize_image_array(X_test_input, (20,20), (28,28), 0, 'Resizing training images')\n",
    "\n",
    "# Reshape the images so they're a single row in the numpy array\n",
    "X_train_resize = X_train_resize_float.reshape((n_train, w * h))\n",
    "X_test_resize = X_test_resize_float.reshape((n_test, w * h))\n",
    "\n",
    "\n",
    "print('Z-normalizing X data')\n",
    "std = StandardScaler()\n",
    "X_train_resize_float = X_train_resize.astype(np.float32)\n",
    "X_test_resize_float = X_test_resize.astype(np.float32)\n",
    "\n",
    "\n",
    "\n",
    "std.fit(X_train_resize_float.astype(np.float32))\n",
    "X_train = std.transform(X_train_resize_float)\n",
    "X_test = std.transform(X_test_resize_float)\n",
    "\n",
    "\n",
    "\n"
   ]
  },
  {
   "cell_type": "code",
   "execution_count": null,
   "metadata": {
    "collapsed": false
   },
   "outputs": [],
   "source": [
    "print(w, h)"
   ]
  },
  {
   "cell_type": "code",
   "execution_count": null,
   "metadata": {
    "collapsed": false
   },
   "outputs": [],
   "source": [
    "# Model a - 28x28-300-10: 4.7% Error\n",
    "from keras.models import Sequential\n",
    "from keras.layers import Dense, Activation\n",
    "from keras.optimizers import SGD\n",
    "\n",
    "model = Sequential()\n",
    "model.add(Dense(300, input_dim=784))\n",
    "model.add(Activation('sigmoid'))\n",
    "model.add(Dense(10))\n",
    "model.add(Activation('softmax'))\n",
    "print('Model summary:\\n')\n",
    "model.summary()\n",
    "\n",
    "sgd = SGD(lr=0.1, decay=1e-6, momentum=0.9, nesterov=True)\n",
    "model.compile(loss='categorical_crossentropy',\n",
    "              optimizer=sgd,\n",
    "              metrics=['accuracy'])\n",
    "\n",
    "print('\\nTraining model\\n')\n",
    "model.fit(X_train, y_train,\n",
    "          nb_epoch=NB_EPOCH,\n",
    "          batch_size=BATCH,\n",
    "          verbose=2)\n",
    "\n",
    "print('\\nGenerating predictions on test set\\n')\n",
    "scores = model.evaluate(X_test, y_test, batch_size=BATCH)\n",
    "errors = [1.0 - score for score in scores]\n",
    "\n",
    "print('\\n\\nTest set training error {:.4f}, test error {:.4f}'.format(errors[0], errors[1]))"
   ]
  },
  {
   "cell_type": "code",
   "execution_count": null,
   "metadata": {
    "collapsed": false
   },
   "outputs": [],
   "source": [
    "model.summary()"
   ]
  },
  {
   "cell_type": "markdown",
   "metadata": {},
   "source": [
    "## "
   ]
  },
  {
   "cell_type": "code",
   "execution_count": null,
   "metadata": {
    "collapsed": true
   },
   "outputs": [],
   "source": []
  }
 ],
 "metadata": {
  "anaconda-cloud": {},
  "kernelspec": {
   "display_name": "Python [conda env:tensorflow]",
   "language": "python",
   "name": "conda-env-tensorflow-py"
  },
  "language_info": {
   "codemirror_mode": {
    "name": "ipython",
    "version": 3
   },
   "file_extension": ".py",
   "mimetype": "text/x-python",
   "name": "python",
   "nbconvert_exporter": "python",
   "pygments_lexer": "ipython3",
   "version": "3.5.2"
  }
 },
 "nbformat": 4,
 "nbformat_minor": 2
}
